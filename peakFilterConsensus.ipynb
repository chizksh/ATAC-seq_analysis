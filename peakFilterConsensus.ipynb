{
 "cells": [
  {
   "cell_type": "markdown",
   "metadata": {},
   "source": [
    "# Analysis after Peak-calling with MACS2"
   ]
  },
  {
   "cell_type": "raw",
   "metadata": {},
   "source": [
    "==> Sham1A_peaks.broadPeak <==\n",
    "Chrom, start, end, name, int(-10*log10pvalue), . , fold-change, -log10pval, -log10qval\n",
    "\n",
    "chr1    3012497 3012785 Sham1A_peak_1   3       .       1.92979 1.88640 0.32755\n",
    "chr1    3027637 3028381 Sham1A_peak_2   0       .       1.66762 1.36403 0.00738\n",
    "...\n",
    "\n",
    "pandas data pre-processing\n",
    "p < 0.05, 250-bp threshold\n",
    "[https://github.com/hms-dbmi/UpSetR](https://github.com/hms-dbmi/UpSetR)"
   ]
  },
  {
   "cell_type": "code",
   "execution_count": 24,
   "metadata": {},
   "outputs": [],
   "source": [
    "%matplotlib inline\n",
    "import pandas as pd\n",
    "import numpy as np\n",
    "import matplotlib.pyplot as plt"
   ]
  },
  {
   "cell_type": "code",
   "execution_count": 86,
   "metadata": {},
   "outputs": [],
   "source": [
    "def readBroadPeak(file, qthreshold=0.01, lenthreshold=250):\n",
    "    data = pd.read_csv(file, sep='\\t', header=None, \n",
    "            names = ['Chrom', 'start', 'end', 'name', 'score', '.', 'fc', 'neglogp', 'neglogq'])\n",
    "    data['len'] = abs(data['start'] - data['end'])\n",
    "    export_data = data[(data.neglogq >= (-1)*np.log10(qthreshold)) & (data.len >= lenthreshold)]\n",
    "    export_data = export_data.drop(columns=['len'])\n",
    "    return export_data"
   ]
  },
  {
   "cell_type": "code",
   "execution_count": 88,
   "metadata": {},
   "outputs": [],
   "source": [
    "IRI1A = readBroadPeak('./IRI1A_peaks.broadPeak')\n",
    "IRI2A = readBroadPeak('./IRI2A_peaks.broadPeak')\n",
    "SHAM1A = readBroadPeak('./Sham1A_peaks.broadPeak')\n",
    "SHAM2A =  readBroadPeak('./Sham2A_peaks.broadPeak')"
   ]
  },
  {
   "cell_type": "code",
   "execution_count": 89,
   "metadata": {},
   "outputs": [],
   "source": [
    "IRI1A.to_csv(\"./IRI1A_peaks.q.01.len250.broadPeak\", header=False, sep='\\t', index=False)\n",
    "IRI2A.to_csv(\"./IRI2A_peaks.q.01.len250.broadPeak\", header=False, sep='\\t', index=False)\n",
    "SHAM1A.to_csv(\"./SHAM1A_peaks.q.01.len250.broadPeak\", header=False, sep='\\t', index=False)\n",
    "SHAM2A.to_csv(\"./SHAM2A_peaks.q.01.len250.broadPeak\", header=False, sep='\\t', index=False)"
   ]
  },
  {
   "cell_type": "code",
   "execution_count": 90,
   "metadata": {},
   "outputs": [
    {
     "data": {
      "text/html": [
       "<div>\n",
       "<style scoped>\n",
       "    .dataframe tbody tr th:only-of-type {\n",
       "        vertical-align: middle;\n",
       "    }\n",
       "\n",
       "    .dataframe tbody tr th {\n",
       "        vertical-align: top;\n",
       "    }\n",
       "\n",
       "    .dataframe thead th {\n",
       "        text-align: right;\n",
       "    }\n",
       "</style>\n",
       "<table border=\"1\" class=\"dataframe\">\n",
       "  <thead>\n",
       "    <tr style=\"text-align: right;\">\n",
       "      <th></th>\n",
       "      <th>start</th>\n",
       "      <th>end</th>\n",
       "      <th>score</th>\n",
       "      <th>fc</th>\n",
       "      <th>neglogp</th>\n",
       "      <th>neglogq</th>\n",
       "    </tr>\n",
       "  </thead>\n",
       "  <tbody>\n",
       "    <tr>\n",
       "      <td>count</td>\n",
       "      <td>8.290200e+04</td>\n",
       "      <td>8.290200e+04</td>\n",
       "      <td>82902.000000</td>\n",
       "      <td>82902.000000</td>\n",
       "      <td>82902.000000</td>\n",
       "      <td>82902.000000</td>\n",
       "    </tr>\n",
       "    <tr>\n",
       "      <td>mean</td>\n",
       "      <td>7.474784e+07</td>\n",
       "      <td>7.474873e+07</td>\n",
       "      <td>165.733300</td>\n",
       "      <td>4.345791</td>\n",
       "      <td>18.603464</td>\n",
       "      <td>16.623200</td>\n",
       "    </tr>\n",
       "    <tr>\n",
       "      <td>std</td>\n",
       "      <td>4.395640e+07</td>\n",
       "      <td>4.395640e+07</td>\n",
       "      <td>225.955258</td>\n",
       "      <td>1.736312</td>\n",
       "      <td>22.839966</td>\n",
       "      <td>22.595563</td>\n",
       "    </tr>\n",
       "    <tr>\n",
       "      <td>min</td>\n",
       "      <td>8.085650e+05</td>\n",
       "      <td>8.102000e+05</td>\n",
       "      <td>20.000000</td>\n",
       "      <td>1.586580</td>\n",
       "      <td>3.482290</td>\n",
       "      <td>2.000030</td>\n",
       "    </tr>\n",
       "    <tr>\n",
       "      <td>25%</td>\n",
       "      <td>3.688139e+07</td>\n",
       "      <td>3.688208e+07</td>\n",
       "      <td>39.000000</td>\n",
       "      <td>3.028540</td>\n",
       "      <td>5.757837</td>\n",
       "      <td>3.972822</td>\n",
       "    </tr>\n",
       "    <tr>\n",
       "      <td>50%</td>\n",
       "      <td>7.251729e+07</td>\n",
       "      <td>7.251784e+07</td>\n",
       "      <td>80.000000</td>\n",
       "      <td>3.824855</td>\n",
       "      <td>9.972725</td>\n",
       "      <td>8.065150</td>\n",
       "    </tr>\n",
       "    <tr>\n",
       "      <td>75%</td>\n",
       "      <td>1.075940e+08</td>\n",
       "      <td>1.075951e+08</td>\n",
       "      <td>191.000000</td>\n",
       "      <td>5.201398</td>\n",
       "      <td>21.297007</td>\n",
       "      <td>19.195873</td>\n",
       "    </tr>\n",
       "    <tr>\n",
       "      <td>max</td>\n",
       "      <td>1.952320e+08</td>\n",
       "      <td>1.952331e+08</td>\n",
       "      <td>2950.000000</td>\n",
       "      <td>17.592900</td>\n",
       "      <td>298.922850</td>\n",
       "      <td>295.039490</td>\n",
       "    </tr>\n",
       "  </tbody>\n",
       "</table>\n",
       "</div>"
      ],
      "text/plain": [
       "              start           end         score            fc       neglogp  \\\n",
       "count  8.290200e+04  8.290200e+04  82902.000000  82902.000000  82902.000000   \n",
       "mean   7.474784e+07  7.474873e+07    165.733300      4.345791     18.603464   \n",
       "std    4.395640e+07  4.395640e+07    225.955258      1.736312     22.839966   \n",
       "min    8.085650e+05  8.102000e+05     20.000000      1.586580      3.482290   \n",
       "25%    3.688139e+07  3.688208e+07     39.000000      3.028540      5.757837   \n",
       "50%    7.251729e+07  7.251784e+07     80.000000      3.824855      9.972725   \n",
       "75%    1.075940e+08  1.075951e+08    191.000000      5.201398     21.297007   \n",
       "max    1.952320e+08  1.952331e+08   2950.000000     17.592900    298.922850   \n",
       "\n",
       "            neglogq  \n",
       "count  82902.000000  \n",
       "mean      16.623200  \n",
       "std       22.595563  \n",
       "min        2.000030  \n",
       "25%        3.972822  \n",
       "50%        8.065150  \n",
       "75%       19.195873  \n",
       "max      295.039490  "
      ]
     },
     "execution_count": 90,
     "metadata": {},
     "output_type": "execute_result"
    }
   ],
   "source": [
    "IRI1A.describe()"
   ]
  },
  {
   "cell_type": "code",
   "execution_count": 91,
   "metadata": {},
   "outputs": [
    {
     "data": {
      "text/plain": [
       "<matplotlib.collections.PathCollection at 0x7f61f05877b8>"
      ]
     },
     "execution_count": 91,
     "metadata": {},
     "output_type": "execute_result"
    },
    {
     "data": {
      "image/png": "[encoded data removed]",
      "text/plain": [
       "<Figure size 432x288 with 1 Axes>"
      ]
     },
     "metadata": {
      "needs_background": "light"
     },
     "output_type": "display_data"
    }
   ],
   "source": [
    "plt.scatter(np.log2(IRI1A.fc), IRI1A.neglogq)"
   ]
  },
  {
   "cell_type": "code",
   "execution_count": 40,
   "metadata": {},
   "outputs": [],
   "source": [
    "import rpy2.ipython\n",
    "%reload_ext rpy2.ipython\n",
    "\n",
    "# suppress excessive warnings such as RRuntimeWarning\n",
    "import warnings\n",
    "from rpy2.rinterface import RRuntimeWarning\n",
    "warnings.filterwarnings(\"ignore\", category=RRuntimeWarning)"
   ]
  },
  {
   "cell_type": "markdown",
   "metadata": {},
   "source": [
    "## Calling consensus peaks in Bioconductor\n",
    "\n",
    "- Ref : https://ro-che.info/articles/2018-07-11-chip-seq-consensus"
   ]
  },
  {
   "cell_type": "code",
   "execution_count": 61,
   "metadata": {},
   "outputs": [],
   "source": [
    "%%R\n",
    "library(UpSetR)\n",
    "library(rtracklayer)\n",
    "library(GenomicRanges)"
   ]
  },
  {
   "cell_type": "markdown",
   "metadata": {},
   "source": [
    "## Getting total union peak set [No filter]"
   ]
  },
  {
   "cell_type": "code",
   "execution_count": 65,
   "metadata": {},
   "outputs": [
    {
     "data": {
      "text/plain": [
       "[1] \"IRI1A_peaks.broadPeak\"  \"IRI2A_peaks.broadPeak\"  \"Sham1A_peaks.broadPeak\"\n",
       "[4] \"Sham2A_peaks.broadPeak\"\n"
      ]
     },
     "metadata": {},
     "output_type": "display_data"
    }
   ],
   "source": [
    "%%R\n",
    "macs2_peak_files_unfiltered.files <- list.files(pattern =\".*\\\\peaks.broadPeak\")\n",
    "macs2_peak_files_unfiltered.files"
   ]
  },
  {
   "cell_type": "code",
   "execution_count": 66,
   "metadata": {},
   "outputs": [
    {
     "data": {
      "text/plain": [
       "[[1]]\n",
       "GRanges object with 240761 ranges and 5 metadata columns:\n",
       "           seqnames            ranges strand |              name     score\n",
       "              <Rle>         <IRanges>  <Rle> |       <character> <numeric>\n",
       "       [1]     chr1   3012435-3012743      * |      IRI1A_peak_1         0\n",
       "       [2]     chr1   3014527-3015640      * |      IRI1A_peak_2         0\n",
       "       [3]     chr1   3019513-3019738      * |      IRI1A_peak_3         0\n",
       "       [4]     chr1   3026870-3027493      * |      IRI1A_peak_4         0\n",
       "       [5]     chr1   3039077-3039284      * |      IRI1A_peak_5         3\n",
       "       ...      ...               ...    ... .               ...       ...\n",
       "  [240757]     chrY   9881596-9881797      * | IRI1A_peak_240757         0\n",
       "  [240758]     chrY 10043114-10043337      * | IRI1A_peak_240758         0\n",
       "  [240759]     chrY 10512796-10513008      * | IRI1A_peak_240759         1\n",
       "  [240760]     chrY 41123356-41123789      * | IRI1A_peak_240760         0\n",
       "  [240761]     chrY 41153398-41153576      * | IRI1A_peak_240761         0\n",
       "           signalValue    pValue    qValue\n",
       "             <numeric> <numeric> <numeric>\n",
       "       [1]     1.61457   1.29462   0.01233\n",
       "       [2]     1.61795   1.30046   0.01212\n",
       "       [3]     1.53534    1.1552         0\n",
       "       [4]     1.55678   1.19244         0\n",
       "       [5]     1.88889   1.82303    0.3052\n",
       "       ...         ...       ...       ...\n",
       "  [240757]     1.63741   1.33252         0\n",
       "  [240758]     1.53534    1.1552         0\n",
       "  [240759]     1.72893   1.50878   0.11976\n",
       "  [240760]     1.75399    1.5494   0.09846\n",
       "  [240761]     1.53534    1.1552         0\n",
       "  -------\n",
       "  seqinfo: 21 sequences from an unspecified genome; no seqlengths\n",
       "\n",
       "[[2]]\n",
       "GRanges object with 197128 ranges and 5 metadata columns:\n",
       "           seqnames            ranges strand |              name     score\n",
       "              <Rle>         <IRanges>  <Rle> |       <character> <numeric>\n",
       "       [1]     chr1   3012527-3012729      * |      IRI2A_peak_1         0\n",
       "       [2]     chr1   3042717-3043645      * |      IRI2A_peak_2         2\n",
       "       [3]     chr1   3098869-3099091      * |      IRI2A_peak_3         0\n",
       "       [4]     chr1   3110194-3110367      * |      IRI2A_peak_4         0\n",
       "       [5]     chr1   3116862-3117026      * |      IRI2A_peak_5         5\n",
       "       ...      ...               ...    ... .               ...       ...\n",
       "  [197124]     chrY   4386768-4387278      * | IRI2A_peak_197124         2\n",
       "  [197125]     chrY   6157836-6158054      * | IRI2A_peak_197125         2\n",
       "  [197126]     chrY   9479307-9479580      * | IRI2A_peak_197126         0\n",
       "  [197127]     chrY   9510984-9511229      * | IRI2A_peak_197127         0\n",
       "  [197128]     chrY 10195301-10195528      * | IRI2A_peak_197128         0\n",
       "           signalValue    pValue    qValue\n",
       "             <numeric> <numeric> <numeric>\n",
       "       [1]     1.75179   1.47369   0.09889\n",
       "       [2]     1.83027   1.62584   0.23513\n",
       "       [3]     1.59826   1.21341         0\n",
       "       [4]     1.77766    1.5083   0.04551\n",
       "       [5]     2.09479   2.20543   0.58784\n",
       "       ...         ...       ...       ...\n",
       "  [197124]     1.87754   1.72016   0.28296\n",
       "  [197125]     1.97168   1.84487   0.22835\n",
       "  [197126]     1.64949   1.29662   0.00541\n",
       "  [197127]     1.63616   1.27497   0.00401\n",
       "  [197128]     1.66961    1.3293   0.00754\n",
       "  -------\n",
       "  seqinfo: 21 sequences from an unspecified genome; no seqlengths\n",
       "\n",
       "[[3]]\n",
       "GRanges object with 217160 ranges and 5 metadata columns:\n",
       "           seqnames            ranges strand |               name     score\n",
       "              <Rle>         <IRanges>  <Rle> |        <character> <numeric>\n",
       "       [1]     chr1   3012498-3012785      * |      Sham1A_peak_1         3\n",
       "       [2]     chr1   3027638-3028381      * |      Sham1A_peak_2         0\n",
       "       [3]     chr1   3030243-3030668      * |      Sham1A_peak_3         0\n",
       "       [4]     chr1   3040235-3041054      * |      Sham1A_peak_4         6\n",
       "       [5]     chr1   3041768-3042279      * |      Sham1A_peak_5         1\n",
       "       ...      ...               ...    ... .                ...       ...\n",
       "  [217156]     chrY 10412810-10413013      * | Sham1A_peak_217156         6\n",
       "  [217157]     chrY 10454461-10454848      * | Sham1A_peak_217157         0\n",
       "  [217158]     chrY 10512787-10513033      * | Sham1A_peak_217158        10\n",
       "  [217159]     chrY 41089491-41089671      * | Sham1A_peak_217159         0\n",
       "  [217160]     chrY 41122766-41123933      * | Sham1A_peak_217160         1\n",
       "           signalValue    pValue    qValue\n",
       "             <numeric> <numeric> <numeric>\n",
       "       [1]     1.92979    1.8864   0.32755\n",
       "       [2]     1.66762   1.36403   0.00738\n",
       "       [3]     1.62373   1.28651         0\n",
       "       [4]     2.01768   2.12905   0.60705\n",
       "       [5]     1.79634   1.60229   0.11264\n",
       "       ...         ...       ...       ...\n",
       "  [217156]      2.1411   2.33881   0.66926\n",
       "  [217157]     1.62373   1.28651         0\n",
       "  [217158]      2.4032   2.86302   1.09058\n",
       "  [217159]     1.62373   1.28651         0\n",
       "  [217160]     1.82832   1.67079   0.16628\n",
       "  -------\n",
       "  seqinfo: 21 sequences from an unspecified genome; no seqlengths\n",
       "\n",
       "[[4]]\n",
       "GRanges object with 197030 ranges and 5 metadata columns:\n",
       "           seqnames            ranges strand |               name     score\n",
       "              <Rle>         <IRanges>  <Rle> |        <character> <numeric>\n",
       "       [1]     chr1   3003427-3003870      * |      Sham2A_peak_1         3\n",
       "       [2]     chr1   3039085-3039257      * |      Sham2A_peak_2         1\n",
       "       [3]     chr1   3040241-3040979      * |      Sham2A_peak_3         4\n",
       "       [4]     chr1   3041768-3043682      * |      Sham2A_peak_4        12\n",
       "       [5]     chr1   3046636-3047259      * |      Sham2A_peak_5         1\n",
       "       ...      ...               ...    ... .                ...       ...\n",
       "  [197026]     chrY 10214159-10214863      * | Sham2A_peak_197026         0\n",
       "  [197027]     chrY 10474041-10474468      * | Sham2A_peak_197027         0\n",
       "  [197028]     chrY 10561059-10561294      * | Sham2A_peak_197028         5\n",
       "  [197029]     chrY 41123190-41123933      * | Sham2A_peak_197029        14\n",
       "  [197030]     chrY 41153012-41153221      * | Sham2A_peak_197030         6\n",
       "           signalValue    pValue    qValue\n",
       "             <numeric> <numeric> <numeric>\n",
       "       [1]     1.95421   2.01721   0.36153\n",
       "       [2]     1.83844   1.75927   0.14273\n",
       "       [3]     1.99532   2.12464   0.49481\n",
       "       [4]     2.24747    2.8518   1.20504\n",
       "       [5]     1.76497   1.61962   0.12483\n",
       "       ...         ...       ...       ...\n",
       "  [197026]     1.62582   1.34257   0.00493\n",
       "  [197027]     1.60488   1.30295   0.00186\n",
       "  [197028]     1.97172   2.08275   0.51553\n",
       "  [197029]     2.36495   3.14996   1.42998\n",
       "  [197030]     2.09835   2.34705   0.64748\n",
       "  -------\n",
       "  seqinfo: 21 sequences from an unspecified genome; no seqlengths\n",
       "\n"
      ]
     },
     "metadata": {},
     "output_type": "display_data"
    }
   ],
   "source": [
    "%%R\n",
    "macs2_peak_files_unfiltered.granges <- lapply(macs2_peak_files_unfiltered.files, import)\n",
    "macs2_peak_files_unfiltered.granges"
   ]
  },
  {
   "cell_type": "code",
   "execution_count": 67,
   "metadata": {},
   "outputs": [
    {
     "data": {
      "text/plain": [
       "GRangesList object of length 4:\n",
       "[[1]] \n",
       "GRanges object with 240761 ranges and 5 metadata columns:\n",
       "           seqnames            ranges strand |              name     score\n",
       "              <Rle>         <IRanges>  <Rle> |       <character> <numeric>\n",
       "       [1]     chr1   3012435-3012743      * |      IRI1A_peak_1         0\n",
       "       [2]     chr1   3014527-3015640      * |      IRI1A_peak_2         0\n",
       "       [3]     chr1   3019513-3019738      * |      IRI1A_peak_3         0\n",
       "       [4]     chr1   3026870-3027493      * |      IRI1A_peak_4         0\n",
       "       [5]     chr1   3039077-3039284      * |      IRI1A_peak_5         3\n",
       "       ...      ...               ...    ... .               ...       ...\n",
       "  [240757]     chrY   9881596-9881797      * | IRI1A_peak_240757         0\n",
       "  [240758]     chrY 10043114-10043337      * | IRI1A_peak_240758         0\n",
       "  [240759]     chrY 10512796-10513008      * | IRI1A_peak_240759         1\n",
       "  [240760]     chrY 41123356-41123789      * | IRI1A_peak_240760         0\n",
       "  [240761]     chrY 41153398-41153576      * | IRI1A_peak_240761         0\n",
       "           signalValue    pValue    qValue\n",
       "             <numeric> <numeric> <numeric>\n",
       "       [1]     1.61457   1.29462   0.01233\n",
       "       [2]     1.61795   1.30046   0.01212\n",
       "       [3]     1.53534    1.1552         0\n",
       "       [4]     1.55678   1.19244         0\n",
       "       [5]     1.88889   1.82303    0.3052\n",
       "       ...         ...       ...       ...\n",
       "  [240757]     1.63741   1.33252         0\n",
       "  [240758]     1.53534    1.1552         0\n",
       "  [240759]     1.72893   1.50878   0.11976\n",
       "  [240760]     1.75399    1.5494   0.09846\n",
       "  [240761]     1.53534    1.1552         0\n",
       "\n",
       "...\n",
       "<3 more elements>\n",
       "-------\n",
       "seqinfo: 21 sequences from an unspecified genome; no seqlengths\n"
      ]
     },
     "metadata": {},
     "output_type": "display_data"
    }
   ],
   "source": [
    "%%R\n",
    "macs2_peak_files_unfiltered.grangeslist <- GRangesList(macs2_peak_files_unfiltered.granges)\n",
    "macs2_peak_files_unfiltered.grangeslist"
   ]
  },
  {
   "cell_type": "code",
   "execution_count": 68,
   "metadata": {},
   "outputs": [
    {
     "data": {
      "text/plain": [
       "RleList of length 21\n",
       "$chr1\n",
       "integer-Rle of length 195309171 with 149926 runs\n",
       "  Lengths: 3003426     444    8564      63 ...      20     187      83      10\n",
       "  Values :       0       1       0       1 ...       1       3       2       1\n",
       "\n",
       "$chr10\n",
       "integer-Rle of length 130542265 with 96465 runs\n",
       "  Lengths: 3170106     190    2598     164 ...     605       1      34       4\n",
       "  Values :       0       1       0       1 ...       4       3       2       1\n",
       "\n",
       "$chr11\n",
       "integer-Rle of length 121977616 with 82210 runs\n",
       "  Lengths: 3201954     115       7       1 ...    9015     290   11267     190\n",
       "  Values :       0       1       2       3 ...       0       1       0       1\n",
       "\n",
       "$chr12\n",
       "integer-Rle of length 120002754 with 84471 runs\n",
       "  Lengths: 3098110      26       3      15 ...     271     184    9280     193\n",
       "  Values :       0       1       2       3 ...       2       1       0       1\n",
       "\n",
       "$chr13\n",
       "integer-Rle of length 120313820 with 80142 runs\n",
       "  Lengths: 3045440     177     212      12 ...    1917     261    8782     743\n",
       "  Values :       0       1       2       1 ...       0       1       0       1\n",
       "\n",
       "...\n",
       "<16 more elements>\n"
      ]
     },
     "metadata": {},
     "output_type": "display_data"
    }
   ],
   "source": [
    "%%R\n",
    "macs2_peak_files_unfiltered.coverage <- coverage(macs2_peak_files_unfiltered.grangeslist)\n",
    "macs2_peak_files_unfiltered.coverage"
   ]
  },
  {
   "cell_type": "code",
   "execution_count": 77,
   "metadata": {},
   "outputs": [
    {
     "data": {
      "text/plain": [
       "GRanges object with 374668 ranges and 0 metadata columns:\n",
       "           seqnames            ranges strand\n",
       "              <Rle>         <IRanges>  <Rle>\n",
       "       [1]     chr1   3003427-3003870      *\n",
       "       [2]     chr1   3012435-3012785      *\n",
       "       [3]     chr1   3014527-3015640      *\n",
       "       [4]     chr1   3019513-3019738      *\n",
       "       [5]     chr1   3026870-3027493      *\n",
       "       ...      ...               ...    ...\n",
       "  [374664]     chrY 10561059-10561294      *\n",
       "  [374665]     chrY 41089491-41089671      *\n",
       "  [374666]     chrY 41122766-41123933      *\n",
       "  [374667]     chrY 41153012-41153221      *\n",
       "  [374668]     chrY 41153398-41153576      *\n",
       "  -------\n",
       "  seqinfo: 21 sequences from an unspecified genome; no seqlengths\n"
      ]
     },
     "metadata": {},
     "output_type": "display_data"
    }
   ],
   "source": [
    "%%R\n",
    "# slice function : https://support.bioconductor.org/p/83326/\n",
    "# https://www.rdocumentation.org/packages/IRanges/versions/2.6.1/topics/slice-methods\n",
    "# lower : the regions in the genome where coverage is at least 2\n",
    "macs2_peak_files_unfiltered.covered_ranges <- slice(macs2_peak_files_unfiltered.coverage, lower=1, rangesOnly=T)\n",
    "macs2_peak_files_unfiltered.covered_ranges <- GRanges(macs2_peak_files_unfiltered.covered_ranges)\n",
    "macs2_peak_files_unfiltered.covered_ranges"
   ]
  },
  {
   "cell_type": "markdown",
   "metadata": {},
   "source": [
    "#### Total Union peak : 374,668 peaks"
   ]
  },
  {
   "cell_type": "code",
   "execution_count": 79,
   "metadata": {},
   "outputs": [
    {
     "data": {
      "text/plain": [
       "GRanges object with 357013 ranges and 0 metadata columns:\n",
       "           seqnames            ranges strand\n",
       "              <Rle>         <IRanges>  <Rle>\n",
       "       [1]     chr1   3003427-3003870      *\n",
       "       [2]     chr1   3012435-3012785      *\n",
       "       [3]     chr1   3014527-3015640      *\n",
       "       [4]     chr1   3019513-3019738      *\n",
       "       [5]     chr1   3026870-3028381      *\n",
       "       ...      ...               ...    ...\n",
       "  [357009]     chrY 10512787-10513033      *\n",
       "  [357010]     chrY 10561059-10561294      *\n",
       "  [357011]     chrY 41089491-41089671      *\n",
       "  [357012]     chrY 41122766-41123933      *\n",
       "  [357013]     chrY 41153012-41153576      *\n",
       "  -------\n",
       "  seqinfo: 21 sequences from an unspecified genome; no seqlengths\n"
      ]
     },
     "metadata": {},
     "output_type": "display_data"
    }
   ],
   "source": [
    "%%R\n",
    "# reduce function: reduce returns an object of the same type as x containing reduced ranges for each distinct\n",
    "# (seqname, strand) pairing. The names (names(x)) and the metadata columns in x are dropped.\n",
    "# See ?reduce for more information about range reduction and for a description of the optional arguments.\n",
    "# More : https://www.rdocumentation.org/packages/GenomicRanges/versions/1.24.1/topics/inter-range-methods\n",
    "macs2_peak_files_unfiltered.merged_covered_ranges <- reduce(macs2_peak_files_unfiltered.covered_ranges, \n",
    "                                                            min.gapwidth=500)\n",
    "\n",
    "macs2_peak_files_unfiltered.merged_covered_ranges"
   ]
  },
  {
   "cell_type": "markdown",
   "metadata": {},
   "source": [
    "#### Merged Union peaks (nearby threshold 500bp) : 357,013"
   ]
  },
  {
   "cell_type": "code",
   "execution_count": 80,
   "metadata": {},
   "outputs": [],
   "source": [
    "%%R\n",
    "export(macs2_peak_files_unfiltered.merged_covered_ranges, \"post_macs2_peak-calling_consensus.noFilter.UNION.broadPeak.bed\")"
   ]
  },
  {
   "cell_type": "markdown",
   "metadata": {},
   "source": [
    "## Getting total union peak set [Filter FDR <= 0.01, len >= 250]"
   ]
  },
  {
   "cell_type": "code",
   "execution_count": 93,
   "metadata": {},
   "outputs": [
    {
     "data": {
      "text/plain": [
       "GRanges object with 107460 ranges and 0 metadata columns:\n",
       "           seqnames          ranges strand\n",
       "              <Rle>       <IRanges>  <Rle>\n",
       "       [1]     chr1 3116593-3117640      *\n",
       "       [2]     chr1 3119338-3121591      *\n",
       "       [3]     chr1 3126063-3126476      *\n",
       "       [4]     chr1 3154842-3157891      *\n",
       "       [5]     chr1 3176551-3176879      *\n",
       "       ...      ...             ...    ...\n",
       "  [107456]     chrY 1254838-1255276      *\n",
       "  [107457]     chrY 2308813-2309456      *\n",
       "  [107458]     chrY 5670911-5671236      *\n",
       "  [107459]     chrY 5920093-5920381      *\n",
       "  [107460]     chrY 9389661-9390192      *\n",
       "  -------\n",
       "  seqinfo: 21 sequences from an unspecified genome; no seqlengths\n"
      ]
     },
     "metadata": {},
     "output_type": "display_data"
    }
   ],
   "source": [
    "%%R\n",
    "macs2_peak_files_filtered.files <- list.files(pattern =\".*\\\\q.01.len250.broadPeak\")\n",
    "macs2_peak_files_filtered.granges <- lapply(macs2_peak_files_filtered.files, import)\n",
    "macs2_peak_files_filtered.grangeslist <- GRangesList(macs2_peak_files_filtered.granges)\n",
    "macs2_peak_files_filtered.coverage <- coverage(macs2_peak_files_filtered.grangeslist)\n",
    "macs2_peak_files_filtered.covered_ranges <- slice(macs2_peak_files_filtered.coverage, lower=1, rangesOnly=T)\n",
    "macs2_peak_files_filtered.covered_ranges <- GRanges(macs2_peak_files_filtered.covered_ranges)\n",
    "macs2_peak_files_filtered.covered_ranges"
   ]
  },
  {
   "cell_type": "code",
   "execution_count": 122,
   "metadata": {},
   "outputs": [
    {
     "data": {
      "text/plain": [
       "DataFrame with 107460 rows and 0 columns\n"
      ]
     },
     "metadata": {},
     "output_type": "display_data"
    }
   ],
   "source": [
    "%%R\n",
    "print(mcols(macs2_peak_files_filtered.covered_ranges))"
   ]
  },
  {
   "cell_type": "markdown",
   "metadata": {},
   "source": [
    "#### Total Union peak : 107,460 peaks"
   ]
  },
  {
   "cell_type": "code",
   "execution_count": 94,
   "metadata": {},
   "outputs": [
    {
     "data": {
      "text/plain": [
       "GRanges object with 107371 ranges and 0 metadata columns:\n",
       "           seqnames          ranges strand\n",
       "              <Rle>       <IRanges>  <Rle>\n",
       "       [1]     chr1 3116593-3117640      *\n",
       "       [2]     chr1 3119338-3121591      *\n",
       "       [3]     chr1 3126063-3126476      *\n",
       "       [4]     chr1 3154842-3157891      *\n",
       "       [5]     chr1 3176551-3176879      *\n",
       "       ...      ...             ...    ...\n",
       "  [107367]     chrY 1254838-1255276      *\n",
       "  [107368]     chrY 2308813-2309456      *\n",
       "  [107369]     chrY 5670911-5671236      *\n",
       "  [107370]     chrY 5920093-5920381      *\n",
       "  [107371]     chrY 9389661-9390192      *\n",
       "  -------\n",
       "  seqinfo: 21 sequences from an unspecified genome; no seqlengths\n"
      ]
     },
     "metadata": {},
     "output_type": "display_data"
    }
   ],
   "source": [
    "%%R\n",
    "macs2_peak_files_filtered.merged_covered_ranges <- reduce(macs2_peak_files_filtered.covered_ranges, \n",
    "                                                            min.gapwidth=500)\n",
    "macs2_peak_files_filtered.merged_covered_ranges"
   ]
  },
  {
   "cell_type": "code",
   "execution_count": 123,
   "metadata": {},
   "outputs": [
    {
     "data": {
      "text/plain": [
       "DataFrame with 107371 rows and 0 columns\n"
      ]
     },
     "metadata": {},
     "output_type": "display_data"
    }
   ],
   "source": [
    "%%R\n",
    "print(mcols(macs2_peak_files_filtered.merged_covered_ranges))"
   ]
  },
  {
   "cell_type": "markdown",
   "metadata": {},
   "source": [
    "#### Merged Union peaks (nearby threshold 500bp) : 107,371"
   ]
  },
  {
   "cell_type": "code",
   "execution_count": 95,
   "metadata": {},
   "outputs": [],
   "source": [
    "%%R\n",
    "export(macs2_peak_files_filtered.merged_covered_ranges,\n",
    "       \"post_macs2_peak-calling_consensus.q.01.len250.UNION.broadPeak.bed\")"
   ]
  },
  {
   "cell_type": "markdown",
   "metadata": {},
   "source": [
    "### Individual files"
   ]
  },
  {
   "cell_type": "code",
   "execution_count": 127,
   "metadata": {},
   "outputs": [],
   "source": [
    "%%R\n",
    "merge_covered_range <- function(pattern=\".*\\\\q.01.len250.broadPeak\") {   \n",
    "    macs2_peak_files_filtered.files <- list.files(pattern=pattern)\n",
    "    macs2_peak_files_filtered.granges <- lapply(macs2_peak_files_filtered.files, import)\n",
    "    macs2_peak_files_filtered.grangeslist <- GRangesList(macs2_peak_files_filtered.granges)\n",
    "    macs2_peak_files_filtered.coverage <- coverage(macs2_peak_files_filtered.grangeslist)\n",
    "    macs2_peak_files_filtered.covered_ranges <- slice(macs2_peak_files_filtered.coverage, lower=1, rangesOnly=T)\n",
    "    macs2_peak_files_filtered.covered_ranges <- GRanges(macs2_peak_files_filtered.covered_ranges)\n",
    "    macs2_peak_files_filtered.covered_ranges\n",
    "    print(mcols(macs2_peak_files_filtered.covered_ranges))\n",
    "    macs2_peak_files_filtered.merged_covered_ranges <- reduce(macs2_peak_files_filtered.covered_ranges, \n",
    "                                                            min.gapwidth=500)\n",
    "    print(mcols(macs2_peak_files_filtered.merged_covered_ranges))\n",
    "   return(macs2_peak_files_filtered.merged_covered_ranges)   \n",
    " }"
   ]
  },
  {
   "cell_type": "markdown",
   "metadata": {},
   "source": [
    "IRI1A"
   ]
  },
  {
   "cell_type": "code",
   "execution_count": 129,
   "metadata": {},
   "outputs": [
    {
     "data": {
      "text/plain": [
       "DataFrame with 82902 rows and 0 columns\n",
       "DataFrame with 82902 rows and 0 columns\n",
       "GRanges object with 82902 ranges and 0 metadata columns:\n",
       "          seqnames          ranges strand\n",
       "             <Rle>       <IRanges>  <Rle>\n",
       "      [1]     chr1 3119639-3120688      *\n",
       "      [2]     chr1 3248952-3249591      *\n",
       "      [3]     chr1 3346784-3350416      *\n",
       "      [4]     chr1 3372578-3373177      *\n",
       "      [5]     chr1 3399855-3401447      *\n",
       "      ...      ...             ...    ...\n",
       "  [82898]     chrY 1009981-1010813      *\n",
       "  [82899]     chrY 1178532-1178922      *\n",
       "  [82900]     chrY 1212311-1212621      *\n",
       "  [82901]     chrY 1244877-1246086      *\n",
       "  [82902]     chrY 5920093-5920381      *\n",
       "  -------\n",
       "  seqinfo: 21 sequences from an unspecified genome; no seqlengths\n"
      ]
     },
     "metadata": {},
     "output_type": "display_data"
    }
   ],
   "source": [
    "%%R\n",
    "merge_covered_range(pattern=\"IRI1A_peaks.q.01.len250.broadPeak\")"
   ]
  },
  {
   "cell_type": "markdown",
   "metadata": {},
   "source": [
    "IRI2A"
   ]
  },
  {
   "cell_type": "code",
   "execution_count": 130,
   "metadata": {},
   "outputs": [
    {
     "data": {
      "text/plain": [
       "DataFrame with 81982 rows and 0 columns\n",
       "DataFrame with 81982 rows and 0 columns\n",
       "GRanges object with 81982 ranges and 0 metadata columns:\n",
       "          seqnames          ranges strand\n",
       "             <Rle>       <IRanges>  <Rle>\n",
       "      [1]     chr1 3119611-3121591      *\n",
       "      [2]     chr1 3248840-3249563      *\n",
       "      [3]     chr1 3349863-3350345      *\n",
       "      [4]     chr1 3372589-3373160      *\n",
       "      [5]     chr1 3399825-3401532      *\n",
       "      ...      ...             ...    ...\n",
       "  [81978]     chrY 1009997-1010824      *\n",
       "  [81979]     chrY 1066936-1067213      *\n",
       "  [81980]     chrY 1178532-1178929      *\n",
       "  [81981]     chrY 1212334-1212585      *\n",
       "  [81982]     chrY 1244692-1246098      *\n",
       "  -------\n",
       "  seqinfo: 21 sequences from an unspecified genome; no seqlengths\n"
      ]
     },
     "metadata": {},
     "output_type": "display_data"
    }
   ],
   "source": [
    "%%R\n",
    "merge_covered_range(pattern=\"IRI2A_peaks.q.01.len250.broadPeak\")"
   ]
  },
  {
   "cell_type": "markdown",
   "metadata": {},
   "source": [
    "SHAM1A"
   ]
  },
  {
   "cell_type": "code",
   "execution_count": 131,
   "metadata": {},
   "outputs": [
    {
     "data": {
      "text/plain": [
       "DataFrame with 77309 rows and 0 columns\n",
       "DataFrame with 77309 rows and 0 columns\n",
       "GRanges object with 77309 ranges and 0 metadata columns:\n",
       "          seqnames          ranges strand\n",
       "             <Rle>       <IRanges>  <Rle>\n",
       "      [1]     chr1 3116796-3117640      *\n",
       "      [2]     chr1 3119338-3120744      *\n",
       "      [3]     chr1 3155407-3156015      *\n",
       "      [4]     chr1 3248813-3251126      *\n",
       "      [5]     chr1 3349863-3350442      *\n",
       "      ...      ...             ...    ...\n",
       "  [77305]     chrY 1244764-1246080      *\n",
       "  [77306]     chrY 1254838-1255276      *\n",
       "  [77307]     chrY 2308823-2309168      *\n",
       "  [77308]     chrY 5670911-5671236      *\n",
       "  [77309]     chrY 9389697-9390192      *\n",
       "  -------\n",
       "  seqinfo: 21 sequences from an unspecified genome; no seqlengths\n"
      ]
     },
     "metadata": {},
     "output_type": "display_data"
    }
   ],
   "source": [
    "%%R\n",
    "merge_covered_range(pattern=\"SHAM1A_peaks.q.01.len250.broadPeak\")"
   ]
  },
  {
   "cell_type": "markdown",
   "metadata": {},
   "source": [
    "SHAM2A"
   ]
  },
  {
   "cell_type": "code",
   "execution_count": 132,
   "metadata": {},
   "outputs": [
    {
     "data": {
      "text/plain": [
       "DataFrame with 81374 rows and 0 columns\n",
       "DataFrame with 81374 rows and 0 columns\n",
       "GRanges object with 81374 ranges and 0 metadata columns:\n",
       "          seqnames          ranges strand\n",
       "             <Rle>       <IRanges>  <Rle>\n",
       "      [1]     chr1 3116593-3117536      *\n",
       "      [2]     chr1 3119604-3120580      *\n",
       "      [3]     chr1 3126063-3126476      *\n",
       "      [4]     chr1 3154842-3157891      *\n",
       "      [5]     chr1 3176551-3176879      *\n",
       "      ...      ...             ...    ...\n",
       "  [81370]     chrY 1212157-1212604      *\n",
       "  [81371]     chrY 1244877-1246082      *\n",
       "  [81372]     chrY 1254841-1255169      *\n",
       "  [81373]     chrY 2308813-2309456      *\n",
       "  [81374]     chrY 9389661-9390019      *\n",
       "  -------\n",
       "  seqinfo: 21 sequences from an unspecified genome; no seqlengths\n"
      ]
     },
     "metadata": {},
     "output_type": "display_data"
    }
   ],
   "source": [
    "%%R\n",
    "merge_covered_range(pattern=\"SHAM2A_peaks.q.01.len250.broadPeak\")"
   ]
  },
  {
   "cell_type": "markdown",
   "metadata": {},
   "source": [
    "### Using R 3.6 Biocmanger for ChIPQC and soGGi"
   ]
  },
  {
   "cell_type": "markdown",
   "metadata": {},
   "source": [
    "https://rockefelleruniversity.github.io/RU_ATAC_Workshop.html#greenleaf-dataset---annotating-open-regions."
   ]
  },
  {
   "cell_type": "markdown",
   "metadata": {},
   "source": [
    "## Load consensus - intersection data -making bedGraph"
   ]
  },
  {
   "cell_type": "code",
   "execution_count": 243,
   "metadata": {},
   "outputs": [],
   "source": [
    "%%R\n",
    "#https://rockefelleruniversity.github.io/RU_ATAC_Workshop.html\n",
    "macs2_peak_files_filtered.files <- list.files(pattern=\".*\\\\q.01.len250.broadPeak\")\n",
    "macs2_peak_files_filtered.granges <- lapply(macs2_peak_files_filtered.files, import)\n",
    "names(macs2_peak_files_filtered.granges) <- c(\"IRI1A\", \"IRI2A\", \"SHAM1A\", \"SHAM2A\")\n",
    "Group <- factor(c(\"IRI\", \"IRI\", \"SHAM\", \"SHAM\"))\n",
    "macs2_peak_files_filtered.grangeslist <- GRangesList(macs2_peak_files_filtered.granges)\n",
    "\n",
    "consensusToCount <- soGGi:::runConsensusRegions(macs2_peak_files_filtered.grangeslist, \"none\")\n",
    "consensusToCount\n",
    "\n"
   ]
  },
  {
   "cell_type": "code",
   "execution_count": null,
   "metadata": {},
   "outputs": [],
   "source": [
    "%%R\n",
    "consensusToCount <- soGGi:::runConsensusRegions(GRangesList(myPeaks), \"none\")\n",
    "consensusToCount"
   ]
  },
  {
   "cell_type": "code",
   "execution_count": null,
   "metadata": {},
   "outputs": [],
   "source": [
    "Pythonic way"
   ]
  },
  {
   "cell_type": "code",
   "execution_count": 205,
   "metadata": {},
   "outputs": [],
   "source": [
    "UNION_bedgraph = pd.read_csv(\"./post_macs2_peak-calling_consensus.q.01.len250.UNION.bedGraph\", sep='\\t', header=None)\n",
    "UNION_bedgraph = UNION_bedgraph[UNION_bedgraph[3] == 1]"
   ]
  },
  {
   "cell_type": "code",
   "execution_count": 219,
   "metadata": {},
   "outputs": [],
   "source": [
    "IRI1A_bedgraph = pd.read_csv(\"./IRI1A_peaks.q.01.len250.bedGraph\", sep='\\t', header=None)\n",
    "IRI1A_bedgraph= IRI1A_bedgraph[IRI1A_bedgraph[3] ==1 ]"
   ]
  },
  {
   "cell_type": "code",
   "execution_count": 216,
   "metadata": {},
   "outputs": [],
   "source": [
    "IRI2A_bedgraph = pd.read_csv(\"./IRI2A_peaks.q.01.len250.bedGraph\", sep='\\t', header=None)\n",
    "IRI2A_bedgraph= IRI2A_bedgraph[IRI2A_bedgraph[3] ==1 ]"
   ]
  },
  {
   "cell_type": "code",
   "execution_count": 217,
   "metadata": {},
   "outputs": [],
   "source": [
    "SHAM1A_bedgraph = pd.read_csv(\"./SHAM1A_peaks.q.01.len250.bedGraph\", sep='\\t', header=None)\n",
    "SHAM1A_bedgraph= SHAM1A_bedgraph[SHAM1A_bedgraph[3] ==1 ]"
   ]
  },
  {
   "cell_type": "code",
   "execution_count": 218,
   "metadata": {},
   "outputs": [],
   "source": [
    "SHAM2A_bedgraph = pd.read_csv(\"./SHAM2A_peaks.q.01.len250.bedGraph\", sep='\\t', header=None)\n",
    "SHAM2A_bedgraph= SHAM2A_bedgraph[SHAM2A_bedgraph[3] ==1 ]"
   ]
  },
  {
   "cell_type": "code",
   "execution_count": 214,
   "metadata": {},
   "outputs": [
    {
     "data": {
      "text/html": [
       "<div>\n",
       "<style scoped>\n",
       "    .dataframe tbody tr th:only-of-type {\n",
       "        vertical-align: middle;\n",
       "    }\n",
       "\n",
       "    .dataframe tbody tr th {\n",
       "        vertical-align: top;\n",
       "    }\n",
       "\n",
       "    .dataframe thead th {\n",
       "        text-align: right;\n",
       "    }\n",
       "</style>\n",
       "<table border=\"1\" class=\"dataframe\">\n",
       "  <thead>\n",
       "    <tr style=\"text-align: right;\">\n",
       "      <th></th>\n",
       "      <th>0</th>\n",
       "      <th>1</th>\n",
       "      <th>2</th>\n",
       "      <th>3</th>\n",
       "    </tr>\n",
       "  </thead>\n",
       "  <tbody>\n",
       "    <tr>\n",
       "      <td>1</td>\n",
       "      <td>chr1</td>\n",
       "      <td>3116592</td>\n",
       "      <td>3117640</td>\n",
       "      <td>1</td>\n",
       "    </tr>\n",
       "    <tr>\n",
       "      <td>3</td>\n",
       "      <td>chr1</td>\n",
       "      <td>3119337</td>\n",
       "      <td>3121591</td>\n",
       "      <td>1</td>\n",
       "    </tr>\n",
       "    <tr>\n",
       "      <td>5</td>\n",
       "      <td>chr1</td>\n",
       "      <td>3126062</td>\n",
       "      <td>3126476</td>\n",
       "      <td>1</td>\n",
       "    </tr>\n",
       "    <tr>\n",
       "      <td>7</td>\n",
       "      <td>chr1</td>\n",
       "      <td>3154841</td>\n",
       "      <td>3157891</td>\n",
       "      <td>1</td>\n",
       "    </tr>\n",
       "    <tr>\n",
       "      <td>9</td>\n",
       "      <td>chr1</td>\n",
       "      <td>3176550</td>\n",
       "      <td>3176879</td>\n",
       "      <td>1</td>\n",
       "    </tr>\n",
       "    <tr>\n",
       "      <td>...</td>\n",
       "      <td>...</td>\n",
       "      <td>...</td>\n",
       "      <td>...</td>\n",
       "      <td>...</td>\n",
       "    </tr>\n",
       "    <tr>\n",
       "      <td>214753</td>\n",
       "      <td>chrY</td>\n",
       "      <td>1254837</td>\n",
       "      <td>1255276</td>\n",
       "      <td>1</td>\n",
       "    </tr>\n",
       "    <tr>\n",
       "      <td>214755</td>\n",
       "      <td>chrY</td>\n",
       "      <td>2308812</td>\n",
       "      <td>2309456</td>\n",
       "      <td>1</td>\n",
       "    </tr>\n",
       "    <tr>\n",
       "      <td>214757</td>\n",
       "      <td>chrY</td>\n",
       "      <td>5670910</td>\n",
       "      <td>5671236</td>\n",
       "      <td>1</td>\n",
       "    </tr>\n",
       "    <tr>\n",
       "      <td>214759</td>\n",
       "      <td>chrY</td>\n",
       "      <td>5920092</td>\n",
       "      <td>5920381</td>\n",
       "      <td>1</td>\n",
       "    </tr>\n",
       "    <tr>\n",
       "      <td>214761</td>\n",
       "      <td>chrY</td>\n",
       "      <td>9389660</td>\n",
       "      <td>9390192</td>\n",
       "      <td>1</td>\n",
       "    </tr>\n",
       "  </tbody>\n",
       "</table>\n",
       "<p>107371 rows × 4 columns</p>\n",
       "</div>"
      ],
      "text/plain": [
       "           0        1        2  3\n",
       "1       chr1  3116592  3117640  1\n",
       "3       chr1  3119337  3121591  1\n",
       "5       chr1  3126062  3126476  1\n",
       "7       chr1  3154841  3157891  1\n",
       "9       chr1  3176550  3176879  1\n",
       "...      ...      ...      ... ..\n",
       "214753  chrY  1254837  1255276  1\n",
       "214755  chrY  2308812  2309456  1\n",
       "214757  chrY  5670910  5671236  1\n",
       "214759  chrY  5920092  5920381  1\n",
       "214761  chrY  9389660  9390192  1\n",
       "\n",
       "[107371 rows x 4 columns]"
      ]
     },
     "execution_count": 214,
     "metadata": {},
     "output_type": "execute_result"
    }
   ],
   "source": [
    "UNION_bedgraph"
   ]
  },
  {
   "cell_type": "code",
   "execution_count": 227,
   "metadata": {},
   "outputs": [
    {
     "data": {
      "text/plain": [
       "True"
      ]
     },
     "execution_count": 227,
     "metadata": {},
     "output_type": "execute_result"
    }
   ],
   "source": [
    "range_subset(range(0,1), range(0,4))"
   ]
  },
  {
   "cell_type": "code",
   "execution_count": 228,
   "metadata": {},
   "outputs": [
    {
     "ename": "KeyboardInterrupt",
     "evalue": "",
     "output_type": "error",
     "traceback": [
      "\u001b[0;31m---------------------------------------------------------------------------\u001b[0m",
      "\u001b[0;31mKeyboardInterrupt\u001b[0m                         Traceback (most recent call last)",
      "\u001b[0;32m<ipython-input-228-f8c35365d43a>\u001b[0m in \u001b[0;36m<module>\u001b[0;34m\u001b[0m\n\u001b[1;32m      5\u001b[0m     \u001b[0mUNION_start\u001b[0m\u001b[0;34m=\u001b[0m \u001b[0meach_row1\u001b[0m\u001b[0;34m[\u001b[0m\u001b[0;36m1\u001b[0m\u001b[0;34m]\u001b[0m\u001b[0;34m\u001b[0m\u001b[0;34m\u001b[0m\u001b[0m\n\u001b[1;32m      6\u001b[0m     \u001b[0mUNION_end\u001b[0m \u001b[0;34m=\u001b[0m \u001b[0meach_row1\u001b[0m\u001b[0;34m[\u001b[0m\u001b[0;36m2\u001b[0m\u001b[0;34m]\u001b[0m\u001b[0;34m\u001b[0m\u001b[0;34m\u001b[0m\u001b[0m\n\u001b[0;32m----> 7\u001b[0;31m     \u001b[0;32mfor\u001b[0m \u001b[0mindex\u001b[0m\u001b[0;34m,\u001b[0m \u001b[0meach_row2\u001b[0m \u001b[0;32min\u001b[0m \u001b[0mIRI1A_bedgraph\u001b[0m\u001b[0;34m[\u001b[0m\u001b[0mIRI1A_bedgraph\u001b[0m\u001b[0;34m[\u001b[0m\u001b[0;36m0\u001b[0m\u001b[0;34m]\u001b[0m \u001b[0;34m==\u001b[0m \u001b[0;34m'chr1'\u001b[0m\u001b[0;34m]\u001b[0m\u001b[0;34m.\u001b[0m\u001b[0miterrows\u001b[0m\u001b[0;34m(\u001b[0m\u001b[0;34m)\u001b[0m\u001b[0;34m:\u001b[0m\u001b[0;34m\u001b[0m\u001b[0;34m\u001b[0m\u001b[0m\n\u001b[0m\u001b[1;32m      8\u001b[0m         \u001b[0mtarget_start\u001b[0m \u001b[0;34m=\u001b[0m \u001b[0meach_row2\u001b[0m\u001b[0;34m[\u001b[0m\u001b[0;36m1\u001b[0m\u001b[0;34m]\u001b[0m\u001b[0;34m\u001b[0m\u001b[0;34m\u001b[0m\u001b[0m\n\u001b[1;32m      9\u001b[0m         \u001b[0mtarget_end\u001b[0m \u001b[0;34m=\u001b[0m \u001b[0meach_row2\u001b[0m\u001b[0;34m[\u001b[0m\u001b[0;36m2\u001b[0m\u001b[0;34m]\u001b[0m\u001b[0;34m\u001b[0m\u001b[0;34m\u001b[0m\u001b[0m\n",
      "\u001b[0;32m/auto/rcf-proj3/klj/kim130/miniconda3/envs/fishsleepdeeplift/lib/python3.6/site-packages/pandas/core/frame.py\u001b[0m in \u001b[0;36miterrows\u001b[0;34m(self)\u001b[0m\n\u001b[1;32m    892\u001b[0m         \u001b[0mklass\u001b[0m \u001b[0;34m=\u001b[0m \u001b[0mself\u001b[0m\u001b[0;34m.\u001b[0m\u001b[0m_constructor_sliced\u001b[0m\u001b[0;34m\u001b[0m\u001b[0;34m\u001b[0m\u001b[0m\n\u001b[1;32m    893\u001b[0m         \u001b[0;32mfor\u001b[0m \u001b[0mk\u001b[0m\u001b[0;34m,\u001b[0m \u001b[0mv\u001b[0m \u001b[0;32min\u001b[0m \u001b[0mzip\u001b[0m\u001b[0;34m(\u001b[0m\u001b[0mself\u001b[0m\u001b[0;34m.\u001b[0m\u001b[0mindex\u001b[0m\u001b[0;34m,\u001b[0m \u001b[0mself\u001b[0m\u001b[0;34m.\u001b[0m\u001b[0mvalues\u001b[0m\u001b[0;34m)\u001b[0m\u001b[0;34m:\u001b[0m\u001b[0;34m\u001b[0m\u001b[0;34m\u001b[0m\u001b[0m\n\u001b[0;32m--> 894\u001b[0;31m             \u001b[0ms\u001b[0m \u001b[0;34m=\u001b[0m \u001b[0mklass\u001b[0m\u001b[0;34m(\u001b[0m\u001b[0mv\u001b[0m\u001b[0;34m,\u001b[0m \u001b[0mindex\u001b[0m\u001b[0;34m=\u001b[0m\u001b[0mcolumns\u001b[0m\u001b[0;34m,\u001b[0m \u001b[0mname\u001b[0m\u001b[0;34m=\u001b[0m\u001b[0mk\u001b[0m\u001b[0;34m)\u001b[0m\u001b[0;34m\u001b[0m\u001b[0;34m\u001b[0m\u001b[0m\n\u001b[0m\u001b[1;32m    895\u001b[0m             \u001b[0;32myield\u001b[0m \u001b[0mk\u001b[0m\u001b[0;34m,\u001b[0m \u001b[0ms\u001b[0m\u001b[0;34m\u001b[0m\u001b[0;34m\u001b[0m\u001b[0m\n\u001b[1;32m    896\u001b[0m \u001b[0;34m\u001b[0m\u001b[0m\n",
      "\u001b[0;32m/auto/rcf-proj3/klj/kim130/miniconda3/envs/fishsleepdeeplift/lib/python3.6/site-packages/pandas/core/series.py\u001b[0m in \u001b[0;36m__init__\u001b[0;34m(self, data, index, dtype, name, copy, fastpath)\u001b[0m\n\u001b[1;32m    309\u001b[0m                     \u001b[0mdata\u001b[0m \u001b[0;34m=\u001b[0m \u001b[0mdata\u001b[0m\u001b[0;34m.\u001b[0m\u001b[0mcopy\u001b[0m\u001b[0;34m(\u001b[0m\u001b[0;34m)\u001b[0m\u001b[0;34m\u001b[0m\u001b[0;34m\u001b[0m\u001b[0m\n\u001b[1;32m    310\u001b[0m             \u001b[0;32melse\u001b[0m\u001b[0;34m:\u001b[0m\u001b[0;34m\u001b[0m\u001b[0;34m\u001b[0m\u001b[0m\n\u001b[0;32m--> 311\u001b[0;31m                 \u001b[0mdata\u001b[0m \u001b[0;34m=\u001b[0m \u001b[0msanitize_array\u001b[0m\u001b[0;34m(\u001b[0m\u001b[0mdata\u001b[0m\u001b[0;34m,\u001b[0m \u001b[0mindex\u001b[0m\u001b[0;34m,\u001b[0m \u001b[0mdtype\u001b[0m\u001b[0;34m,\u001b[0m \u001b[0mcopy\u001b[0m\u001b[0;34m,\u001b[0m \u001b[0mraise_cast_failure\u001b[0m\u001b[0;34m=\u001b[0m\u001b[0;32mTrue\u001b[0m\u001b[0;34m)\u001b[0m\u001b[0;34m\u001b[0m\u001b[0;34m\u001b[0m\u001b[0m\n\u001b[0m\u001b[1;32m    312\u001b[0m \u001b[0;34m\u001b[0m\u001b[0m\n\u001b[1;32m    313\u001b[0m                 \u001b[0mdata\u001b[0m \u001b[0;34m=\u001b[0m \u001b[0mSingleBlockManager\u001b[0m\u001b[0;34m(\u001b[0m\u001b[0mdata\u001b[0m\u001b[0;34m,\u001b[0m \u001b[0mindex\u001b[0m\u001b[0;34m,\u001b[0m \u001b[0mfastpath\u001b[0m\u001b[0;34m=\u001b[0m\u001b[0;32mTrue\u001b[0m\u001b[0;34m)\u001b[0m\u001b[0;34m\u001b[0m\u001b[0;34m\u001b[0m\u001b[0m\n",
      "\u001b[0;32m/auto/rcf-proj3/klj/kim130/miniconda3/envs/fishsleepdeeplift/lib/python3.6/site-packages/pandas/core/internals/construction.py\u001b[0m in \u001b[0;36msanitize_array\u001b[0;34m(data, index, dtype, copy, raise_cast_failure)\u001b[0m\n\u001b[1;32m    720\u001b[0m \u001b[0;34m\u001b[0m\u001b[0m\n\u001b[1;32m    721\u001b[0m             \u001b[0;31m# a 1-element ndarray\u001b[0m\u001b[0;34m\u001b[0m\u001b[0;34m\u001b[0m\u001b[0;34m\u001b[0m\u001b[0m\n\u001b[0;32m--> 722\u001b[0;31m             \u001b[0;32mif\u001b[0m \u001b[0mlen\u001b[0m\u001b[0;34m(\u001b[0m\u001b[0msubarr\u001b[0m\u001b[0;34m)\u001b[0m \u001b[0;34m!=\u001b[0m \u001b[0mlen\u001b[0m\u001b[0;34m(\u001b[0m\u001b[0mindex\u001b[0m\u001b[0;34m)\u001b[0m \u001b[0;32mand\u001b[0m \u001b[0mlen\u001b[0m\u001b[0;34m(\u001b[0m\u001b[0msubarr\u001b[0m\u001b[0;34m)\u001b[0m \u001b[0;34m==\u001b[0m \u001b[0;36m1\u001b[0m\u001b[0;34m:\u001b[0m\u001b[0;34m\u001b[0m\u001b[0;34m\u001b[0m\u001b[0m\n\u001b[0m\u001b[1;32m    723\u001b[0m                 subarr = construct_1d_arraylike_from_scalar(\n\u001b[1;32m    724\u001b[0m                     \u001b[0msubarr\u001b[0m\u001b[0;34m[\u001b[0m\u001b[0;36m0\u001b[0m\u001b[0;34m]\u001b[0m\u001b[0;34m,\u001b[0m \u001b[0mlen\u001b[0m\u001b[0;34m(\u001b[0m\u001b[0mindex\u001b[0m\u001b[0;34m)\u001b[0m\u001b[0;34m,\u001b[0m \u001b[0msubarr\u001b[0m\u001b[0;34m.\u001b[0m\u001b[0mdtype\u001b[0m\u001b[0;34m\u001b[0m\u001b[0;34m\u001b[0m\u001b[0m\n",
      "\u001b[0;31mKeyboardInterrupt\u001b[0m: "
     ]
    }
   ],
   "source": [
    "#for chr1\n",
    "subset_list = []\n",
    "for index, each_row1 in UNION_bedgraph[UNION_bedgraph[0] == 'chr1'].iterrows():\n",
    "    #print(each_row[1], each_row[2], index)\n",
    "    UNION_start= each_row1[1]\n",
    "    UNION_end = each_row1[2]\n",
    "    for index, each_row2 in IRI1A_bedgraph[IRI1A_bedgraph[0] == 'chr1'].iterrows():\n",
    "        target_start = each_row2[1]\n",
    "        target_end = each_row2[2]\n",
    "        subset_list += [range_subset(range(target_start,target_end), range(UNION_start, UNION_end))]\n",
    "print(subset_list[1:10])"
   ]
  },
  {
   "cell_type": "code",
   "execution_count": 239,
   "metadata": {},
   "outputs": [],
   "source": [
    "#for chr1\n",
    "UNION_pos = []\n",
    "for index, each_row in UNION_bedgraph[UNION_bedgraph[0] == 'chr1'].iterrows():\n",
    "    #print(each_row[1], each_row[2], index)\n",
    "    UNION_start= each_row[1]\n",
    "    UNION_end = each_row[2]\n",
    "    UNION_pos += list(range(UNION_start,UNION_end))\n",
    "    "
   ]
  },
  {
   "cell_type": "code",
   "execution_count": null,
   "metadata": {},
   "outputs": [],
   "source": [
    "%%timeit\n",
    "subset_list = []\n",
    "for index, each_row in IRI1A_bedgraph[IRI1A_bedgraph[0] == 'chr1'].iterrows():\n",
    "        target_start = each_row[1]\n",
    "        target_end = each_row[2]\n",
    "        subset_list += [set(range(target_start,target_end)).issubset(UNION_pos)]\n",
    "        \n",
    "print(subset_list[1:10])"
   ]
  },
  {
   "cell_type": "code",
   "execution_count": 238,
   "metadata": {},
   "outputs": [
    {
     "data": {
      "text/plain": [
       "False"
      ]
     },
     "execution_count": 238,
     "metadata": {},
     "output_type": "execute_result"
    }
   ],
   "source": [
    "set(range(3,6)).issubset([0,1,2,3,4])"
   ]
  },
  {
   "cell_type": "code",
   "execution_count": 234,
   "metadata": {},
   "outputs": [
    {
     "name": "stdout",
     "output_type": "stream",
     "text": [
      "[0, 1, 2, 3, 6, 7, 8]\n"
     ]
    }
   ],
   "source": [
    "subset_list = []\n",
    "subset_list += list(range(0,4))\n",
    "subset_list += list(range(6,9))\n",
    "print(subset_list)"
   ]
  },
  {
   "cell_type": "code",
   "execution_count": 221,
   "metadata": {},
   "outputs": [
    {
     "data": {
      "text/html": [
       "<div>\n",
       "<style scoped>\n",
       "    .dataframe tbody tr th:only-of-type {\n",
       "        vertical-align: middle;\n",
       "    }\n",
       "\n",
       "    .dataframe tbody tr th {\n",
       "        vertical-align: top;\n",
       "    }\n",
       "\n",
       "    .dataframe thead th {\n",
       "        text-align: right;\n",
       "    }\n",
       "</style>\n",
       "<table border=\"1\" class=\"dataframe\">\n",
       "  <thead>\n",
       "    <tr style=\"text-align: right;\">\n",
       "      <th></th>\n",
       "      <th>0</th>\n",
       "      <th>1</th>\n",
       "      <th>2</th>\n",
       "      <th>3</th>\n",
       "    </tr>\n",
       "  </thead>\n",
       "  <tbody>\n",
       "    <tr>\n",
       "      <td>1</td>\n",
       "      <td>chr1</td>\n",
       "      <td>3119638</td>\n",
       "      <td>3120688</td>\n",
       "      <td>1</td>\n",
       "    </tr>\n",
       "    <tr>\n",
       "      <td>3</td>\n",
       "      <td>chr1</td>\n",
       "      <td>3248951</td>\n",
       "      <td>3249591</td>\n",
       "      <td>1</td>\n",
       "    </tr>\n",
       "    <tr>\n",
       "      <td>5</td>\n",
       "      <td>chr1</td>\n",
       "      <td>3346783</td>\n",
       "      <td>3350416</td>\n",
       "      <td>1</td>\n",
       "    </tr>\n",
       "    <tr>\n",
       "      <td>7</td>\n",
       "      <td>chr1</td>\n",
       "      <td>3372577</td>\n",
       "      <td>3373177</td>\n",
       "      <td>1</td>\n",
       "    </tr>\n",
       "    <tr>\n",
       "      <td>9</td>\n",
       "      <td>chr1</td>\n",
       "      <td>3399854</td>\n",
       "      <td>3401447</td>\n",
       "      <td>1</td>\n",
       "    </tr>\n",
       "    <tr>\n",
       "      <td>...</td>\n",
       "      <td>...</td>\n",
       "      <td>...</td>\n",
       "      <td>...</td>\n",
       "      <td>...</td>\n",
       "    </tr>\n",
       "    <tr>\n",
       "      <td>12129</td>\n",
       "      <td>chr1</td>\n",
       "      <td>195091880</td>\n",
       "      <td>195092699</td>\n",
       "      <td>1</td>\n",
       "    </tr>\n",
       "    <tr>\n",
       "      <td>12131</td>\n",
       "      <td>chr1</td>\n",
       "      <td>195130705</td>\n",
       "      <td>195132310</td>\n",
       "      <td>1</td>\n",
       "    </tr>\n",
       "    <tr>\n",
       "      <td>12133</td>\n",
       "      <td>chr1</td>\n",
       "      <td>195176484</td>\n",
       "      <td>195176886</td>\n",
       "      <td>1</td>\n",
       "    </tr>\n",
       "    <tr>\n",
       "      <td>12135</td>\n",
       "      <td>chr1</td>\n",
       "      <td>195230445</td>\n",
       "      <td>195230853</td>\n",
       "      <td>1</td>\n",
       "    </tr>\n",
       "    <tr>\n",
       "      <td>12137</td>\n",
       "      <td>chr1</td>\n",
       "      <td>195231951</td>\n",
       "      <td>195233068</td>\n",
       "      <td>1</td>\n",
       "    </tr>\n",
       "  </tbody>\n",
       "</table>\n",
       "<p>6069 rows × 4 columns</p>\n",
       "</div>"
      ],
      "text/plain": [
       "          0          1          2  3\n",
       "1      chr1    3119638    3120688  1\n",
       "3      chr1    3248951    3249591  1\n",
       "5      chr1    3346783    3350416  1\n",
       "7      chr1    3372577    3373177  1\n",
       "9      chr1    3399854    3401447  1\n",
       "...     ...        ...        ... ..\n",
       "12129  chr1  195091880  195092699  1\n",
       "12131  chr1  195130705  195132310  1\n",
       "12133  chr1  195176484  195176886  1\n",
       "12135  chr1  195230445  195230853  1\n",
       "12137  chr1  195231951  195233068  1\n",
       "\n",
       "[6069 rows x 4 columns]"
      ]
     },
     "execution_count": 221,
     "metadata": {},
     "output_type": "execute_result"
    }
   ],
   "source": [
    "IRI1A_bedgraph[IRI1A_bedgraph[0] == 'chr1']"
   ]
  },
  {
   "cell_type": "code",
   "execution_count": 212,
   "metadata": {},
   "outputs": [],
   "source": [
    "UNION_chrom = set(UNION_bedgraph[0].to_list())"
   ]
  },
  {
   "cell_type": "code",
   "execution_count": 213,
   "metadata": {},
   "outputs": [
    {
     "name": "stdout",
     "output_type": "stream",
     "text": [
      "chr4\n",
      "chr18\n",
      "chrY\n",
      "chr13\n",
      "chr11\n",
      "chr6\n",
      "chr10\n",
      "chr1\n",
      "chr7\n",
      "chr14\n",
      "chr17\n",
      "chr15\n",
      "chr12\n",
      "chr8\n",
      "chr2\n",
      "chr16\n",
      "chr3\n",
      "chr19\n",
      "chr9\n",
      "chrX\n",
      "chr5\n"
     ]
    }
   ],
   "source": [
    "for each_chrom in UNION_chrom:\n",
    "    IRI1A_bedgraph[IRI1A_bedgraph[0] ==each_chrom]"
   ]
  },
  {
   "cell_type": "code",
   "execution_count": 189,
   "metadata": {},
   "outputs": [
    {
     "data": {
      "text/html": [
       "<div>\n",
       "<style scoped>\n",
       "    .dataframe tbody tr th:only-of-type {\n",
       "        vertical-align: middle;\n",
       "    }\n",
       "\n",
       "    .dataframe tbody tr th {\n",
       "        vertical-align: top;\n",
       "    }\n",
       "\n",
       "    .dataframe thead th {\n",
       "        text-align: right;\n",
       "    }\n",
       "</style>\n",
       "<table border=\"1\" class=\"dataframe\">\n",
       "  <thead>\n",
       "    <tr style=\"text-align: right;\">\n",
       "      <th></th>\n",
       "      <th>chrom</th>\n",
       "      <th>start</th>\n",
       "      <th>end</th>\n",
       "      <th>UNION</th>\n",
       "      <th>IRI1A</th>\n",
       "      <th>IRI2A</th>\n",
       "      <th>SHAM1A</th>\n",
       "      <th>SHAM2A</th>\n",
       "    </tr>\n",
       "  </thead>\n",
       "  <tbody>\n",
       "    <tr>\n",
       "      <td>0</td>\n",
       "      <td>chr1</td>\n",
       "      <td>0</td>\n",
       "      <td>3116592</td>\n",
       "      <td>0</td>\n",
       "      <td>0</td>\n",
       "      <td>0</td>\n",
       "      <td>0</td>\n",
       "      <td>0</td>\n",
       "    </tr>\n",
       "    <tr>\n",
       "      <td>1</td>\n",
       "      <td>chr1</td>\n",
       "      <td>3116592</td>\n",
       "      <td>3116795</td>\n",
       "      <td>1</td>\n",
       "      <td>0</td>\n",
       "      <td>0</td>\n",
       "      <td>0</td>\n",
       "      <td>1</td>\n",
       "    </tr>\n",
       "    <tr>\n",
       "      <td>2</td>\n",
       "      <td>chr1</td>\n",
       "      <td>3116795</td>\n",
       "      <td>3117536</td>\n",
       "      <td>1</td>\n",
       "      <td>0</td>\n",
       "      <td>0</td>\n",
       "      <td>1</td>\n",
       "      <td>1</td>\n",
       "    </tr>\n",
       "    <tr>\n",
       "      <td>3</td>\n",
       "      <td>chr1</td>\n",
       "      <td>3117536</td>\n",
       "      <td>3117640</td>\n",
       "      <td>1</td>\n",
       "      <td>0</td>\n",
       "      <td>0</td>\n",
       "      <td>1</td>\n",
       "      <td>0</td>\n",
       "    </tr>\n",
       "    <tr>\n",
       "      <td>4</td>\n",
       "      <td>chr1</td>\n",
       "      <td>3117640</td>\n",
       "      <td>3119337</td>\n",
       "      <td>0</td>\n",
       "      <td>0</td>\n",
       "      <td>0</td>\n",
       "      <td>0</td>\n",
       "      <td>0</td>\n",
       "    </tr>\n",
       "  </tbody>\n",
       "</table>\n",
       "</div>"
      ],
      "text/plain": [
       "  chrom    start      end  UNION  IRI1A  IRI2A  SHAM1A  SHAM2A\n",
       "0  chr1        0  3116592      0      0      0       0       0\n",
       "1  chr1  3116592  3116795      1      0      0       0       1\n",
       "2  chr1  3116795  3117536      1      0      0       1       1\n",
       "3  chr1  3117536  3117640      1      0      0       1       0\n",
       "4  chr1  3117640  3119337      0      0      0       0       0"
      ]
     },
     "execution_count": 189,
     "metadata": {},
     "output_type": "execute_result"
    }
   ],
   "source": [
    "consensus_intersection_data = pd.read_csv(\"./post_macs2_peak-calling_consensus.q.01.len250.consensus.intersections.bed\", sep='\\t', header=0)\n",
    "consensus_intersection_data.head()"
   ]
  },
  {
   "cell_type": "markdown",
   "metadata": {},
   "source": [
    "Remove if UNION == 0"
   ]
  },
  {
   "cell_type": "code",
   "execution_count": 193,
   "metadata": {},
   "outputs": [],
   "source": [
    "consensus_intersection_data = consensus_intersection_data.drop(consensus_intersection_data[ consensus_intersection_data['UNION'] == 0].index, axis=0)"
   ]
  },
  {
   "cell_type": "code",
   "execution_count": 194,
   "metadata": {},
   "outputs": [
    {
     "data": {
      "text/plain": [
       "{'chr1',\n",
       " 'chr10',\n",
       " 'chr11',\n",
       " 'chr12',\n",
       " 'chr13',\n",
       " 'chr14',\n",
       " 'chr15',\n",
       " 'chr16',\n",
       " 'chr17',\n",
       " 'chr18',\n",
       " 'chr19',\n",
       " 'chr2',\n",
       " 'chr3',\n",
       " 'chr4',\n",
       " 'chr5',\n",
       " 'chr6',\n",
       " 'chr7',\n",
       " 'chr8',\n",
       " 'chr9',\n",
       " 'chrX',\n",
       " 'chrY'}"
      ]
     },
     "execution_count": 194,
     "metadata": {},
     "output_type": "execute_result"
    }
   ],
   "source": [
    "set(consensus_intersection_data['chrom'].to_list())"
   ]
  },
  {
   "cell_type": "code",
   "execution_count": 185,
   "metadata": {},
   "outputs": [
    {
     "data": {
      "text/html": [
       "<div>\n",
       "<style scoped>\n",
       "    .dataframe tbody tr th:only-of-type {\n",
       "        vertical-align: middle;\n",
       "    }\n",
       "\n",
       "    .dataframe tbody tr th {\n",
       "        vertical-align: top;\n",
       "    }\n",
       "\n",
       "    .dataframe thead th {\n",
       "        text-align: right;\n",
       "    }\n",
       "</style>\n",
       "<table border=\"1\" class=\"dataframe\">\n",
       "  <thead>\n",
       "    <tr style=\"text-align: right;\">\n",
       "      <th></th>\n",
       "      <th>Identifier</th>\n",
       "      <th>UNION</th>\n",
       "      <th>IRI1A</th>\n",
       "      <th>IRI2A</th>\n",
       "      <th>SHAM1A</th>\n",
       "      <th>SHAM2A</th>\n",
       "    </tr>\n",
       "  </thead>\n",
       "  <tbody>\n",
       "    <tr>\n",
       "      <td>0</td>\n",
       "      <td>chr1:0-3116592</td>\n",
       "      <td>0</td>\n",
       "      <td>0</td>\n",
       "      <td>0</td>\n",
       "      <td>0</td>\n",
       "      <td>0</td>\n",
       "    </tr>\n",
       "    <tr>\n",
       "      <td>1</td>\n",
       "      <td>chr1:3116592-3116795</td>\n",
       "      <td>1</td>\n",
       "      <td>0</td>\n",
       "      <td>0</td>\n",
       "      <td>0</td>\n",
       "      <td>1</td>\n",
       "    </tr>\n",
       "    <tr>\n",
       "      <td>2</td>\n",
       "      <td>chr1:3116795-3117536</td>\n",
       "      <td>1</td>\n",
       "      <td>0</td>\n",
       "      <td>0</td>\n",
       "      <td>1</td>\n",
       "      <td>1</td>\n",
       "    </tr>\n",
       "    <tr>\n",
       "      <td>3</td>\n",
       "      <td>chr1:3117536-3117640</td>\n",
       "      <td>1</td>\n",
       "      <td>0</td>\n",
       "      <td>0</td>\n",
       "      <td>1</td>\n",
       "      <td>0</td>\n",
       "    </tr>\n",
       "    <tr>\n",
       "      <td>4</td>\n",
       "      <td>chr1:3117640-3119337</td>\n",
       "      <td>0</td>\n",
       "      <td>0</td>\n",
       "      <td>0</td>\n",
       "      <td>0</td>\n",
       "      <td>0</td>\n",
       "    </tr>\n",
       "  </tbody>\n",
       "</table>\n",
       "</div>"
      ],
      "text/plain": [
       "             Identifier  UNION  IRI1A  IRI2A  SHAM1A  SHAM2A\n",
       "0        chr1:0-3116592      0      0      0       0       0\n",
       "1  chr1:3116592-3116795      1      0      0       0       1\n",
       "2  chr1:3116795-3117536      1      0      0       1       1\n",
       "3  chr1:3117536-3117640      1      0      0       1       0\n",
       "4  chr1:3117640-3119337      0      0      0       0       0"
      ]
     },
     "execution_count": 185,
     "metadata": {},
     "output_type": "execute_result"
    }
   ],
   "source": [
    "consensus_intersection_data[\"Identifier\"] = consensus_intersection_data.chrom + ':' + \\\n",
    "                                            consensus_intersection_data.start.astype(str) + '-' + \\\n",
    "                                            consensus_intersection_data.end.astype(str)\n",
    "consensus_intersection_data = consensus_intersection_data.drop(columns=['chrom', 'start', 'end'])\n",
    "#df = df[['mean', '0', '1', '2', '3']]\n",
    "consensus_intersection_data = consensus_intersection_data[['Identifier', 'UNION', 'IRI1A', 'IRI2A', 'SHAM1A', 'SHAM2A']]\n",
    "consensus_intersection_data.head()"
   ]
  },
  {
   "cell_type": "code",
   "execution_count": 187,
   "metadata": {},
   "outputs": [
    {
     "data": {
      "text/html": [
       "<div>\n",
       "<style scoped>\n",
       "    .dataframe tbody tr th:only-of-type {\n",
       "        vertical-align: middle;\n",
       "    }\n",
       "\n",
       "    .dataframe tbody tr th {\n",
       "        vertical-align: top;\n",
       "    }\n",
       "\n",
       "    .dataframe thead th {\n",
       "        text-align: right;\n",
       "    }\n",
       "</style>\n",
       "<table border=\"1\" class=\"dataframe\">\n",
       "  <thead>\n",
       "    <tr style=\"text-align: right;\">\n",
       "      <th></th>\n",
       "      <th>Identifier</th>\n",
       "      <th>UNION</th>\n",
       "      <th>IRI1A</th>\n",
       "      <th>IRI2A</th>\n",
       "      <th>SHAM1A</th>\n",
       "      <th>SHAM2A</th>\n",
       "    </tr>\n",
       "  </thead>\n",
       "  <tbody>\n",
       "    <tr>\n",
       "      <td>1829</td>\n",
       "      <td>chr1:13629180-13629560</td>\n",
       "      <td>1</td>\n",
       "      <td>0</td>\n",
       "      <td>0</td>\n",
       "      <td>0</td>\n",
       "      <td>0</td>\n",
       "    </tr>\n",
       "    <tr>\n",
       "      <td>2057</td>\n",
       "      <td>chr1:15120024-15120328</td>\n",
       "      <td>1</td>\n",
       "      <td>0</td>\n",
       "      <td>0</td>\n",
       "      <td>0</td>\n",
       "      <td>0</td>\n",
       "    </tr>\n",
       "    <tr>\n",
       "      <td>7874</td>\n",
       "      <td>chr1:43895079-43895563</td>\n",
       "      <td>1</td>\n",
       "      <td>0</td>\n",
       "      <td>0</td>\n",
       "      <td>0</td>\n",
       "      <td>0</td>\n",
       "    </tr>\n",
       "    <tr>\n",
       "      <td>9861</td>\n",
       "      <td>chr1:54835922-54836020</td>\n",
       "      <td>1</td>\n",
       "      <td>0</td>\n",
       "      <td>0</td>\n",
       "      <td>0</td>\n",
       "      <td>0</td>\n",
       "    </tr>\n",
       "    <tr>\n",
       "      <td>19326</td>\n",
       "      <td>chr1:89405960-89406086</td>\n",
       "      <td>1</td>\n",
       "      <td>0</td>\n",
       "      <td>0</td>\n",
       "      <td>0</td>\n",
       "      <td>0</td>\n",
       "    </tr>\n",
       "    <tr>\n",
       "      <td>...</td>\n",
       "      <td>...</td>\n",
       "      <td>...</td>\n",
       "      <td>...</td>\n",
       "      <td>...</td>\n",
       "      <td>...</td>\n",
       "      <td>...</td>\n",
       "    </tr>\n",
       "    <tr>\n",
       "      <td>580217</td>\n",
       "      <td>chr9:31449858-31450194</td>\n",
       "      <td>1</td>\n",
       "      <td>0</td>\n",
       "      <td>0</td>\n",
       "      <td>0</td>\n",
       "      <td>0</td>\n",
       "    </tr>\n",
       "    <tr>\n",
       "      <td>583615</td>\n",
       "      <td>chr9:44198674-44199110</td>\n",
       "      <td>1</td>\n",
       "      <td>0</td>\n",
       "      <td>0</td>\n",
       "      <td>0</td>\n",
       "      <td>0</td>\n",
       "    </tr>\n",
       "    <tr>\n",
       "      <td>590634</td>\n",
       "      <td>chr9:66513393-66513855</td>\n",
       "      <td>1</td>\n",
       "      <td>0</td>\n",
       "      <td>0</td>\n",
       "      <td>0</td>\n",
       "      <td>0</td>\n",
       "    </tr>\n",
       "    <tr>\n",
       "      <td>615869</td>\n",
       "      <td>chrX:129710841-129711189</td>\n",
       "      <td>1</td>\n",
       "      <td>0</td>\n",
       "      <td>0</td>\n",
       "      <td>0</td>\n",
       "      <td>0</td>\n",
       "    </tr>\n",
       "    <tr>\n",
       "      <td>618694</td>\n",
       "      <td>chrX:155624437-155624834</td>\n",
       "      <td>1</td>\n",
       "      <td>0</td>\n",
       "      <td>0</td>\n",
       "      <td>0</td>\n",
       "      <td>0</td>\n",
       "    </tr>\n",
       "  </tbody>\n",
       "</table>\n",
       "<p>89 rows × 6 columns</p>\n",
       "</div>"
      ],
      "text/plain": [
       "                      Identifier  UNION  IRI1A  IRI2A  SHAM1A  SHAM2A\n",
       "1829      chr1:13629180-13629560      1      0      0       0       0\n",
       "2057      chr1:15120024-15120328      1      0      0       0       0\n",
       "7874      chr1:43895079-43895563      1      0      0       0       0\n",
       "9861      chr1:54835922-54836020      1      0      0       0       0\n",
       "19326     chr1:89405960-89406086      1      0      0       0       0\n",
       "...                          ...    ...    ...    ...     ...     ...\n",
       "580217    chr9:31449858-31450194      1      0      0       0       0\n",
       "583615    chr9:44198674-44199110      1      0      0       0       0\n",
       "590634    chr9:66513393-66513855      1      0      0       0       0\n",
       "615869  chrX:129710841-129711189      1      0      0       0       0\n",
       "618694  chrX:155624437-155624834      1      0      0       0       0\n",
       "\n",
       "[89 rows x 6 columns]"
      ]
     },
     "execution_count": 187,
     "metadata": {},
     "output_type": "execute_result"
    }
   ],
   "source": [
    "#What are UNION == 1 but sum(Others) == 0\n",
    "consensus_intersection_data[ (consensus_intersection_data['UNION'] == 1) & \\\n",
    "                            ((consensus_intersection_data['IRI1A'] + consensus_intersection_data['IRI2A'] + \n",
    "                             consensus_intersection_data['SHAM1A'] + consensus_intersection_data['SHAM2A']) == 0) ]"
   ]
  },
  {
   "cell_type": "markdown",
   "metadata": {},
   "source": [
    "Export csv file for UpSetR"
   ]
  },
  {
   "cell_type": "code",
   "execution_count": 149,
   "metadata": {},
   "outputs": [],
   "source": [
    "consensus_intersection_data.to_csv(\"post_macs2_peak-calling_consensus.q.01.len250.consensus.intersections.UpSetR.csv\",sep=',', index=False)"
   ]
  },
  {
   "cell_type": "markdown",
   "metadata": {},
   "source": [
    "### Upset examples"
   ]
  },
  {
   "cell_type": "code",
   "execution_count": 44,
   "metadata": {},
   "outputs": [],
   "source": [
    "%%R\n",
    "mutations <- read.csv( system.file(\"extdata\", \"mutations.csv\", package = \"UpSetR\"), header=T, sep = \",\")"
   ]
  },
  {
   "cell_type": "code",
   "execution_count": 51,
   "metadata": {},
   "outputs": [
    {
     "data": {
      "text/plain": [
       "  Identifier TTN PTEN TP53 EGFR MUC16 FLG RYR2 PCLO PIK3R1 PIK3CA NF1 MUC17\n",
       "1    02-0003   0    0    1    1     0   0    0    0      1      0   0     1\n",
       "2    02-0033   0    0    1    0     0   0    0    0      0      1   1     0\n",
       "3    02-0047   0    0    0    0     0   0    1    0      0      1   0     0\n",
       "  HMCN1 SPTA1 USH2A RB1 PKHD1 OBSCN AHNAK2 RYR3 RELN FRAS1 GPR98 DNAH5 ATRX\n",
       "1     0     0     0   0     0     0      0    0    0     0     0     1    0\n",
       "2     0     0     0   1     0     0      0    0    0     0     0     0    0\n",
       "3     0     0     0   0     0     0      0    1    0     0     0     0    0\n",
       "  APOB TCHH SYNE1 LRP2 KEL HRNR DNAH3 COL6A3 MUC5B LAMA1 DSP DNAH8 CNTNAP2 SDK1\n",
       "1    0    0     0    0   0    0     0      0     0     0   0     0       0    0\n",
       "2    0    0     0    0   0    0     0      0     0     0   0     0       0    0\n",
       "3    0    0     0    0   0    0     0      0     0     0   0     0       0    0\n",
       "  NBPF10 DNAH2 NLRP5 MLL3 IDH1 HCN1 FCGBP DOCK5 RIMS2 PCDHA1 MXRA5 HEATR7B2\n",
       "1      0     0     1    0    0    0     0     0     0      0     0        0\n",
       "2      0     0     0    0    0    0     0     0     0      1     0        0\n",
       "3      1     0     0    0    0    0     0     0     0      0     0        0\n",
       "  GRIN2A FGD5 TMEM132D STAG2 SEMA3C SCN9A PRDM9 POM121L12 PIK3CG PDGFRA GABRA6\n",
       "1      0    0        0     0      0     0     0         0      0      0      0\n",
       "2      0    0        0     0      1     0     0         0      0      0      0\n",
       "3      0    0        0     0      0     0     0         0      0      1      0\n",
       "  FLG2 FBN3 FBN2 FAT2 DNAH11 DMD COL1A2 ABCC9 XIRP2 TSHZ2 TEX15 SLIT3 RBM47\n",
       "1    0    0    0    0      0   0      0     0     0     1     0     0     0\n",
       "2    0    0    0    0      0   0      0     0     0     0     0     0     0\n",
       "3    0    0    0    0      0   0      0     0     0     0     0     0     0\n",
       "  PIK3C2G PCDH11X MYH2 MACF1 KSR2 DNAH9 DCHS2 CSMD3 CDH18 BCOR AHNAK ZAN TRRAP\n",
       "1       0       0    0     0    0     0     0     0     0    0     0   0     0\n",
       "2       0       0    0     0    0     0     0     0     0    0     0   0     0\n",
       "3       0       0    0     0    0     0     0     0     0    0     0   0     0\n",
       "  THSD7B TAF1L SPAG17 SLCO5A1 SCN10A RYR1 RIMBP2 PLEKHG4B PCDHB7 NPTX2 NOS1\n",
       "1      0     0      0       0      0    0      0        0      0     0    0\n",
       "2      0     0      0       0      0    0      0        0      0     0    0\n",
       "3      0     0      0       0      0    0      0        0      0     0    0\n",
       "  LZTR1\n",
       "1     0\n",
       "2     0\n",
       "3     0\n"
      ]
     },
     "metadata": {},
     "output_type": "display_data"
    }
   ],
   "source": [
    "%%R\n",
    "head(mutations, n=3)"
   ]
  },
  {
   "cell_type": "code",
   "execution_count": 49,
   "metadata": {},
   "outputs": [
    {
     "data": {
      "image/png": "[encoded data removed]"
     },
     "metadata": {},
     "output_type": "display_data"
    }
   ],
   "source": [
    "%%R -h 300 -w 500 -u px\n",
    "upset(mutations, sets = c(\"PTEN\", \"TP53\", \"EGFR\", \"PIK3R1\", \"RB1\"), sets.bar.color = \"#56B4E9\",\n",
    "order.by = \"freq\", empty.intersections = \"on\")"
   ]
  },
  {
   "cell_type": "markdown",
   "metadata": {},
   "source": [
    "Upset peak intersections"
   ]
  },
  {
   "cell_type": "code",
   "execution_count": 150,
   "metadata": {},
   "outputs": [
    {
     "data": {
      "text/plain": [
       "  chrom   start     end UNION IRI1A IRI2A SHAM1A SHAM2A\n",
       "1  chr1 3116592 3116795     1     0     0      0      1\n",
       "2  chr1 3116795 3117536     1     0     0      1      1\n",
       "3  chr1 3117536 3117640     1     0     0      1      0\n"
      ]
     },
     "metadata": {},
     "output_type": "display_data"
    }
   ],
   "source": [
    "%%R\n",
    "peak_intersections <- read.csv( \"post_macs2_peak-calling_consensus.q.01.len250.consensus.intersections.UpSetR.csv\", header=T, sep = \",\")\n",
    "head(peak_intersections, n=3)"
   ]
  },
  {
   "cell_type": "code",
   "execution_count": 151,
   "metadata": {},
   "outputs": [
    {
     "data": {
      "image/png": "[encoded data removed]"
     },
     "metadata": {},
     "output_type": "display_data"
    }
   ],
   "source": [
    "%%R  -h 300 -w 800 -u px\n",
    "upset(peak_intersections, sets = c(\"UNION\", \"IRI1A\", \"IRI2A\", \"SHAM1A\", \"SHAM2A\"), sets.bar.color = \"#56B4E9\",\n",
    "order.by = \"freq\", empty.intersections = \"on\")"
   ]
  },
  {
   "cell_type": "code",
   "execution_count": 141,
   "metadata": {},
   "outputs": [
    {
     "data": {
      "image/png": "[encoded data removed]"
     },
     "metadata": {},
     "output_type": "display_data"
    }
   ],
   "source": [
    "%%R  -h 300 -w 800 -u px\n",
    "upset(peak_intersections, sets = c(\"IRI1A\", \"IRI2A\", \"SHAM1A\", \"SHAM2A\"), sets.bar.color = \"#56B4E9\",\n",
    "order.by = \"freq\", empty.intersections = \"on\")"
   ]
  }
 ],
 "metadata": {
  "kernelspec": {
   "display_name": "Python 3",
   "language": "python",
   "name": "python3"
  },
  "language_info": {
   "codemirror_mode": {
    "name": "ipython",
    "version": 3
   },
   "file_extension": ".py",
   "mimetype": "text/x-python",
   "name": "python",
   "nbconvert_exporter": "python",
   "pygments_lexer": "ipython3",
   "version": "3.6.7"
  }
 },
 "nbformat": 4,
 "nbformat_minor": 2
}
