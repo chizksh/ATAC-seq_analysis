{
 "cells": [
  {
   "cell_type": "markdown",
   "metadata": {},
   "source": [
    "# Analysis after Peak-calling with MACS2"
   ]
  },
  {
   "cell_type": "raw",
   "metadata": {},
   "source": [
    "==> Sham1A_peaks.broadPeak <==\n",
    "Chrom, start, end, name, int(-10*log10pvalue), . , fold-change, -log10pval, -log10qval\n",
    "\n",
    "chr1    3012497 3012785 Sham1A_peak_1   3       .       1.92979 1.88640 0.32755\n",
    "chr1    3027637 3028381 Sham1A_peak_2   0       .       1.66762 1.36403 0.00738\n",
    "...\n",
    "\n",
    "pandas data pre-processing\n",
    "p < 0.05, 250-bp threshold\n",
    "[https://github.com/hms-dbmi/UpSetR](https://github.com/hms-dbmi/UpSetR)"
   ]
  },
  {
   "cell_type": "code",
   "execution_count": 24,
   "metadata": {},
   "outputs": [],
   "source": [
    "%matplotlib inline\n",
    "import pandas as pd\n",
    "import numpy as np\n",
    "import matplotlib.pyplot as plt"
   ]
  },
  {
   "cell_type": "code",
   "execution_count": 86,
   "metadata": {},
   "outputs": [],
   "source": [
    "def readBroadPeak(file, qthreshold=0.01, lenthreshold=250):\n",
    "    data = pd.read_csv(file, sep='\\t', header=None, \n",
    "            names = ['Chrom', 'start', 'end', 'name', 'score', '.', 'fc', 'neglogp', 'neglogq'])\n",
    "    data['len'] = abs(data['start'] - data['end'])\n",
    "    export_data = data[(data.neglogq >= (-1)*np.log10(qthreshold)) & (data.len >= lenthreshold)]\n",
    "    export_data = export_data.drop(columns=['len'])\n",
    "    return export_data"
   ]
  },
  {
   "cell_type": "code",
   "execution_count": 88,
   "metadata": {},
   "outputs": [],
   "source": [
    "IRI1A = readBroadPeak('./IRI1A_peaks.broadPeak')\n",
    "IRI2A = readBroadPeak('./IRI2A_peaks.broadPeak')\n",
    "SHAM1A = readBroadPeak('./Sham1A_peaks.broadPeak')\n",
    "SHAM2A =  readBroadPeak('./Sham2A_peaks.broadPeak')"
   ]
  },
  {
   "cell_type": "code",
   "execution_count": 89,
   "metadata": {},
   "outputs": [],
   "source": [
    "IRI1A.to_csv(\"./IRI1A_peaks.q.01.len250.broadPeak\", header=False, sep='\\t', index=False)\n",
    "IRI2A.to_csv(\"./IRI2A_peaks.q.01.len250.broadPeak\", header=False, sep='\\t', index=False)\n",
    "SHAM1A.to_csv(\"./SHAM1A_peaks.q.01.len250.broadPeak\", header=False, sep='\\t', index=False)\n",
    "SHAM2A.to_csv(\"./SHAM2A_peaks.q.01.len250.broadPeak\", header=False, sep='\\t', index=False)"
   ]
  },
  {
   "cell_type": "code",
   "execution_count": 90,
   "metadata": {},
   "outputs": [
    {
     "data": {
      "text/html": [
       "<div>\n",
       "<style scoped>\n",
       "    .dataframe tbody tr th:only-of-type {\n",
       "        vertical-align: middle;\n",
       "    }\n",
       "\n",
       "    .dataframe tbody tr th {\n",
       "        vertical-align: top;\n",
       "    }\n",
       "\n",
       "    .dataframe thead th {\n",
       "        text-align: right;\n",
       "    }\n",
       "</style>\n",
       "<table border=\"1\" class=\"dataframe\">\n",
       "  <thead>\n",
       "    <tr style=\"text-align: right;\">\n",
       "      <th></th>\n",
       "      <th>start</th>\n",
       "      <th>end</th>\n",
       "      <th>score</th>\n",
       "      <th>fc</th>\n",
       "      <th>neglogp</th>\n",
       "      <th>neglogq</th>\n",
       "    </tr>\n",
       "  </thead>\n",
       "  <tbody>\n",
       "    <tr>\n",
       "      <td>count</td>\n",
       "      <td>8.290200e+04</td>\n",
       "      <td>8.290200e+04</td>\n",
       "      <td>82902.000000</td>\n",
       "      <td>82902.000000</td>\n",
       "      <td>82902.000000</td>\n",
       "      <td>82902.000000</td>\n",
       "    </tr>\n",
       "    <tr>\n",
       "      <td>mean</td>\n",
       "      <td>7.474784e+07</td>\n",
       "      <td>7.474873e+07</td>\n",
       "      <td>165.733300</td>\n",
       "      <td>4.345791</td>\n",
       "      <td>18.603464</td>\n",
       "      <td>16.623200</td>\n",
       "    </tr>\n",
       "    <tr>\n",
       "      <td>std</td>\n",
       "      <td>4.395640e+07</td>\n",
       "      <td>4.395640e+07</td>\n",
       "      <td>225.955258</td>\n",
       "      <td>1.736312</td>\n",
       "      <td>22.839966</td>\n",
       "      <td>22.595563</td>\n",
       "    </tr>\n",
       "    <tr>\n",
       "      <td>min</td>\n",
       "      <td>8.085650e+05</td>\n",
       "      <td>8.102000e+05</td>\n",
       "      <td>20.000000</td>\n",
       "      <td>1.586580</td>\n",
       "      <td>3.482290</td>\n",
       "      <td>2.000030</td>\n",
       "    </tr>\n",
       "    <tr>\n",
       "      <td>25%</td>\n",
       "      <td>3.688139e+07</td>\n",
       "      <td>3.688208e+07</td>\n",
       "      <td>39.000000</td>\n",
       "      <td>3.028540</td>\n",
       "      <td>5.757837</td>\n",
       "      <td>3.972822</td>\n",
       "    </tr>\n",
       "    <tr>\n",
       "      <td>50%</td>\n",
       "      <td>7.251729e+07</td>\n",
       "      <td>7.251784e+07</td>\n",
       "      <td>80.000000</td>\n",
       "      <td>3.824855</td>\n",
       "      <td>9.972725</td>\n",
       "      <td>8.065150</td>\n",
       "    </tr>\n",
       "    <tr>\n",
       "      <td>75%</td>\n",
       "      <td>1.075940e+08</td>\n",
       "      <td>1.075951e+08</td>\n",
       "      <td>191.000000</td>\n",
       "      <td>5.201398</td>\n",
       "      <td>21.297007</td>\n",
       "      <td>19.195873</td>\n",
       "    </tr>\n",
       "    <tr>\n",
       "      <td>max</td>\n",
       "      <td>1.952320e+08</td>\n",
       "      <td>1.952331e+08</td>\n",
       "      <td>2950.000000</td>\n",
       "      <td>17.592900</td>\n",
       "      <td>298.922850</td>\n",
       "      <td>295.039490</td>\n",
       "    </tr>\n",
       "  </tbody>\n",
       "</table>\n",
       "</div>"
      ],
      "text/plain": [
       "              start           end         score            fc       neglogp  \\\n",
       "count  8.290200e+04  8.290200e+04  82902.000000  82902.000000  82902.000000   \n",
       "mean   7.474784e+07  7.474873e+07    165.733300      4.345791     18.603464   \n",
       "std    4.395640e+07  4.395640e+07    225.955258      1.736312     22.839966   \n",
       "min    8.085650e+05  8.102000e+05     20.000000      1.586580      3.482290   \n",
       "25%    3.688139e+07  3.688208e+07     39.000000      3.028540      5.757837   \n",
       "50%    7.251729e+07  7.251784e+07     80.000000      3.824855      9.972725   \n",
       "75%    1.075940e+08  1.075951e+08    191.000000      5.201398     21.297007   \n",
       "max    1.952320e+08  1.952331e+08   2950.000000     17.592900    298.922850   \n",
       "\n",
       "            neglogq  \n",
       "count  82902.000000  \n",
       "mean      16.623200  \n",
       "std       22.595563  \n",
       "min        2.000030  \n",
       "25%        3.972822  \n",
       "50%        8.065150  \n",
       "75%       19.195873  \n",
       "max      295.039490  "
      ]
     },
     "execution_count": 90,
     "metadata": {},
     "output_type": "execute_result"
    }
   ],
   "source": [
    "IRI1A.describe()"
   ]
  },
  {
   "cell_type": "code",
   "execution_count": 91,
   "metadata": {},
   "outputs": [
    {
     "data": {
      "text/plain": [
       "<matplotlib.collections.PathCollection at 0x7f61f05877b8>"
      ]
     },
     "execution_count": 91,
     "metadata": {},
     "output_type": "execute_result"
    },
    {
     "data": {
      "image/png": "[encoded data removed]",
      "text/plain": [
       "<Figure size 432x288 with 1 Axes>"
      ]
     },
     "metadata": {
      "needs_background": "light"
     },
     "output_type": "display_data"
    }
   ],
   "source": [
    "plt.scatter(np.log2(IRI1A.fc), IRI1A.neglogq)"
   ]
  },
  {
   "cell_type": "code",
   "execution_count": 1,
   "metadata": {},
   "outputs": [
    {
     "name": "stderr",
     "output_type": "stream",
     "text": [
      "/auto/rcf-proj3/klj/kim130/miniconda3/envs/jupyter-R3.6/lib/python3.8/site-packages/rpy2/robjects/pandas2ri.py:14: FutureWarning: pandas.core.index is deprecated and will be removed in a future version.  The public classes are available in the top-level namespace.\n",
      "  from pandas.core.index import Index as PandasIndex\n"
     ]
    }
   ],
   "source": [
    "import rpy2.ipython\n",
    "%reload_ext rpy2.ipython\n",
    "\n",
    "# suppress excessive warnings such as RRuntimeWarning\n",
    "import warnings\n",
    "from rpy2.rinterface import RRuntimeWarning\n",
    "warnings.filterwarnings(\"ignore\", category=RRuntimeWarning)"
   ]
  },
  {
   "cell_type": "markdown",
   "metadata": {},
   "source": [
    "## Calling consensus peaks in Bioconductor\n",
    "\n",
    "- Ref : https://ro-che.info/articles/2018-07-11-chip-seq-consensus"
   ]
  },
  {
   "cell_type": "code",
   "execution_count": 6,
   "metadata": {},
   "outputs": [],
   "source": [
    "%%R\n",
    "#library(UpSetR)\n",
    "library(rtracklayer)\n",
    "library(GenomicRanges)"
   ]
  },
  {
   "cell_type": "markdown",
   "metadata": {},
   "source": [
    "## Getting total union peak set [No filter]"
   ]
  },
  {
   "cell_type": "code",
   "execution_count": 65,
   "metadata": {},
   "outputs": [
    {
     "data": {
      "text/plain": [
       "[1] \"IRI1A_peaks.broadPeak\"  \"IRI2A_peaks.broadPeak\"  \"Sham1A_peaks.broadPeak\"\n",
       "[4] \"Sham2A_peaks.broadPeak\"\n"
      ]
     },
     "metadata": {},
     "output_type": "display_data"
    }
   ],
   "source": [
    "%%R\n",
    "macs2_peak_files_unfiltered.files <- list.files(pattern =\".*\\\\peaks.broadPeak\")\n",
    "macs2_peak_files_unfiltered.files"
   ]
  },
  {
   "cell_type": "code",
   "execution_count": 66,
   "metadata": {},
   "outputs": [
    {
     "data": {
      "text/plain": [
       "[[1]]\n",
       "GRanges object with 240761 ranges and 5 metadata columns:\n",
       "           seqnames            ranges strand |              name     score\n",
       "              <Rle>         <IRanges>  <Rle> |       <character> <numeric>\n",
       "       [1]     chr1   3012435-3012743      * |      IRI1A_peak_1         0\n",
       "       [2]     chr1   3014527-3015640      * |      IRI1A_peak_2         0\n",
       "       [3]     chr1   3019513-3019738      * |      IRI1A_peak_3         0\n",
       "       [4]     chr1   3026870-3027493      * |      IRI1A_peak_4         0\n",
       "       [5]     chr1   3039077-3039284      * |      IRI1A_peak_5         3\n",
       "       ...      ...               ...    ... .               ...       ...\n",
       "  [240757]     chrY   9881596-9881797      * | IRI1A_peak_240757         0\n",
       "  [240758]     chrY 10043114-10043337      * | IRI1A_peak_240758         0\n",
       "  [240759]     chrY 10512796-10513008      * | IRI1A_peak_240759         1\n",
       "  [240760]     chrY 41123356-41123789      * | IRI1A_peak_240760         0\n",
       "  [240761]     chrY 41153398-41153576      * | IRI1A_peak_240761         0\n",
       "           signalValue    pValue    qValue\n",
       "             <numeric> <numeric> <numeric>\n",
       "       [1]     1.61457   1.29462   0.01233\n",
       "       [2]     1.61795   1.30046   0.01212\n",
       "       [3]     1.53534    1.1552         0\n",
       "       [4]     1.55678   1.19244         0\n",
       "       [5]     1.88889   1.82303    0.3052\n",
       "       ...         ...       ...       ...\n",
       "  [240757]     1.63741   1.33252         0\n",
       "  [240758]     1.53534    1.1552         0\n",
       "  [240759]     1.72893   1.50878   0.11976\n",
       "  [240760]     1.75399    1.5494   0.09846\n",
       "  [240761]     1.53534    1.1552         0\n",
       "  -------\n",
       "  seqinfo: 21 sequences from an unspecified genome; no seqlengths\n",
       "\n",
       "[[2]]\n",
       "GRanges object with 197128 ranges and 5 metadata columns:\n",
       "           seqnames            ranges strand |              name     score\n",
       "              <Rle>         <IRanges>  <Rle> |       <character> <numeric>\n",
       "       [1]     chr1   3012527-3012729      * |      IRI2A_peak_1         0\n",
       "       [2]     chr1   3042717-3043645      * |      IRI2A_peak_2         2\n",
       "       [3]     chr1   3098869-3099091      * |      IRI2A_peak_3         0\n",
       "       [4]     chr1   3110194-3110367      * |      IRI2A_peak_4         0\n",
       "       [5]     chr1   3116862-3117026      * |      IRI2A_peak_5         5\n",
       "       ...      ...               ...    ... .               ...       ...\n",
       "  [197124]     chrY   4386768-4387278      * | IRI2A_peak_197124         2\n",
       "  [197125]     chrY   6157836-6158054      * | IRI2A_peak_197125         2\n",
       "  [197126]     chrY   9479307-9479580      * | IRI2A_peak_197126         0\n",
       "  [197127]     chrY   9510984-9511229      * | IRI2A_peak_197127         0\n",
       "  [197128]     chrY 10195301-10195528      * | IRI2A_peak_197128         0\n",
       "           signalValue    pValue    qValue\n",
       "             <numeric> <numeric> <numeric>\n",
       "       [1]     1.75179   1.47369   0.09889\n",
       "       [2]     1.83027   1.62584   0.23513\n",
       "       [3]     1.59826   1.21341         0\n",
       "       [4]     1.77766    1.5083   0.04551\n",
       "       [5]     2.09479   2.20543   0.58784\n",
       "       ...         ...       ...       ...\n",
       "  [197124]     1.87754   1.72016   0.28296\n",
       "  [197125]     1.97168   1.84487   0.22835\n",
       "  [197126]     1.64949   1.29662   0.00541\n",
       "  [197127]     1.63616   1.27497   0.00401\n",
       "  [197128]     1.66961    1.3293   0.00754\n",
       "  -------\n",
       "  seqinfo: 21 sequences from an unspecified genome; no seqlengths\n",
       "\n",
       "[[3]]\n",
       "GRanges object with 217160 ranges and 5 metadata columns:\n",
       "           seqnames            ranges strand |               name     score\n",
       "              <Rle>         <IRanges>  <Rle> |        <character> <numeric>\n",
       "       [1]     chr1   3012498-3012785      * |      Sham1A_peak_1         3\n",
       "       [2]     chr1   3027638-3028381      * |      Sham1A_peak_2         0\n",
       "       [3]     chr1   3030243-3030668      * |      Sham1A_peak_3         0\n",
       "       [4]     chr1   3040235-3041054      * |      Sham1A_peak_4         6\n",
       "       [5]     chr1   3041768-3042279      * |      Sham1A_peak_5         1\n",
       "       ...      ...               ...    ... .                ...       ...\n",
       "  [217156]     chrY 10412810-10413013      * | Sham1A_peak_217156         6\n",
       "  [217157]     chrY 10454461-10454848      * | Sham1A_peak_217157         0\n",
       "  [217158]     chrY 10512787-10513033      * | Sham1A_peak_217158        10\n",
       "  [217159]     chrY 41089491-41089671      * | Sham1A_peak_217159         0\n",
       "  [217160]     chrY 41122766-41123933      * | Sham1A_peak_217160         1\n",
       "           signalValue    pValue    qValue\n",
       "             <numeric> <numeric> <numeric>\n",
       "       [1]     1.92979    1.8864   0.32755\n",
       "       [2]     1.66762   1.36403   0.00738\n",
       "       [3]     1.62373   1.28651         0\n",
       "       [4]     2.01768   2.12905   0.60705\n",
       "       [5]     1.79634   1.60229   0.11264\n",
       "       ...         ...       ...       ...\n",
       "  [217156]      2.1411   2.33881   0.66926\n",
       "  [217157]     1.62373   1.28651         0\n",
       "  [217158]      2.4032   2.86302   1.09058\n",
       "  [217159]     1.62373   1.28651         0\n",
       "  [217160]     1.82832   1.67079   0.16628\n",
       "  -------\n",
       "  seqinfo: 21 sequences from an unspecified genome; no seqlengths\n",
       "\n",
       "[[4]]\n",
       "GRanges object with 197030 ranges and 5 metadata columns:\n",
       "           seqnames            ranges strand |               name     score\n",
       "              <Rle>         <IRanges>  <Rle> |        <character> <numeric>\n",
       "       [1]     chr1   3003427-3003870      * |      Sham2A_peak_1         3\n",
       "       [2]     chr1   3039085-3039257      * |      Sham2A_peak_2         1\n",
       "       [3]     chr1   3040241-3040979      * |      Sham2A_peak_3         4\n",
       "       [4]     chr1   3041768-3043682      * |      Sham2A_peak_4        12\n",
       "       [5]     chr1   3046636-3047259      * |      Sham2A_peak_5         1\n",
       "       ...      ...               ...    ... .                ...       ...\n",
       "  [197026]     chrY 10214159-10214863      * | Sham2A_peak_197026         0\n",
       "  [197027]     chrY 10474041-10474468      * | Sham2A_peak_197027         0\n",
       "  [197028]     chrY 10561059-10561294      * | Sham2A_peak_197028         5\n",
       "  [197029]     chrY 41123190-41123933      * | Sham2A_peak_197029        14\n",
       "  [197030]     chrY 41153012-41153221      * | Sham2A_peak_197030         6\n",
       "           signalValue    pValue    qValue\n",
       "             <numeric> <numeric> <numeric>\n",
       "       [1]     1.95421   2.01721   0.36153\n",
       "       [2]     1.83844   1.75927   0.14273\n",
       "       [3]     1.99532   2.12464   0.49481\n",
       "       [4]     2.24747    2.8518   1.20504\n",
       "       [5]     1.76497   1.61962   0.12483\n",
       "       ...         ...       ...       ...\n",
       "  [197026]     1.62582   1.34257   0.00493\n",
       "  [197027]     1.60488   1.30295   0.00186\n",
       "  [197028]     1.97172   2.08275   0.51553\n",
       "  [197029]     2.36495   3.14996   1.42998\n",
       "  [197030]     2.09835   2.34705   0.64748\n",
       "  -------\n",
       "  seqinfo: 21 sequences from an unspecified genome; no seqlengths\n",
       "\n"
      ]
     },
     "metadata": {},
     "output_type": "display_data"
    }
   ],
   "source": [
    "%%R\n",
    "macs2_peak_files_unfiltered.granges <- lapply(macs2_peak_files_unfiltered.files, import)\n",
    "macs2_peak_files_unfiltered.granges"
   ]
  },
  {
   "cell_type": "code",
   "execution_count": 67,
   "metadata": {},
   "outputs": [
    {
     "data": {
      "text/plain": [
       "GRangesList object of length 4:\n",
       "[[1]] \n",
       "GRanges object with 240761 ranges and 5 metadata columns:\n",
       "           seqnames            ranges strand |              name     score\n",
       "              <Rle>         <IRanges>  <Rle> |       <character> <numeric>\n",
       "       [1]     chr1   3012435-3012743      * |      IRI1A_peak_1         0\n",
       "       [2]     chr1   3014527-3015640      * |      IRI1A_peak_2         0\n",
       "       [3]     chr1   3019513-3019738      * |      IRI1A_peak_3         0\n",
       "       [4]     chr1   3026870-3027493      * |      IRI1A_peak_4         0\n",
       "       [5]     chr1   3039077-3039284      * |      IRI1A_peak_5         3\n",
       "       ...      ...               ...    ... .               ...       ...\n",
       "  [240757]     chrY   9881596-9881797      * | IRI1A_peak_240757         0\n",
       "  [240758]     chrY 10043114-10043337      * | IRI1A_peak_240758         0\n",
       "  [240759]     chrY 10512796-10513008      * | IRI1A_peak_240759         1\n",
       "  [240760]     chrY 41123356-41123789      * | IRI1A_peak_240760         0\n",
       "  [240761]     chrY 41153398-41153576      * | IRI1A_peak_240761         0\n",
       "           signalValue    pValue    qValue\n",
       "             <numeric> <numeric> <numeric>\n",
       "       [1]     1.61457   1.29462   0.01233\n",
       "       [2]     1.61795   1.30046   0.01212\n",
       "       [3]     1.53534    1.1552         0\n",
       "       [4]     1.55678   1.19244         0\n",
       "       [5]     1.88889   1.82303    0.3052\n",
       "       ...         ...       ...       ...\n",
       "  [240757]     1.63741   1.33252         0\n",
       "  [240758]     1.53534    1.1552         0\n",
       "  [240759]     1.72893   1.50878   0.11976\n",
       "  [240760]     1.75399    1.5494   0.09846\n",
       "  [240761]     1.53534    1.1552         0\n",
       "\n",
       "...\n",
       "<3 more elements>\n",
       "-------\n",
       "seqinfo: 21 sequences from an unspecified genome; no seqlengths\n"
      ]
     },
     "metadata": {},
     "output_type": "display_data"
    }
   ],
   "source": [
    "%%R\n",
    "macs2_peak_files_unfiltered.grangeslist <- GRangesList(macs2_peak_files_unfiltered.granges)\n",
    "macs2_peak_files_unfiltered.grangeslist"
   ]
  },
  {
   "cell_type": "code",
   "execution_count": 68,
   "metadata": {},
   "outputs": [
    {
     "data": {
      "text/plain": [
       "RleList of length 21\n",
       "$chr1\n",
       "integer-Rle of length 195309171 with 149926 runs\n",
       "  Lengths: 3003426     444    8564      63 ...      20     187      83      10\n",
       "  Values :       0       1       0       1 ...       1       3       2       1\n",
       "\n",
       "$chr10\n",
       "integer-Rle of length 130542265 with 96465 runs\n",
       "  Lengths: 3170106     190    2598     164 ...     605       1      34       4\n",
       "  Values :       0       1       0       1 ...       4       3       2       1\n",
       "\n",
       "$chr11\n",
       "integer-Rle of length 121977616 with 82210 runs\n",
       "  Lengths: 3201954     115       7       1 ...    9015     290   11267     190\n",
       "  Values :       0       1       2       3 ...       0       1       0       1\n",
       "\n",
       "$chr12\n",
       "integer-Rle of length 120002754 with 84471 runs\n",
       "  Lengths: 3098110      26       3      15 ...     271     184    9280     193\n",
       "  Values :       0       1       2       3 ...       2       1       0       1\n",
       "\n",
       "$chr13\n",
       "integer-Rle of length 120313820 with 80142 runs\n",
       "  Lengths: 3045440     177     212      12 ...    1917     261    8782     743\n",
       "  Values :       0       1       2       1 ...       0       1       0       1\n",
       "\n",
       "...\n",
       "<16 more elements>\n"
      ]
     },
     "metadata": {},
     "output_type": "display_data"
    }
   ],
   "source": [
    "%%R\n",
    "macs2_peak_files_unfiltered.coverage <- coverage(macs2_peak_files_unfiltered.grangeslist)\n",
    "macs2_peak_files_unfiltered.coverage"
   ]
  },
  {
   "cell_type": "code",
   "execution_count": 77,
   "metadata": {},
   "outputs": [
    {
     "data": {
      "text/plain": [
       "GRanges object with 374668 ranges and 0 metadata columns:\n",
       "           seqnames            ranges strand\n",
       "              <Rle>         <IRanges>  <Rle>\n",
       "       [1]     chr1   3003427-3003870      *\n",
       "       [2]     chr1   3012435-3012785      *\n",
       "       [3]     chr1   3014527-3015640      *\n",
       "       [4]     chr1   3019513-3019738      *\n",
       "       [5]     chr1   3026870-3027493      *\n",
       "       ...      ...               ...    ...\n",
       "  [374664]     chrY 10561059-10561294      *\n",
       "  [374665]     chrY 41089491-41089671      *\n",
       "  [374666]     chrY 41122766-41123933      *\n",
       "  [374667]     chrY 41153012-41153221      *\n",
       "  [374668]     chrY 41153398-41153576      *\n",
       "  -------\n",
       "  seqinfo: 21 sequences from an unspecified genome; no seqlengths\n"
      ]
     },
     "metadata": {},
     "output_type": "display_data"
    }
   ],
   "source": [
    "%%R\n",
    "# slice function : https://support.bioconductor.org/p/83326/\n",
    "# https://www.rdocumentation.org/packages/IRanges/versions/2.6.1/topics/slice-methods\n",
    "# lower : the regions in the genome where coverage is at least 2\n",
    "macs2_peak_files_unfiltered.covered_ranges <- slice(macs2_peak_files_unfiltered.coverage, lower=1, rangesOnly=T)\n",
    "macs2_peak_files_unfiltered.covered_ranges <- GRanges(macs2_peak_files_unfiltered.covered_ranges)\n",
    "macs2_peak_files_unfiltered.covered_ranges"
   ]
  },
  {
   "cell_type": "markdown",
   "metadata": {},
   "source": [
    "#### Total Union peak : 374,668 peaks"
   ]
  },
  {
   "cell_type": "code",
   "execution_count": 79,
   "metadata": {},
   "outputs": [
    {
     "data": {
      "text/plain": [
       "GRanges object with 357013 ranges and 0 metadata columns:\n",
       "           seqnames            ranges strand\n",
       "              <Rle>         <IRanges>  <Rle>\n",
       "       [1]     chr1   3003427-3003870      *\n",
       "       [2]     chr1   3012435-3012785      *\n",
       "       [3]     chr1   3014527-3015640      *\n",
       "       [4]     chr1   3019513-3019738      *\n",
       "       [5]     chr1   3026870-3028381      *\n",
       "       ...      ...               ...    ...\n",
       "  [357009]     chrY 10512787-10513033      *\n",
       "  [357010]     chrY 10561059-10561294      *\n",
       "  [357011]     chrY 41089491-41089671      *\n",
       "  [357012]     chrY 41122766-41123933      *\n",
       "  [357013]     chrY 41153012-41153576      *\n",
       "  -------\n",
       "  seqinfo: 21 sequences from an unspecified genome; no seqlengths\n"
      ]
     },
     "metadata": {},
     "output_type": "display_data"
    }
   ],
   "source": [
    "%%R\n",
    "# reduce function: reduce returns an object of the same type as x containing reduced ranges for each distinct\n",
    "# (seqname, strand) pairing. The names (names(x)) and the metadata columns in x are dropped.\n",
    "# See ?reduce for more information about range reduction and for a description of the optional arguments.\n",
    "# More : https://www.rdocumentation.org/packages/GenomicRanges/versions/1.24.1/topics/inter-range-methods\n",
    "macs2_peak_files_unfiltered.merged_covered_ranges <- reduce(macs2_peak_files_unfiltered.covered_ranges, \n",
    "                                                            min.gapwidth=500)\n",
    "\n",
    "macs2_peak_files_unfiltered.merged_covered_ranges"
   ]
  },
  {
   "cell_type": "markdown",
   "metadata": {},
   "source": [
    "#### Merged Union peaks (nearby threshold 500bp) : 357,013"
   ]
  },
  {
   "cell_type": "code",
   "execution_count": 80,
   "metadata": {},
   "outputs": [],
   "source": [
    "%%R\n",
    "export(macs2_peak_files_unfiltered.merged_covered_ranges, \"post_macs2_peak-calling_consensus.noFilter.UNION.broadPeak.bed\")"
   ]
  },
  {
   "cell_type": "markdown",
   "metadata": {},
   "source": [
    "## Getting total union peak set [Filter FDR <= 0.01, len >= 250]"
   ]
  },
  {
   "cell_type": "code",
   "execution_count": 93,
   "metadata": {},
   "outputs": [
    {
     "data": {
      "text/plain": [
       "GRanges object with 107460 ranges and 0 metadata columns:\n",
       "           seqnames          ranges strand\n",
       "              <Rle>       <IRanges>  <Rle>\n",
       "       [1]     chr1 3116593-3117640      *\n",
       "       [2]     chr1 3119338-3121591      *\n",
       "       [3]     chr1 3126063-3126476      *\n",
       "       [4]     chr1 3154842-3157891      *\n",
       "       [5]     chr1 3176551-3176879      *\n",
       "       ...      ...             ...    ...\n",
       "  [107456]     chrY 1254838-1255276      *\n",
       "  [107457]     chrY 2308813-2309456      *\n",
       "  [107458]     chrY 5670911-5671236      *\n",
       "  [107459]     chrY 5920093-5920381      *\n",
       "  [107460]     chrY 9389661-9390192      *\n",
       "  -------\n",
       "  seqinfo: 21 sequences from an unspecified genome; no seqlengths\n"
      ]
     },
     "metadata": {},
     "output_type": "display_data"
    }
   ],
   "source": [
    "%%R\n",
    "macs2_peak_files_filtered.files <- list.files(pattern =\".*\\\\q.01.len250.broadPeak\")\n",
    "macs2_peak_files_filtered.granges <- lapply(macs2_peak_files_filtered.files, import)\n",
    "macs2_peak_files_filtered.grangeslist <- GRangesList(macs2_peak_files_filtered.granges)\n",
    "macs2_peak_files_filtered.coverage <- coverage(macs2_peak_files_filtered.grangeslist)\n",
    "macs2_peak_files_filtered.covered_ranges <- slice(macs2_peak_files_filtered.coverage, lower=1, rangesOnly=T)\n",
    "macs2_peak_files_filtered.covered_ranges <- GRanges(macs2_peak_files_filtered.covered_ranges)\n",
    "macs2_peak_files_filtered.covered_ranges"
   ]
  },
  {
   "cell_type": "code",
   "execution_count": 122,
   "metadata": {},
   "outputs": [
    {
     "data": {
      "text/plain": [
       "DataFrame with 107460 rows and 0 columns\n"
      ]
     },
     "metadata": {},
     "output_type": "display_data"
    }
   ],
   "source": [
    "%%R\n",
    "print(mcols(macs2_peak_files_filtered.covered_ranges))"
   ]
  },
  {
   "cell_type": "markdown",
   "metadata": {},
   "source": [
    "#### Total Union peak : 107,460 peaks"
   ]
  },
  {
   "cell_type": "code",
   "execution_count": 94,
   "metadata": {},
   "outputs": [
    {
     "data": {
      "text/plain": [
       "GRanges object with 107371 ranges and 0 metadata columns:\n",
       "           seqnames          ranges strand\n",
       "              <Rle>       <IRanges>  <Rle>\n",
       "       [1]     chr1 3116593-3117640      *\n",
       "       [2]     chr1 3119338-3121591      *\n",
       "       [3]     chr1 3126063-3126476      *\n",
       "       [4]     chr1 3154842-3157891      *\n",
       "       [5]     chr1 3176551-3176879      *\n",
       "       ...      ...             ...    ...\n",
       "  [107367]     chrY 1254838-1255276      *\n",
       "  [107368]     chrY 2308813-2309456      *\n",
       "  [107369]     chrY 5670911-5671236      *\n",
       "  [107370]     chrY 5920093-5920381      *\n",
       "  [107371]     chrY 9389661-9390192      *\n",
       "  -------\n",
       "  seqinfo: 21 sequences from an unspecified genome; no seqlengths\n"
      ]
     },
     "metadata": {},
     "output_type": "display_data"
    }
   ],
   "source": [
    "%%R\n",
    "macs2_peak_files_filtered.merged_covered_ranges <- reduce(macs2_peak_files_filtered.covered_ranges, \n",
    "                                                            min.gapwidth=500)\n",
    "macs2_peak_files_filtered.merged_covered_ranges"
   ]
  },
  {
   "cell_type": "code",
   "execution_count": 123,
   "metadata": {},
   "outputs": [
    {
     "data": {
      "text/plain": [
       "DataFrame with 107371 rows and 0 columns\n"
      ]
     },
     "metadata": {},
     "output_type": "display_data"
    }
   ],
   "source": [
    "%%R\n",
    "print(mcols(macs2_peak_files_filtered.merged_covered_ranges))"
   ]
  },
  {
   "cell_type": "markdown",
   "metadata": {},
   "source": [
    "#### Merged Union peaks (nearby threshold 500bp) : 107,371"
   ]
  },
  {
   "cell_type": "code",
   "execution_count": 95,
   "metadata": {},
   "outputs": [],
   "source": [
    "%%R\n",
    "export(macs2_peak_files_filtered.merged_covered_ranges,\n",
    "       \"post_macs2_peak-calling_consensus.q.01.len250.UNION.broadPeak.bed\")"
   ]
  },
  {
   "cell_type": "markdown",
   "metadata": {},
   "source": [
    "### Individual files"
   ]
  },
  {
   "cell_type": "code",
   "execution_count": 127,
   "metadata": {},
   "outputs": [],
   "source": [
    "%%R\n",
    "merge_covered_range <- function(pattern=\".*\\\\q.01.len250.broadPeak\") {   \n",
    "    macs2_peak_files_filtered.files <- list.files(pattern=pattern)\n",
    "    macs2_peak_files_filtered.granges <- lapply(macs2_peak_files_filtered.files, import)\n",
    "    macs2_peak_files_filtered.grangeslist <- GRangesList(macs2_peak_files_filtered.granges)\n",
    "    macs2_peak_files_filtered.coverage <- coverage(macs2_peak_files_filtered.grangeslist)\n",
    "    macs2_peak_files_filtered.covered_ranges <- slice(macs2_peak_files_filtered.coverage, lower=1, rangesOnly=T)\n",
    "    macs2_peak_files_filtered.covered_ranges <- GRanges(macs2_peak_files_filtered.covered_ranges)\n",
    "    macs2_peak_files_filtered.covered_ranges\n",
    "    print(mcols(macs2_peak_files_filtered.covered_ranges))\n",
    "    macs2_peak_files_filtered.merged_covered_ranges <- reduce(macs2_peak_files_filtered.covered_ranges, \n",
    "                                                            min.gapwidth=500)\n",
    "    print(mcols(macs2_peak_files_filtered.merged_covered_ranges))\n",
    "   return(macs2_peak_files_filtered.merged_covered_ranges)   \n",
    " }"
   ]
  },
  {
   "cell_type": "markdown",
   "metadata": {},
   "source": [
    "IRI1A"
   ]
  },
  {
   "cell_type": "code",
   "execution_count": 129,
   "metadata": {},
   "outputs": [
    {
     "data": {
      "text/plain": [
       "DataFrame with 82902 rows and 0 columns\n",
       "DataFrame with 82902 rows and 0 columns\n",
       "GRanges object with 82902 ranges and 0 metadata columns:\n",
       "          seqnames          ranges strand\n",
       "             <Rle>       <IRanges>  <Rle>\n",
       "      [1]     chr1 3119639-3120688      *\n",
       "      [2]     chr1 3248952-3249591      *\n",
       "      [3]     chr1 3346784-3350416      *\n",
       "      [4]     chr1 3372578-3373177      *\n",
       "      [5]     chr1 3399855-3401447      *\n",
       "      ...      ...             ...    ...\n",
       "  [82898]     chrY 1009981-1010813      *\n",
       "  [82899]     chrY 1178532-1178922      *\n",
       "  [82900]     chrY 1212311-1212621      *\n",
       "  [82901]     chrY 1244877-1246086      *\n",
       "  [82902]     chrY 5920093-5920381      *\n",
       "  -------\n",
       "  seqinfo: 21 sequences from an unspecified genome; no seqlengths\n"
      ]
     },
     "metadata": {},
     "output_type": "display_data"
    }
   ],
   "source": [
    "%%R\n",
    "merge_covered_range(pattern=\"IRI1A_peaks.q.01.len250.broadPeak\")"
   ]
  },
  {
   "cell_type": "markdown",
   "metadata": {},
   "source": [
    "IRI2A"
   ]
  },
  {
   "cell_type": "code",
   "execution_count": 130,
   "metadata": {},
   "outputs": [
    {
     "data": {
      "text/plain": [
       "DataFrame with 81982 rows and 0 columns\n",
       "DataFrame with 81982 rows and 0 columns\n",
       "GRanges object with 81982 ranges and 0 metadata columns:\n",
       "          seqnames          ranges strand\n",
       "             <Rle>       <IRanges>  <Rle>\n",
       "      [1]     chr1 3119611-3121591      *\n",
       "      [2]     chr1 3248840-3249563      *\n",
       "      [3]     chr1 3349863-3350345      *\n",
       "      [4]     chr1 3372589-3373160      *\n",
       "      [5]     chr1 3399825-3401532      *\n",
       "      ...      ...             ...    ...\n",
       "  [81978]     chrY 1009997-1010824      *\n",
       "  [81979]     chrY 1066936-1067213      *\n",
       "  [81980]     chrY 1178532-1178929      *\n",
       "  [81981]     chrY 1212334-1212585      *\n",
       "  [81982]     chrY 1244692-1246098      *\n",
       "  -------\n",
       "  seqinfo: 21 sequences from an unspecified genome; no seqlengths\n"
      ]
     },
     "metadata": {},
     "output_type": "display_data"
    }
   ],
   "source": [
    "%%R\n",
    "merge_covered_range(pattern=\"IRI2A_peaks.q.01.len250.broadPeak\")"
   ]
  },
  {
   "cell_type": "markdown",
   "metadata": {},
   "source": [
    "SHAM1A"
   ]
  },
  {
   "cell_type": "code",
   "execution_count": 131,
   "metadata": {},
   "outputs": [
    {
     "data": {
      "text/plain": [
       "DataFrame with 77309 rows and 0 columns\n",
       "DataFrame with 77309 rows and 0 columns\n",
       "GRanges object with 77309 ranges and 0 metadata columns:\n",
       "          seqnames          ranges strand\n",
       "             <Rle>       <IRanges>  <Rle>\n",
       "      [1]     chr1 3116796-3117640      *\n",
       "      [2]     chr1 3119338-3120744      *\n",
       "      [3]     chr1 3155407-3156015      *\n",
       "      [4]     chr1 3248813-3251126      *\n",
       "      [5]     chr1 3349863-3350442      *\n",
       "      ...      ...             ...    ...\n",
       "  [77305]     chrY 1244764-1246080      *\n",
       "  [77306]     chrY 1254838-1255276      *\n",
       "  [77307]     chrY 2308823-2309168      *\n",
       "  [77308]     chrY 5670911-5671236      *\n",
       "  [77309]     chrY 9389697-9390192      *\n",
       "  -------\n",
       "  seqinfo: 21 sequences from an unspecified genome; no seqlengths\n"
      ]
     },
     "metadata": {},
     "output_type": "display_data"
    }
   ],
   "source": [
    "%%R\n",
    "merge_covered_range(pattern=\"SHAM1A_peaks.q.01.len250.broadPeak\")"
   ]
  },
  {
   "cell_type": "markdown",
   "metadata": {},
   "source": [
    "SHAM2A"
   ]
  },
  {
   "cell_type": "code",
   "execution_count": 132,
   "metadata": {},
   "outputs": [
    {
     "data": {
      "text/plain": [
       "DataFrame with 81374 rows and 0 columns\n",
       "DataFrame with 81374 rows and 0 columns\n",
       "GRanges object with 81374 ranges and 0 metadata columns:\n",
       "          seqnames          ranges strand\n",
       "             <Rle>       <IRanges>  <Rle>\n",
       "      [1]     chr1 3116593-3117536      *\n",
       "      [2]     chr1 3119604-3120580      *\n",
       "      [3]     chr1 3126063-3126476      *\n",
       "      [4]     chr1 3154842-3157891      *\n",
       "      [5]     chr1 3176551-3176879      *\n",
       "      ...      ...             ...    ...\n",
       "  [81370]     chrY 1212157-1212604      *\n",
       "  [81371]     chrY 1244877-1246082      *\n",
       "  [81372]     chrY 1254841-1255169      *\n",
       "  [81373]     chrY 2308813-2309456      *\n",
       "  [81374]     chrY 9389661-9390019      *\n",
       "  -------\n",
       "  seqinfo: 21 sequences from an unspecified genome; no seqlengths\n"
      ]
     },
     "metadata": {},
     "output_type": "display_data"
    }
   ],
   "source": [
    "%%R\n",
    "merge_covered_range(pattern=\"SHAM2A_peaks.q.01.len250.broadPeak\")"
   ]
  },
  {
   "cell_type": "markdown",
   "metadata": {},
   "source": [
    "### Using R 3.6 Biocmanger for ChIPQC and soGGi"
   ]
  },
  {
   "cell_type": "markdown",
   "metadata": {},
   "source": [
    "https://rockefelleruniversity.github.io/RU_ATAC_Workshop.html#greenleaf-dataset---annotating-open-regions."
   ]
  },
  {
   "cell_type": "markdown",
   "metadata": {},
   "source": [
    "## Load consensus - intersection data -making bedGraph"
   ]
  },
  {
   "cell_type": "code",
   "execution_count": 2,
   "metadata": {
    "scrolled": true
   },
   "outputs": [
    {
     "name": "stderr",
     "output_type": "stream",
     "text": [
      "R[write to console]: Loading required package: BiocGenerics\n",
      "\n",
      "R[write to console]: Loading required package: parallel\n",
      "\n",
      "R[write to console]: \n",
      "Attaching package: ‘BiocGenerics’\n",
      "\n",
      "\n",
      "R[write to console]: The following objects are masked from ‘package:parallel’:\n",
      "\n",
      "    clusterApply, clusterApplyLB, clusterCall, clusterEvalQ,\n",
      "    clusterExport, clusterMap, parApply, parCapply, parLapply,\n",
      "    parLapplyLB, parRapply, parSapply, parSapplyLB\n",
      "\n",
      "\n",
      "R[write to console]: The following objects are masked from ‘package:stats’:\n",
      "\n",
      "    IQR, mad, sd, var, xtabs\n",
      "\n",
      "\n",
      "R[write to console]: The following objects are masked from ‘package:base’:\n",
      "\n",
      "    anyDuplicated, append, as.data.frame, basename, cbind, colnames,\n",
      "    dirname, do.call, duplicated, eval, evalq, Filter, Find, get, grep,\n",
      "    grepl, intersect, is.unsorted, lapply, Map, mapply, match, mget,\n",
      "    order, paste, pmax, pmax.int, pmin, pmin.int, Position, rank,\n",
      "    rbind, Reduce, rownames, sapply, setdiff, sort, table, tapply,\n",
      "    union, unique, unsplit, which, which.max, which.min\n",
      "\n",
      "\n",
      "R[write to console]: Loading required package: SummarizedExperiment\n",
      "\n",
      "R[write to console]: Loading required package: GenomicRanges\n",
      "\n",
      "R[write to console]: Loading required package: stats4\n",
      "\n",
      "R[write to console]: Loading required package: S4Vectors\n",
      "\n",
      "R[write to console]: \n",
      "Attaching package: ‘S4Vectors’\n",
      "\n",
      "\n",
      "R[write to console]: The following object is masked from ‘package:base’:\n",
      "\n",
      "    expand.grid\n",
      "\n",
      "\n",
      "R[write to console]: Loading required package: IRanges\n",
      "\n",
      "R[write to console]: Loading required package: GenomeInfoDb\n",
      "\n",
      "R[write to console]: Loading required package: Biobase\n",
      "\n",
      "R[write to console]: Welcome to Bioconductor\n",
      "\n",
      "    Vignettes contain introductory material; view with\n",
      "    'browseVignettes()'. To cite Bioconductor, see\n",
      "    'citation(\"Biobase\")', and for packages 'citation(\"pkgname\")'.\n",
      "\n",
      "\n",
      "R[write to console]: Loading required package: DelayedArray\n",
      "\n",
      "R[write to console]: Loading required package: matrixStats\n",
      "\n",
      "R[write to console]: \n",
      "Attaching package: ‘matrixStats’\n",
      "\n",
      "\n",
      "R[write to console]: The following objects are masked from ‘package:Biobase’:\n",
      "\n",
      "    anyMissing, rowMedians\n",
      "\n",
      "\n",
      "R[write to console]: Loading required package: BiocParallel\n",
      "\n",
      "R[write to console]: \n",
      "Attaching package: ‘DelayedArray’\n",
      "\n",
      "\n",
      "R[write to console]: The following objects are masked from ‘package:matrixStats’:\n",
      "\n",
      "    colMaxs, colMins, colRanges, rowMaxs, rowMins, rowRanges\n",
      "\n",
      "\n",
      "R[write to console]: The following objects are masked from ‘package:base’:\n",
      "\n",
      "    aperm, apply, rowsum\n",
      "\n",
      "\n"
     ]
    }
   ],
   "source": [
    "%%R\n",
    "library(soGGi)"
   ]
  },
  {
   "cell_type": "markdown",
   "metadata": {},
   "source": [
    "%%R\n",
    "library(doMC)\n",
    "registerDoMC(2)"
   ]
  },
  {
   "cell_type": "code",
   "execution_count": 15,
   "metadata": {
    "scrolled": true
   },
   "outputs": [
    {
     "name": "stderr",
     "output_type": "stream",
     "text": [
      "R[write to console]: Loading required package: ggplot2\n",
      "\n",
      "R[write to console]: Loading required package: DiffBind\n",
      "\n",
      "R[write to console]: \n",
      "\n"
     ]
    }
   ],
   "source": [
    "%%R\n",
    "library(ChIPQC)"
   ]
  },
  {
   "cell_type": "code",
   "execution_count": 65,
   "metadata": {},
   "outputs": [
    {
     "name": "stdout",
     "output_type": "stream",
     "text": [
      "[1] \"../IRI1A_peaks.q.01.len250.broadPeak\" \n",
      "[2] \"../IRI2A_peaks.q.01.len250.broadPeak\" \n",
      "[3] \"../SHAM1A_peaks.q.01.len250.broadPeak\"\n",
      "[4] \"../SHAM2A_peaks.q.01.len250.broadPeak\"\n"
     ]
    }
   ],
   "source": [
    "%%R\n",
    "#https://rockefelleruniversity.github.io/RU_ATAC_Workshop.html\n",
    "macs2_peak_files_filtered.files <- list.files(path=\"..\",pattern=\".*\\\\q.01.len250.broadPeak\", full.names=TRUE)\n",
    "macs2_peak_files_filtered.files"
   ]
  },
  {
   "cell_type": "code",
   "execution_count": 68,
   "metadata": {},
   "outputs": [
    {
     "name": "stdout",
     "output_type": "stream",
     "text": [
      "[[1]]\n",
      "GRanges object with 82902 ranges and 5 metadata columns:\n",
      "          seqnames          ranges strand |              name     score\n",
      "             <Rle>       <IRanges>  <Rle> |       <character> <numeric>\n",
      "      [1]     chr1 3119639-3120688      * |     IRI1A_peak_14        41\n",
      "      [2]     chr1 3248952-3249591      * |     IRI1A_peak_39        51\n",
      "      [3]     chr1 3346784-3350416      * |     IRI1A_peak_46        32\n",
      "      [4]     chr1 3372578-3373177      * |     IRI1A_peak_48       462\n",
      "      [5]     chr1 3399855-3401447      * |     IRI1A_peak_50        94\n",
      "      ...      ...             ...    ... .               ...       ...\n",
      "  [82898]     chrY 1009981-1010813      * | IRI1A_peak_240704       384\n",
      "  [82899]     chrY 1178532-1178922      * | IRI1A_peak_240719        67\n",
      "  [82900]     chrY 1212311-1212621      * | IRI1A_peak_240720        30\n",
      "  [82901]     chrY 1244877-1246086      * | IRI1A_peak_240722       222\n",
      "  [82902]     chrY 5920093-5920381      * | IRI1A_peak_240743        25\n",
      "          signalValue    pValue    qValue\n",
      "            <numeric> <numeric> <numeric>\n",
      "      [1]      3.3966   6.05404   4.19678\n",
      "      [2]      3.3989   6.87547   5.18208\n",
      "      [3]     2.91906   4.96386    3.2444\n",
      "      [4]      8.4507  48.66312  46.27046\n",
      "      [5]     4.05124  11.39614   9.48632\n",
      "      ...         ...       ...       ...\n",
      "  [82898]     9.31192  40.85874  38.48808\n",
      "  [82899]     4.07087   8.71045   6.78967\n",
      "  [82900]     3.08338   4.89799   3.06896\n",
      "  [82901]     5.45575  24.38153  22.26516\n",
      "  [82902]     2.92193   4.34598   2.53445\n",
      "  -------\n",
      "  seqinfo: 21 sequences from an unspecified genome; no seqlengths\n",
      "\n",
      "[[2]]\n",
      "GRanges object with 81982 ranges and 5 metadata columns:\n",
      "          seqnames          ranges strand |              name     score\n",
      "             <Rle>       <IRanges>  <Rle> |       <character> <numeric>\n",
      "      [1]     chr1 3119611-3121591      * |      IRI2A_peak_6        36\n",
      "      [2]     chr1 3248840-3249563      * |     IRI2A_peak_23        30\n",
      "      [3]     chr1 3349863-3350345      * |     IRI2A_peak_27        35\n",
      "      [4]     chr1 3372589-3373160      * |     IRI2A_peak_29       470\n",
      "      [5]     chr1 3399825-3401532      * |     IRI2A_peak_31        88\n",
      "      ...      ...             ...    ... .               ...       ...\n",
      "  [81978]     chrY 1009997-1010824      * | IRI2A_peak_197102       385\n",
      "  [81979]     chrY 1066936-1067213      * | IRI2A_peak_197105        42\n",
      "  [81980]     chrY 1178532-1178929      * | IRI2A_peak_197111       109\n",
      "  [81981]     chrY 1212334-1212585      * | IRI2A_peak_197115        30\n",
      "  [81982]     chrY 1244692-1246098      * | IRI2A_peak_197116       235\n",
      "          signalValue    pValue    qValue\n",
      "            <numeric> <numeric> <numeric>\n",
      "      [1]     3.25816   5.48284    3.6646\n",
      "      [2]     3.02231   4.73756   3.02682\n",
      "      [3]     3.45904   5.39919   3.52386\n",
      "      [4]     8.99308  49.42485  47.00904\n",
      "      [5]     4.40936  10.76737   8.86668\n",
      "      ...         ...       ...       ...\n",
      "  [81978]     9.43754   40.9949  38.58952\n",
      "  [81979]      3.7494   6.17813   4.29212\n",
      "  [81980]     5.71372  13.01586  10.95153\n",
      "  [81981]     3.23669   4.86447    3.0429\n",
      "  [81982]      5.6267  25.58899  23.53447\n",
      "  -------\n",
      "  seqinfo: 21 sequences from an unspecified genome; no seqlengths\n",
      "\n",
      "[[3]]\n",
      "GRanges object with 77309 ranges and 5 metadata columns:\n",
      "          seqnames          ranges strand |               name     score\n",
      "             <Rle>       <IRanges>  <Rle> |        <character> <numeric>\n",
      "      [1]     chr1 3116796-3117640      * |     Sham1A_peak_14        36\n",
      "      [2]     chr1 3119338-3120744      * |     Sham1A_peak_15        42\n",
      "      [3]     chr1 3155407-3156015      * |     Sham1A_peak_25        80\n",
      "      [4]     chr1 3248813-3251126      * |     Sham1A_peak_44        37\n",
      "      [5]     chr1 3349863-3350442      * |     Sham1A_peak_56        49\n",
      "      ...      ...             ...    ... .                ...       ...\n",
      "  [77305]     chrY 1244764-1246080      * | Sham1A_peak_217113       359\n",
      "  [77306]     chrY 1254838-1255276      * | Sham1A_peak_217114        68\n",
      "  [77307]     chrY 2308823-2309168      * | Sham1A_peak_217119        32\n",
      "  [77308]     chrY 5670911-5671236      * | Sham1A_peak_217129        27\n",
      "  [77309]     chrY 9389697-9390192      * | Sham1A_peak_217147        20\n",
      "          signalValue    pValue    qValue\n",
      "            <numeric> <numeric> <numeric>\n",
      "      [1]     2.72474   5.32746   3.62565\n",
      "      [2]     2.94375   6.07664    4.2537\n",
      "      [3]     4.72733  10.14308   8.09845\n",
      "      [4]     2.99532   5.44024   3.77601\n",
      "      [5]     3.50928   6.81153    4.9367\n",
      "      ...         ...       ...       ...\n",
      "  [77305]     6.17174  37.97544  35.93357\n",
      "  [77306]     4.25351   8.83259   6.84608\n",
      "  [77307]     3.10735   5.02754   3.22713\n",
      "  [77308]     3.00885   4.55422   2.73019\n",
      "  [77309]     2.73142    3.8165   2.03113\n",
      "  -------\n",
      "  seqinfo: 21 sequences from an unspecified genome; no seqlengths\n",
      "\n",
      "[[4]]\n",
      "GRanges object with 81374 ranges and 5 metadata columns:\n",
      "          seqnames          ranges strand |               name     score\n",
      "             <Rle>       <IRanges>  <Rle> |        <character> <numeric>\n",
      "      [1]     chr1 3116593-3117536      * |     Sham2A_peak_11        65\n",
      "      [2]     chr1 3119604-3120580      * |     Sham2A_peak_12        55\n",
      "      [3]     chr1 3126063-3126476      * |     Sham2A_peak_13        29\n",
      "      [4]     chr1 3154842-3157891      * |     Sham2A_peak_16       119\n",
      "      [5]     chr1 3176551-3176879      * |     Sham2A_peak_18        29\n",
      "      ...      ...             ...    ... .                ...       ...\n",
      "  [81370]     chrY 1212157-1212604      * | Sham2A_peak_196990        46\n",
      "  [81371]     chrY 1244877-1246082      * | Sham2A_peak_196992       417\n",
      "  [81372]     chrY 1254841-1255169      * | Sham2A_peak_196994        56\n",
      "  [81373]     chrY 2308813-2309456      * | Sham2A_peak_196995       175\n",
      "  [81374]     chrY 9389661-9390019      * | Sham2A_peak_197019        53\n",
      "          signalValue    pValue    qValue\n",
      "            <numeric> <numeric> <numeric>\n",
      "      [1]     3.05672   8.16583    6.5203\n",
      "      [2]     3.22826   7.40631   5.52654\n",
      "      [3]     2.94397   4.78846   2.97408\n",
      "      [4]     4.94315  13.80796  11.91909\n",
      "      [5]     2.94916   4.74782   2.91053\n",
      "      ...         ...       ...       ...\n",
      "  [81370]      3.2298   6.37463    4.6019\n",
      "  [81371]     6.21455  43.88048  41.72178\n",
      "  [81372]     3.72169   7.60349   5.68744\n",
      "  [81373]     6.28714  19.68687  17.59831\n",
      "  [81374]     3.72171    7.3126   5.37032\n",
      "  -------\n",
      "  seqinfo: 21 sequences from an unspecified genome; no seqlengths\n",
      "\n"
     ]
    }
   ],
   "source": [
    "%%R\n",
    "macs2_peak_files_filtered.granges <- lapply(macs2_peak_files_filtered.files, rtracklayer:::import)\n",
    "macs2_peak_files_filtered.granges"
   ]
  },
  {
   "cell_type": "code",
   "execution_count": 69,
   "metadata": {},
   "outputs": [
    {
     "name": "stdout",
     "output_type": "stream",
     "text": [
      "GRangesList object of length 4:\n",
      "$IRI1A\n",
      "GRanges object with 82902 ranges and 5 metadata columns:\n",
      "          seqnames          ranges strand |              name     score\n",
      "             <Rle>       <IRanges>  <Rle> |       <character> <numeric>\n",
      "      [1]     chr1 3119639-3120688      * |     IRI1A_peak_14        41\n",
      "      [2]     chr1 3248952-3249591      * |     IRI1A_peak_39        51\n",
      "      [3]     chr1 3346784-3350416      * |     IRI1A_peak_46        32\n",
      "      [4]     chr1 3372578-3373177      * |     IRI1A_peak_48       462\n",
      "      [5]     chr1 3399855-3401447      * |     IRI1A_peak_50        94\n",
      "      ...      ...             ...    ... .               ...       ...\n",
      "  [82898]     chrY 1009981-1010813      * | IRI1A_peak_240704       384\n",
      "  [82899]     chrY 1178532-1178922      * | IRI1A_peak_240719        67\n",
      "  [82900]     chrY 1212311-1212621      * | IRI1A_peak_240720        30\n",
      "  [82901]     chrY 1244877-1246086      * | IRI1A_peak_240722       222\n",
      "  [82902]     chrY 5920093-5920381      * | IRI1A_peak_240743        25\n",
      "          signalValue    pValue    qValue\n",
      "            <numeric> <numeric> <numeric>\n",
      "      [1]      3.3966   6.05404   4.19678\n",
      "      [2]      3.3989   6.87547   5.18208\n",
      "      [3]     2.91906   4.96386    3.2444\n",
      "      [4]      8.4507  48.66312  46.27046\n",
      "      [5]     4.05124  11.39614   9.48632\n",
      "      ...         ...       ...       ...\n",
      "  [82898]     9.31192  40.85874  38.48808\n",
      "  [82899]     4.07087   8.71045   6.78967\n",
      "  [82900]     3.08338   4.89799   3.06896\n",
      "  [82901]     5.45575  24.38153  22.26516\n",
      "  [82902]     2.92193   4.34598   2.53445\n",
      "  -------\n",
      "  seqinfo: 21 sequences from an unspecified genome; no seqlengths\n",
      "\n",
      "...\n",
      "<3 more elements>\n"
     ]
    }
   ],
   "source": [
    "%%R\n",
    "names(macs2_peak_files_filtered.granges) <- c(\"IRI1A\", \"IRI2A\", \"SHAM1A\", \"SHAM2A\")\n",
    "#Group annotation for DESeq2\n",
    "Group <- factor(c(\"IRI\", \"IRI\", \"SHAM\", \"SHAM\"))\n",
    "macs2_peak_files_filtered.grangeslist <- GRangesList(macs2_peak_files_filtered.granges)\n",
    "macs2_peak_files_filtered.grangeslist"
   ]
  },
  {
   "cell_type": "code",
   "execution_count": 41,
   "metadata": {},
   "outputs": [],
   "source": [
    "#https://rdrr.io/bioc/soGGi/man/findconsensusRegions.html\n",
    "\n",
    "#findconsensusRegions(testRanges, bamFiles = NULL, method = \"majority\",\n",
    "#  summit = \"mean\", resizepeak = \"asw\", overlap = \"any\",\n",
    "#  fragmentLength = NULL, NonPrimaryPeaks = list(withinsample = \"drop\",\n",
    "#  betweensample = \"mean\"))"
   ]
  },
  {
   "cell_type": "raw",
   "metadata": {},
   "source": [
    "%%R\n",
    "runConsensusRegions <- function(testRanges,method=\"majority\",overlap=\"any\"){\n",
    "    if(class(testRanges) == \"GRangesList\" & length(testRanges) > 1){\n",
    "      \n",
    "      reduced <- reduce(unlist(testRanges))\n",
    "      consensusIDs <- paste0(\"consensus_\",seq(1,length(reduced)))\n",
    "      mcols(reduced) <- \n",
    "      do.call(cbind,lapply(testRanges,function(x)(reduced %over% x)+0))\n",
    "      if(method==\"majority\"){\n",
    "        reducedConsensus <- reduced[rowSums(as.data.frame(mcols(reduced))) > length(testRanges)/2,]\n",
    "      }\n",
    "      if(method==\"none\"){\n",
    "        reducedConsensus <- reduced\n",
    "      }\n",
    "      if(is.numeric(method)){\n",
    "        reducedConsensus <- reduced[rowSums(as.data.frame(mcols(reduced))) > method,]\n",
    "      }\n",
    "    consensusIDs <- paste0(\"consensus_\",seq(1,length(reducedConsensus)))\n",
    "    mcols(reducedConsensus) <- cbind(as.data.frame(mcols(reducedConsensus)),consensusIDs)\n",
    "    return(reducedConsensus)\n",
    "    \n",
    "  }\n",
    "}"
   ]
  },
  {
   "cell_type": "code",
   "execution_count": 70,
   "metadata": {},
   "outputs": [
    {
     "name": "stdout",
     "output_type": "stream",
     "text": [
      "GRanges object with 107460 ranges and 0 metadata columns:\n",
      "           seqnames          ranges strand\n",
      "              <Rle>       <IRanges>  <Rle>\n",
      "       [1]     chr1 3116593-3117640      *\n",
      "       [2]     chr1 3119338-3121591      *\n",
      "       [3]     chr1 3126063-3126476      *\n",
      "       [4]     chr1 3154842-3157891      *\n",
      "       [5]     chr1 3176551-3176879      *\n",
      "       ...      ...             ...    ...\n",
      "  [107456]     chrY 1254838-1255276      *\n",
      "  [107457]     chrY 2308813-2309456      *\n",
      "  [107458]     chrY 5670911-5671236      *\n",
      "  [107459]     chrY 5920093-5920381      *\n",
      "  [107460]     chrY 9389661-9390192      *\n",
      "  -------\n",
      "  seqinfo: 21 sequences from an unspecified genome; no seqlengths\n"
     ]
    }
   ],
   "source": [
    "%%R\n",
    "reduced <- reduce(unlist(macs2_peak_files_filtered.grangeslist))\n",
    "reduced"
   ]
  },
  {
   "cell_type": "code",
   "execution_count": 71,
   "metadata": {},
   "outputs": [
    {
     "name": "stdout",
     "output_type": "stream",
     "text": [
      "GRanges object with 107460 ranges and 4 metadata columns:\n",
      "           seqnames          ranges strand |     IRI1A     IRI2A    SHAM1A\n",
      "              <Rle>       <IRanges>  <Rle> | <numeric> <numeric> <numeric>\n",
      "       [1]     chr1 3116593-3117640      * |         0         0         1\n",
      "       [2]     chr1 3119338-3121591      * |         1         1         1\n",
      "       [3]     chr1 3126063-3126476      * |         0         0         0\n",
      "       [4]     chr1 3154842-3157891      * |         0         0         1\n",
      "       [5]     chr1 3176551-3176879      * |         0         0         0\n",
      "       ...      ...             ...    ... .       ...       ...       ...\n",
      "  [107456]     chrY 1254838-1255276      * |         0         0         1\n",
      "  [107457]     chrY 2308813-2309456      * |         0         0         1\n",
      "  [107458]     chrY 5670911-5671236      * |         0         0         1\n",
      "  [107459]     chrY 5920093-5920381      * |         1         0         0\n",
      "  [107460]     chrY 9389661-9390192      * |         0         0         1\n",
      "              SHAM2A\n",
      "           <numeric>\n",
      "       [1]         1\n",
      "       [2]         1\n",
      "       [3]         1\n",
      "       [4]         1\n",
      "       [5]         1\n",
      "       ...       ...\n",
      "  [107456]         1\n",
      "  [107457]         1\n",
      "  [107458]         0\n",
      "  [107459]         0\n",
      "  [107460]         1\n",
      "  -------\n",
      "  seqinfo: 21 sequences from an unspecified genome; no seqlengths\n"
     ]
    }
   ],
   "source": [
    "%%R      \n",
    "consensusIDs <- paste0(\"consensus_\",seq(1,length(reduced)))\n",
    "mcols(reduced) <- do.call(cbind,lapply(macs2_peak_files_filtered.grangeslist,function(x)(reduced %over% x)+0))\n",
    "reducedConsensus <- reduced\n",
    "reducedConsensus"
   ]
  },
  {
   "cell_type": "code",
   "execution_count": 72,
   "metadata": {},
   "outputs": [],
   "source": [
    "%%R\n",
    "consensusIDs <- paste0(\"consensus_\",seq(1,length(reducedConsensus)))\n",
    "mcols(reducedConsensus) <- cbind(as.data.frame(mcols(reducedConsensus)),consensusIDs)"
   ]
  },
  {
   "cell_type": "code",
   "execution_count": 73,
   "metadata": {},
   "outputs": [
    {
     "name": "stdout",
     "output_type": "stream",
     "text": [
      "GRanges object with 107460 ranges and 5 metadata columns:\n",
      "           seqnames          ranges strand |     IRI1A     IRI2A    SHAM1A\n",
      "              <Rle>       <IRanges>  <Rle> | <numeric> <numeric> <numeric>\n",
      "       [1]     chr1 3116593-3117640      * |         0         0         1\n",
      "       [2]     chr1 3119338-3121591      * |         1         1         1\n",
      "       [3]     chr1 3126063-3126476      * |         0         0         0\n",
      "       [4]     chr1 3154842-3157891      * |         0         0         1\n",
      "       [5]     chr1 3176551-3176879      * |         0         0         0\n",
      "       ...      ...             ...    ... .       ...       ...       ...\n",
      "  [107456]     chrY 1254838-1255276      * |         0         0         1\n",
      "  [107457]     chrY 2308813-2309456      * |         0         0         1\n",
      "  [107458]     chrY 5670911-5671236      * |         0         0         1\n",
      "  [107459]     chrY 5920093-5920381      * |         1         0         0\n",
      "  [107460]     chrY 9389661-9390192      * |         0         0         1\n",
      "              SHAM2A     consensusIDs\n",
      "           <numeric>         <factor>\n",
      "       [1]         1      consensus_1\n",
      "       [2]         1      consensus_2\n",
      "       [3]         1      consensus_3\n",
      "       [4]         1      consensus_4\n",
      "       [5]         1      consensus_5\n",
      "       ...       ...              ...\n",
      "  [107456]         1 consensus_107456\n",
      "  [107457]         1 consensus_107457\n",
      "  [107458]         0 consensus_107458\n",
      "  [107459]         0 consensus_107459\n",
      "  [107460]         1 consensus_107460\n",
      "  -------\n",
      "  seqinfo: 21 sequences from an unspecified genome; no seqlengths\n"
     ]
    }
   ],
   "source": [
    "%%R\n",
    "reducedConsensus"
   ]
  },
  {
   "cell_type": "code",
   "execution_count": 103,
   "metadata": {},
   "outputs": [],
   "source": [
    "%%R\n",
    "save(reducedConsensus, file = \"reducedConsensus.GObj.RData\")"
   ]
  },
  {
   "cell_type": "code",
   "execution_count": 77,
   "metadata": {},
   "outputs": [],
   "source": [
    "%%R\n",
    "reducedConsensus_df <- as.data.frame(reducedConsensus)\n",
    "head(reducedConsensus_df)\n",
    "write.csv(reducedConsensus_df, \"./post_macs2_peak-calling_consensus.q.01.len250.consensus.intersections.bed\", row.names=FALSE)"
   ]
  },
  {
   "cell_type": "markdown",
   "metadata": {},
   "source": [
    "Back to python"
   ]
  },
  {
   "cell_type": "code",
   "execution_count": 79,
   "metadata": {},
   "outputs": [],
   "source": [
    "import pandas as pd"
   ]
  },
  {
   "cell_type": "code",
   "execution_count": 84,
   "metadata": {},
   "outputs": [
    {
     "data": {
      "text/html": [
       "<div>\n",
       "<style scoped>\n",
       "    .dataframe tbody tr th:only-of-type {\n",
       "        vertical-align: middle;\n",
       "    }\n",
       "\n",
       "    .dataframe tbody tr th {\n",
       "        vertical-align: top;\n",
       "    }\n",
       "\n",
       "    .dataframe thead th {\n",
       "        text-align: right;\n",
       "    }\n",
       "</style>\n",
       "<table border=\"1\" class=\"dataframe\">\n",
       "  <thead>\n",
       "    <tr style=\"text-align: right;\">\n",
       "      <th></th>\n",
       "      <th>seqnames</th>\n",
       "      <th>start</th>\n",
       "      <th>end</th>\n",
       "      <th>width</th>\n",
       "      <th>strand</th>\n",
       "      <th>IRI1A</th>\n",
       "      <th>IRI2A</th>\n",
       "      <th>SHAM1A</th>\n",
       "      <th>SHAM2A</th>\n",
       "      <th>consensusIDs</th>\n",
       "    </tr>\n",
       "  </thead>\n",
       "  <tbody>\n",
       "    <tr>\n",
       "      <th>0</th>\n",
       "      <td>chr1</td>\n",
       "      <td>3116593</td>\n",
       "      <td>3117640</td>\n",
       "      <td>1048</td>\n",
       "      <td>*</td>\n",
       "      <td>0</td>\n",
       "      <td>0</td>\n",
       "      <td>1</td>\n",
       "      <td>1</td>\n",
       "      <td>consensus_1</td>\n",
       "    </tr>\n",
       "    <tr>\n",
       "      <th>1</th>\n",
       "      <td>chr1</td>\n",
       "      <td>3119338</td>\n",
       "      <td>3121591</td>\n",
       "      <td>2254</td>\n",
       "      <td>*</td>\n",
       "      <td>1</td>\n",
       "      <td>1</td>\n",
       "      <td>1</td>\n",
       "      <td>1</td>\n",
       "      <td>consensus_2</td>\n",
       "    </tr>\n",
       "    <tr>\n",
       "      <th>2</th>\n",
       "      <td>chr1</td>\n",
       "      <td>3126063</td>\n",
       "      <td>3126476</td>\n",
       "      <td>414</td>\n",
       "      <td>*</td>\n",
       "      <td>0</td>\n",
       "      <td>0</td>\n",
       "      <td>0</td>\n",
       "      <td>1</td>\n",
       "      <td>consensus_3</td>\n",
       "    </tr>\n",
       "    <tr>\n",
       "      <th>3</th>\n",
       "      <td>chr1</td>\n",
       "      <td>3154842</td>\n",
       "      <td>3157891</td>\n",
       "      <td>3050</td>\n",
       "      <td>*</td>\n",
       "      <td>0</td>\n",
       "      <td>0</td>\n",
       "      <td>1</td>\n",
       "      <td>1</td>\n",
       "      <td>consensus_4</td>\n",
       "    </tr>\n",
       "    <tr>\n",
       "      <th>4</th>\n",
       "      <td>chr1</td>\n",
       "      <td>3176551</td>\n",
       "      <td>3176879</td>\n",
       "      <td>329</td>\n",
       "      <td>*</td>\n",
       "      <td>0</td>\n",
       "      <td>0</td>\n",
       "      <td>0</td>\n",
       "      <td>1</td>\n",
       "      <td>consensus_5</td>\n",
       "    </tr>\n",
       "  </tbody>\n",
       "</table>\n",
       "</div>"
      ],
      "text/plain": [
       "  seqnames    start      end  width strand  IRI1A  IRI2A  SHAM1A  SHAM2A  \\\n",
       "0     chr1  3116593  3117640   1048      *      0      0       1       1   \n",
       "1     chr1  3119338  3121591   2254      *      1      1       1       1   \n",
       "2     chr1  3126063  3126476    414      *      0      0       0       1   \n",
       "3     chr1  3154842  3157891   3050      *      0      0       1       1   \n",
       "4     chr1  3176551  3176879    329      *      0      0       0       1   \n",
       "\n",
       "  consensusIDs  \n",
       "0  consensus_1  \n",
       "1  consensus_2  \n",
       "2  consensus_3  \n",
       "3  consensus_4  \n",
       "4  consensus_5  "
      ]
     },
     "execution_count": 84,
     "metadata": {},
     "output_type": "execute_result"
    }
   ],
   "source": [
    "consensus_intersection_data = pd.read_csv(\"./post_macs2_peak-calling_consensus.q.01.len250.consensus.intersections.bed\", sep=',', header=0)\n",
    "consensus_intersection_data.head()"
   ]
  },
  {
   "cell_type": "code",
   "execution_count": 85,
   "metadata": {},
   "outputs": [
    {
     "data": {
      "text/plain": [
       "{'chr1',\n",
       " 'chr10',\n",
       " 'chr11',\n",
       " 'chr12',\n",
       " 'chr13',\n",
       " 'chr14',\n",
       " 'chr15',\n",
       " 'chr16',\n",
       " 'chr17',\n",
       " 'chr18',\n",
       " 'chr19',\n",
       " 'chr2',\n",
       " 'chr3',\n",
       " 'chr4',\n",
       " 'chr5',\n",
       " 'chr6',\n",
       " 'chr7',\n",
       " 'chr8',\n",
       " 'chr9',\n",
       " 'chrX',\n",
       " 'chrY'}"
      ]
     },
     "execution_count": 85,
     "metadata": {},
     "output_type": "execute_result"
    }
   ],
   "source": [
    "set(consensus_intersection_data['seqnames'].to_list())"
   ]
  },
  {
   "cell_type": "markdown",
   "metadata": {},
   "source": [
    "Preprocessing for UpSetR"
   ]
  },
  {
   "cell_type": "code",
   "execution_count": 86,
   "metadata": {},
   "outputs": [
    {
     "data": {
      "text/html": [
       "<div>\n",
       "<style scoped>\n",
       "    .dataframe tbody tr th:only-of-type {\n",
       "        vertical-align: middle;\n",
       "    }\n",
       "\n",
       "    .dataframe tbody tr th {\n",
       "        vertical-align: top;\n",
       "    }\n",
       "\n",
       "    .dataframe thead th {\n",
       "        text-align: right;\n",
       "    }\n",
       "</style>\n",
       "<table border=\"1\" class=\"dataframe\">\n",
       "  <thead>\n",
       "    <tr style=\"text-align: right;\">\n",
       "      <th></th>\n",
       "      <th>Identifier</th>\n",
       "      <th>IRI1A</th>\n",
       "      <th>IRI2A</th>\n",
       "      <th>SHAM1A</th>\n",
       "      <th>SHAM2A</th>\n",
       "    </tr>\n",
       "  </thead>\n",
       "  <tbody>\n",
       "    <tr>\n",
       "      <th>0</th>\n",
       "      <td>chr1:3116593-3117640</td>\n",
       "      <td>0</td>\n",
       "      <td>0</td>\n",
       "      <td>1</td>\n",
       "      <td>1</td>\n",
       "    </tr>\n",
       "    <tr>\n",
       "      <th>1</th>\n",
       "      <td>chr1:3119338-3121591</td>\n",
       "      <td>1</td>\n",
       "      <td>1</td>\n",
       "      <td>1</td>\n",
       "      <td>1</td>\n",
       "    </tr>\n",
       "    <tr>\n",
       "      <th>2</th>\n",
       "      <td>chr1:3126063-3126476</td>\n",
       "      <td>0</td>\n",
       "      <td>0</td>\n",
       "      <td>0</td>\n",
       "      <td>1</td>\n",
       "    </tr>\n",
       "    <tr>\n",
       "      <th>3</th>\n",
       "      <td>chr1:3154842-3157891</td>\n",
       "      <td>0</td>\n",
       "      <td>0</td>\n",
       "      <td>1</td>\n",
       "      <td>1</td>\n",
       "    </tr>\n",
       "    <tr>\n",
       "      <th>4</th>\n",
       "      <td>chr1:3176551-3176879</td>\n",
       "      <td>0</td>\n",
       "      <td>0</td>\n",
       "      <td>0</td>\n",
       "      <td>1</td>\n",
       "    </tr>\n",
       "  </tbody>\n",
       "</table>\n",
       "</div>"
      ],
      "text/plain": [
       "             Identifier  IRI1A  IRI2A  SHAM1A  SHAM2A\n",
       "0  chr1:3116593-3117640      0      0       1       1\n",
       "1  chr1:3119338-3121591      1      1       1       1\n",
       "2  chr1:3126063-3126476      0      0       0       1\n",
       "3  chr1:3154842-3157891      0      0       1       1\n",
       "4  chr1:3176551-3176879      0      0       0       1"
      ]
     },
     "execution_count": 86,
     "metadata": {},
     "output_type": "execute_result"
    }
   ],
   "source": [
    "consensus_intersection_data[\"Identifier\"] = consensus_intersection_data.seqnames + ':' + \\\n",
    "                                            consensus_intersection_data.start.astype(str) + '-' + \\\n",
    "                                            consensus_intersection_data.end.astype(str)\n",
    "consensus_intersection_data = consensus_intersection_data.drop(columns=['seqnames', 'start', 'end', 'width', 'strand', 'consensusIDs'])\n",
    "#df = df[['mean', '0', '1', '2', '3']]\n",
    "consensus_intersection_data = consensus_intersection_data[['Identifier', 'IRI1A', 'IRI2A', 'SHAM1A', 'SHAM2A']]\n",
    "consensus_intersection_data.head()"
   ]
  },
  {
   "cell_type": "markdown",
   "metadata": {},
   "source": [
    "Export csv file for UpSetR"
   ]
  },
  {
   "cell_type": "code",
   "execution_count": 87,
   "metadata": {},
   "outputs": [],
   "source": [
    "consensus_intersection_data.to_csv(\"post_macs2_peak-calling_consensus.q.01.len250.consensus.intersections.UpSetR.csv\",sep=',', index=False)"
   ]
  },
  {
   "cell_type": "markdown",
   "metadata": {},
   "source": [
    "Upset peak intersections"
   ]
  },
  {
   "cell_type": "code",
   "execution_count": 92,
   "metadata": {},
   "outputs": [
    {
     "name": "stdout",
     "output_type": "stream",
     "text": [
      "            Identifier IRI1A IRI2A SHAM1A SHAM2A\n",
      "1 chr1:3116593-3117640     0     0      1      1\n",
      "2 chr1:3119338-3121591     1     1      1      1\n",
      "3 chr1:3126063-3126476     0     0      0      1\n"
     ]
    }
   ],
   "source": [
    "%%R\n",
    "peak_intersections <- read.csv( \"post_macs2_peak-calling_consensus.q.01.len250.consensus.intersections.UpSetR.csv\", header=T, sep = \",\")\n",
    "head(peak_intersections, n=3)"
   ]
  },
  {
   "cell_type": "code",
   "execution_count": 102,
   "metadata": {},
   "outputs": [
    {
     "data": {
      "image/png": "[encoded data removed]"
     },
     "metadata": {},
     "output_type": "display_data"
    }
   ],
   "source": [
    "%%R  -h 500 -w 800 -u px\n",
    "upset(peak_intersections, sets = c(\"IRI1A\", \"IRI2A\", \"SHAM1A\", \"SHAM2A\"), sets.bar.color = \"#56B4E9\",\n",
    "order.by = \"freq\", empty.intersections = \"on\",  number.angles = 0, point.size = 3, line.size = 1.5, \n",
    "    mainbar.y.label = \"Peak Intersections\", sets.x.label = \"Peaks Per Experiment\", \n",
    "    text.scale = c(1.3, 1.3, 1, 1, 2, 1.75))\n",
    "    # c(intersection size title, intersection size tick labels, set size title, set size tick labels, set names, numbers above bars)"
   ]
  },
  {
   "cell_type": "markdown",
   "metadata": {},
   "source": [
    "# Differential peak calling with DESeq2"
   ]
  },
  {
   "cell_type": "code",
   "execution_count": 20,
   "metadata": {},
   "outputs": [
    {
     "name": "stdout",
     "output_type": "stream",
     "text": [
      "[1] \"../../004_deeptools/IRI1A_processed.blfiltered.bam\" \n",
      "[2] \"../../004_deeptools/IRI2A_processed.blfiltered.bam\" \n",
      "[3] \"../../004_deeptools/Sham1A_processed.blfiltered.bam\"\n",
      "[4] \"../../004_deeptools/Sham2A_processed.blfiltered.bam\"\n"
     ]
    }
   ],
   "source": [
    "%%R\n",
    "bamsToCount <- dir(\"../../004_deeptools\", full.names = TRUE, pattern = \".*\\\\.blfiltered.bam$\")\n",
    "bamsToCount"
   ]
  },
  {
   "cell_type": "code",
   "execution_count": 9,
   "metadata": {
    "scrolled": true
   },
   "outputs": [
    {
     "name": "stderr",
     "output_type": "stream",
     "text": [
      "R[write to console]: Loading required package: GenomicRanges\n",
      "\n",
      "R[write to console]: Loading required package: stats4\n",
      "\n",
      "R[write to console]: Loading required package: BiocGenerics\n",
      "\n",
      "R[write to console]: Loading required package: parallel\n",
      "\n",
      "R[write to console]: \n",
      "Attaching package: ‘BiocGenerics’\n",
      "\n",
      "\n",
      "R[write to console]: The following objects are masked from ‘package:parallel’:\n",
      "\n",
      "    clusterApply, clusterApplyLB, clusterCall, clusterEvalQ,\n",
      "    clusterExport, clusterMap, parApply, parCapply, parLapply,\n",
      "    parLapplyLB, parRapply, parSapply, parSapplyLB\n",
      "\n",
      "\n",
      "R[write to console]: The following objects are masked from ‘package:stats’:\n",
      "\n",
      "    IQR, mad, sd, var, xtabs\n",
      "\n",
      "\n",
      "R[write to console]: The following objects are masked from ‘package:base’:\n",
      "\n",
      "    anyDuplicated, append, as.data.frame, basename, cbind, colnames,\n",
      "    dirname, do.call, duplicated, eval, evalq, Filter, Find, get, grep,\n",
      "    grepl, intersect, is.unsorted, lapply, Map, mapply, match, mget,\n",
      "    order, paste, pmax, pmax.int, pmin, pmin.int, Position, rank,\n",
      "    rbind, Reduce, rownames, sapply, setdiff, sort, table, tapply,\n",
      "    union, unique, unsplit, which, which.max, which.min\n",
      "\n",
      "\n",
      "R[write to console]: Loading required package: S4Vectors\n",
      "\n",
      "R[write to console]: \n",
      "Attaching package: ‘S4Vectors’\n",
      "\n",
      "\n",
      "R[write to console]: The following object is masked from ‘package:base’:\n",
      "\n",
      "    expand.grid\n",
      "\n",
      "\n",
      "R[write to console]: Loading required package: IRanges\n",
      "\n",
      "R[write to console]: Loading required package: GenomeInfoDb\n",
      "\n"
     ]
    },
    {
     "name": "stdout",
     "output_type": "stream",
     "text": [
      "GRanges object with 107460 ranges and 5 metadata columns:\n",
      "           seqnames          ranges strand |     IRI1A     IRI2A    SHAM1A\n",
      "              <Rle>       <IRanges>  <Rle> | <numeric> <numeric> <numeric>\n",
      "       [1]     chr1 3116593-3117640      * |         0         0         1\n",
      "       [2]     chr1 3119338-3121591      * |         1         1         1\n",
      "       [3]     chr1 3126063-3126476      * |         0         0         0\n",
      "       [4]     chr1 3154842-3157891      * |         0         0         1\n",
      "       [5]     chr1 3176551-3176879      * |         0         0         0\n",
      "       ...      ...             ...    ... .       ...       ...       ...\n",
      "  [107456]     chrY 1254838-1255276      * |         0         0         1\n",
      "  [107457]     chrY 2308813-2309456      * |         0         0         1\n",
      "  [107458]     chrY 5670911-5671236      * |         0         0         1\n",
      "  [107459]     chrY 5920093-5920381      * |         1         0         0\n",
      "  [107460]     chrY 9389661-9390192      * |         0         0         1\n",
      "              SHAM2A     consensusIDs\n",
      "           <numeric>         <factor>\n",
      "       [1]         1      consensus_1\n",
      "       [2]         1      consensus_2\n",
      "       [3]         1      consensus_3\n",
      "       [4]         1      consensus_4\n",
      "       [5]         1      consensus_5\n",
      "       ...       ...              ...\n",
      "  [107456]         1 consensus_107456\n",
      "  [107457]         1 consensus_107457\n",
      "  [107458]         0 consensus_107458\n",
      "  [107459]         0 consensus_107459\n",
      "  [107460]         1 consensus_107460\n",
      "  -------\n",
      "  seqinfo: 21 sequences from an unspecified genome; no seqlengths\n"
     ]
    }
   ],
   "source": [
    "%%R\n",
    "load(\"./reducedConsensus.GObj.RData\")\n",
    "consensusToCount <- reducedConsensus\n",
    "consensusToCount"
   ]
  },
  {
   "cell_type": "code",
   "execution_count": 10,
   "metadata": {
    "scrolled": true
   },
   "outputs": [
    {
     "name": "stdout",
     "output_type": "stream",
     "text": [
      "                   GeneID  Chr   Start     End Strand\n",
      "1 ID_chr1_3116593_3117640 chr1 3116593 3117640      *\n",
      "2 ID_chr1_3119338_3121591 chr1 3119338 3121591      *\n",
      "3 ID_chr1_3126063_3126476 chr1 3126063 3126476      *\n",
      "4 ID_chr1_3154842_3157891 chr1 3154842 3157891      *\n",
      "5 ID_chr1_3176551_3176879 chr1 3176551 3176879      *\n",
      "6 ID_chr1_3247295_3247547 chr1 3247295 3247547      *\n"
     ]
    }
   ],
   "source": [
    "%%R\n",
    "regionsToCount <- data.frame(GeneID = paste(\"ID\", seqnames(consensusToCount), start(consensusToCount), end(consensusToCount), sep = \"_\"), \n",
    "                             Chr = seqnames(consensusToCount), Start = start(consensusToCount), End = end(consensusToCount), Strand = strand(consensusToCount))\n",
    "head(regionsToCount)"
   ]
  },
  {
   "cell_type": "code",
   "execution_count": 11,
   "metadata": {},
   "outputs": [],
   "source": [
    "%%R\n",
    "library(Rsubread)"
   ]
  },
  {
   "cell_type": "code",
   "execution_count": 2,
   "metadata": {},
   "outputs": [],
   "source": [
    "%%R\n",
    "#save.image(file = \"./200222_backup.RData\")\n",
    "load(\"./200222_backup.RData\")"
   ]
  },
  {
   "cell_type": "code",
   "execution_count": 30,
   "metadata": {
    "scrolled": true
   },
   "outputs": [
    {
     "name": "stdout",
     "output_type": "stream",
     "text": [
      "\n",
      "        ==========     _____ _    _ ____  _____  ______          _____  \n",
      "        =====         / ____| |  | |  _ \\|  __ \\|  ____|   /\\   |  __ \\ \n",
      "          =====      | (___ | |  | | |_) | |__) | |__     /  \\  | |  | |\n",
      "            ====      \\___ \\| |  | |  _ <|  _  /|  __|   / /\\ \\ | |  | |\n",
      "              ====    ____) | |__| | |_) | | \\ \\| |____ / ____ \\| |__| |\n",
      "        ==========   |_____/ \\____/|____/|_|  \\_\\______/_/    \\_\\_____/\n",
      "       Rsubread 2.0.1\n",
      "\n",
      "//========================== featureCounts setting ===========================\\\\\n",
      "||                                                                            ||\n",
      "||             Input files : 4 BAM files                                      ||\n",
      "||                           o IRI1A_processed.blfiltered.bam                 ||\n",
      "||                           o IRI2A_processed.blfiltered.bam                 ||\n",
      "||                           o Sham1A_processed.blfiltered.bam                ||\n",
      "||                           o Sham2A_processed.blfiltered.bam                ||\n",
      "||                                                                            ||\n",
      "||              Annotation : R data.frame                                     ||\n",
      "||      Dir for temp files : .                                                ||\n",
      "||                 Threads : 1                                                ||\n",
      "||                   Level : meta-feature level                               ||\n",
      "||              Paired-end : yes                                              ||\n",
      "||      Multimapping reads : not counted                                      ||\n",
      "|| Multi-overlapping reads : not counted                                      ||\n",
      "||   Min overlapping bases : 1                                                ||\n",
      "||                                                                            ||\n",
      "||          Chimeric reads : counted                                          ||\n",
      "||        Both ends mapped : not required                                     ||\n",
      "||                                                                            ||\n",
      "\\\\============================================================================//\n",
      "\n",
      "//================================= Running ==================================\\\\\n",
      "||                                                                            ||\n",
      "|| Load annotation file .Rsubread_UserProvidedAnnotation_pid24959 ...         ||\n",
      "||    Features : 107460                                                       ||\n",
      "||    Meta-features : 107460                                                  ||\n",
      "||    Chromosomes/contigs : 21                                                ||\n",
      "||                                                                            ||\n",
      "|| Process BAM file IRI1A_processed.blfiltered.bam...                         ||\n",
      "||    Paired-end reads are included.                                          ||\n",
      "||    Total alignments : 40895062                                             ||\n",
      "||    Successfully assigned alignments : 17337203 (42.4%)                     ||\n",
      "||    Running time : 3.78 minutes                                             ||\n",
      "||                                                                            ||\n",
      "|| Process BAM file IRI2A_processed.blfiltered.bam...                         ||\n",
      "||    Paired-end reads are included.                                          ||\n",
      "||    Total alignments : 31093092                                             ||\n",
      "||    Successfully assigned alignments : 16642543 (53.5%)                     ||\n",
      "||    Running time : 2.86 minutes                                             ||\n",
      "||                                                                            ||\n",
      "|| Process BAM file Sham1A_processed.blfiltered.bam...                        ||\n",
      "||    Paired-end reads are included.                                          ||\n",
      "||    Total alignments : 37704999                                             ||\n",
      "||    Successfully assigned alignments : 17045070 (45.2%)                     ||\n",
      "||    Running time : 3.48 minutes                                             ||\n",
      "||                                                                            ||\n",
      "|| Process BAM file Sham2A_processed.blfiltered.bam...                        ||\n",
      "||    Paired-end reads are included.                                          ||\n",
      "||    Total alignments : 43385370                                             ||\n",
      "||    Successfully assigned alignments : 19841659 (45.7%)                     ||\n",
      "||    Running time : 4.01 minutes                                             ||\n",
      "||                                                                            ||\n",
      "|| Write the final count table.                                               ||\n",
      "|| Write the read assignment summary.                                         ||\n",
      "||                                                                            ||\n",
      "\\\\============================================================================//\n",
      "\n"
     ]
    }
   ],
   "source": [
    "%%R\n",
    "fcResults <- featureCounts(bamsToCount, annot.ext = regionsToCount, isPairedEnd = TRUE, countMultiMappingReads = FALSE, minFragLength=0, maxFragLength = 200)\n",
    "myCounts <- fcResults$counts\n",
    "colnames(myCounts) <- c(\"IRI1A\", \"IRI2A\", \"SHAM1A\", \"SHAM2A\")\n",
    "save(myCounts, file = \"featureCountsFromATACForDESeq2.RData\")"
   ]
  },
  {
   "cell_type": "code",
   "execution_count": 31,
   "metadata": {
    "scrolled": true
   },
   "outputs": [],
   "source": [
    "%%R\n",
    "library(DESeq2)"
   ]
  },
  {
   "cell_type": "code",
   "execution_count": 32,
   "metadata": {},
   "outputs": [
    {
     "name": "stderr",
     "output_type": "stream",
     "text": [
      "R[write to console]: estimating size factors\n",
      "\n",
      "R[write to console]: estimating dispersions\n",
      "\n",
      "R[write to console]: gene-wise dispersion estimates\n",
      "\n",
      "R[write to console]: mean-dispersion relationship\n",
      "\n",
      "R[write to console]: final dispersion estimates\n",
      "\n",
      "R[write to console]: fitting model and testing\n",
      "\n"
     ]
    },
    {
     "data": {
      "image/png": "[encoded data removed]"
     },
     "metadata": {},
     "output_type": "display_data"
    }
   ],
   "source": [
    "%%R\n",
    "load(\"featureCountsFromATACForDESeq2.RData\")\n",
    "metaData <- data.frame(Group, row.names = colnames(myCounts))\n",
    "atacDDS <- DESeqDataSetFromMatrix(myCounts, metaData, ~Group, rowRanges = consensusToCount)\n",
    "atacDDS <- DESeq(atacDDS)\n",
    "atac_Rlog <- rlog(atacDDS)\n",
    "plotPCA(atac_Rlog, intgroup = \"Group\", ntop = nrow(atac_Rlog))"
   ]
  },
  {
   "cell_type": "code",
   "execution_count": 33,
   "metadata": {
    "scrolled": true
   },
   "outputs": [
    {
     "name": "stdout",
     "output_type": "stream",
     "text": [
      "GRanges object with 107460 ranges and 6 metadata columns:\n",
      "                               seqnames              ranges strand |\n",
      "                                  <Rle>           <IRanges>  <Rle> |\n",
      "     ID_chr3_14348976_14349651     chr3   14348976-14349651      * |\n",
      "     ID_chr8_60523308_60526371     chr8   60523308-60526371      * |\n",
      "     ID_chr5_31576210_31577281     chr5   31576210-31577281      * |\n",
      "   ID_chr6_133855762_133856322     chr6 133855762-133856322      * |\n",
      "      ID_chr16_4040073_4042060    chr16     4040073-4042060      * |\n",
      "                           ...      ...                 ...    ... .\n",
      "    ID_chr12_85522703_85524375    chr12   85522703-85524375      * |\n",
      "     ID_chr2_27283604_27285031     chr2   27283604-27285031      * |\n",
      "  ID_chr12_119222433_119222702    chr12 119222433-119222702      * |\n",
      "     ID_chr6_13600650_13602106     chr6   13600650-13602106      * |\n",
      "     ID_chr2_38375917_38376373     chr2   38375917-38376373      * |\n",
      "                                       baseMean        log2FoldChange\n",
      "                                      <numeric>             <numeric>\n",
      "     ID_chr3_14348976_14349651 397.280414759614     -4.38618831316415\n",
      "     ID_chr8_60523308_60526371 339.285208279548     -3.82095765431614\n",
      "     ID_chr5_31576210_31577281 310.521628055907      3.31250947719971\n",
      "   ID_chr6_133855762_133856322  254.89418944103      -3.8630204890015\n",
      "      ID_chr16_4040073_4042060 512.607580225296     -2.42857497624893\n",
      "                           ...              ...                   ...\n",
      "    ID_chr12_85522703_85524375 78.8445071804077 -2.84631191611536e-05\n",
      "     ID_chr2_27283604_27285031 90.6349402689865  2.50781932429723e-05\n",
      "  ID_chr12_119222433_119222702 35.5727641441057   3.3589346160713e-05\n",
      "     ID_chr6_13600650_13602106 231.945103558112  1.29108914670468e-05\n",
      "     ID_chr2_38375917_38376373 29.6773386238142  1.03741202070118e-05\n",
      "                                           lfcSE                  stat\n",
      "                                       <numeric>             <numeric>\n",
      "     ID_chr3_14348976_14349651 0.245260281294238     -17.8838101710487\n",
      "     ID_chr8_60523308_60526371 0.242334974627607     -15.7672562954965\n",
      "     ID_chr5_31576210_31577281 0.219004014720174      15.1253367726257\n",
      "   ID_chr6_133855762_133856322 0.256533002128814     -15.0585712440294\n",
      "      ID_chr16_4040073_4042060 0.162183641435127     -14.9742289343057\n",
      "                           ...               ...                   ...\n",
      "    ID_chr12_85522703_85524375 0.330014170873759 -8.62481725732973e-05\n",
      "     ID_chr2_27283604_27285031 0.313506046367244   7.9992694027966e-05\n",
      "  ID_chr12_119222433_119222702 0.488936567811866  6.86987809298765e-05\n",
      "     ID_chr6_13600650_13602106 0.204657677790091  6.30853022787105e-05\n",
      "     ID_chr2_38375917_38376373  0.53788920394045  1.92867232341037e-05\n",
      "                                             pvalue                 padj\n",
      "                                          <numeric>            <numeric>\n",
      "     ID_chr3_14348976_14349651 1.57683347389278e-71 1.69446525104518e-66\n",
      "     ID_chr8_60523308_60526371 5.22717068682111e-56 2.80855881002898e-51\n",
      "     ID_chr5_31576210_31577281 1.10235252292572e-51 3.94862673711994e-47\n",
      "   ID_chr6_133855762_133856322 3.03270433953794e-51 8.14736020816866e-47\n",
      "      ID_chr16_4040073_4042060 1.08215612559915e-50 2.32576994513769e-46\n",
      "                           ...                  ...                  ...\n",
      "    ID_chr12_85522703_85524375    0.999931183914792    0.999958970617721\n",
      "     ID_chr2_27283604_27285031    0.999936175064526    0.999958970617721\n",
      "  ID_chr12_119222433_119222702    0.999945186303393    0.999958970617721\n",
      "     ID_chr6_13600650_13602106    0.999949665211332    0.999958970617721\n",
      "     ID_chr2_38375917_38376373    0.999984611421304    0.999984611421304\n",
      "  -------\n",
      "  seqinfo: 21 sequences from an unspecified genome; no seqlengths\n"
     ]
    }
   ],
   "source": [
    "%%R\n",
    "library(BSgenome.Mmusculus.UCSC.mm10)\n",
    "library(tracktables)\n",
    "\n",
    "IRISHAM <- results(atacDDS, c(\"Group\", \"IRI\", \"SHAM\"), format = \"GRanges\")\n",
    "IRISHAM <- IRISHAM[order(IRISHAM$pvalue)]\n",
    "IRISHAM"
   ]
  },
  {
   "cell_type": "markdown",
   "metadata": {},
   "source": [
    "Total 107,460 regions were calculated"
   ]
  },
  {
   "cell_type": "code",
   "execution_count": 34,
   "metadata": {},
   "outputs": [
    {
     "name": "stdout",
     "output_type": "stream",
     "text": [
      "                            seqnames     start       end width strand baseMean\n",
      "ID_chr3_14348976_14349651       chr3  14348976  14349651   676      * 397.2804\n",
      "ID_chr8_60523308_60526371       chr8  60523308  60526371  3064      * 339.2852\n",
      "ID_chr5_31576210_31577281       chr5  31576210  31577281  1072      * 310.5216\n",
      "ID_chr6_133855762_133856322     chr6 133855762 133856322   561      * 254.8942\n",
      "ID_chr16_4040073_4042060       chr16   4040073   4042060  1988      * 512.6076\n",
      "ID_chr19_18890198_18891440     chr19  18890198  18891440  1243      * 315.7975\n",
      "                            log2FoldChange     lfcSE      stat       pvalue\n",
      "ID_chr3_14348976_14349651        -4.386188 0.2452603 -17.88381 1.576833e-71\n",
      "ID_chr8_60523308_60526371        -3.820958 0.2423350 -15.76726 5.227171e-56\n",
      "ID_chr5_31576210_31577281         3.312509 0.2190040  15.12534 1.102353e-51\n",
      "ID_chr6_133855762_133856322      -3.863020 0.2565330 -15.05857 3.032704e-51\n",
      "ID_chr16_4040073_4042060         -2.428575 0.1621836 -14.97423 1.082156e-50\n",
      "ID_chr19_18890198_18891440        3.460938 0.2327875  14.86737 5.368045e-50\n",
      "                                    padj\n",
      "ID_chr3_14348976_14349651   1.694465e-66\n",
      "ID_chr8_60523308_60526371   2.808559e-51\n",
      "ID_chr5_31576210_31577281   3.948627e-47\n",
      "ID_chr6_133855762_133856322 8.147360e-47\n",
      "ID_chr16_4040073_4042060    2.325770e-46\n",
      "ID_chr19_18890198_18891440  9.614169e-46\n"
     ]
    }
   ],
   "source": [
    "%%R\n",
    "IRISHAM_df <- as.data.frame(IRISHAM)\n",
    "write.csv(IRISHAM_df, \"./IRISHAM.DESeq2.nofilter.bed\", row.names=FALSE)\n",
    "head(IRISHAM_df)"
   ]
  },
  {
   "cell_type": "code",
   "execution_count": 35,
   "metadata": {},
   "outputs": [],
   "source": [
    "%%R\n",
    "save(IRISHAM, file = \"IRISHAM.DESeq2.nofilter.GrangeObj.RData\")"
   ]
  },
  {
   "cell_type": "markdown",
   "metadata": {},
   "source": [
    "Open region with +- 500bp protomoter reagion and FDR < 0.05"
   ]
  },
  {
   "cell_type": "code",
   "execution_count": 36,
   "metadata": {},
   "outputs": [],
   "source": [
    "%%R\n",
    "library(TxDb.Mmusculus.UCSC.mm10.knownGene)"
   ]
  },
  {
   "cell_type": "code",
   "execution_count": 41,
   "metadata": {},
   "outputs": [
    {
     "name": "stdout",
     "output_type": "stream",
     "text": [
      "TxDb object:\n",
      "# Db type: TxDb\n",
      "# Supporting package: GenomicFeatures\n",
      "# Data source: UCSC\n",
      "# Genome: mm10\n",
      "# Organism: Mus musculus\n",
      "# Taxonomy ID: 10090\n",
      "# UCSC Table: knownGene\n",
      "# UCSC Track: GENCODE VM23\n",
      "# Resource URL: http://genome.ucsc.edu/\n",
      "# Type of Gene ID: Entrez Gene ID\n",
      "# Full dataset: yes\n",
      "# miRBase build ID: NA\n",
      "# transcript_nrow: 142446\n",
      "# exon_nrow: 447558\n",
      "# cds_nrow: 243727\n",
      "# Db created by: GenomicFeatures package from Bioconductor\n",
      "# Creation time: 2019-10-21 20:52:26 +0000 (Mon, 21 Oct 2019)\n",
      "# GenomicFeatures version at creation time: 1.37.4\n",
      "# RSQLite version at creation time: 2.1.2\n",
      "# DBSCHEMAVERSION: 1.2\n"
     ]
    }
   ],
   "source": [
    "%%R\n",
    "TxDb.Mmusculus.UCSC.mm10.knownGene"
   ]
  },
  {
   "cell_type": "markdown",
   "metadata": {},
   "source": [
    "### Filtering with padj < 0.05"
   ]
  },
  {
   "cell_type": "code",
   "execution_count": 47,
   "metadata": {
    "scrolled": true
   },
   "outputs": [
    {
     "name": "stdout",
     "output_type": "stream",
     "text": [
      "GRanges object with 26516 ranges and 6 metadata columns:\n",
      "                              seqnames              ranges strand |\n",
      "                                 <Rle>           <IRanges>  <Rle> |\n",
      "    ID_chr3_14348976_14349651     chr3   14348976-14349651      * |\n",
      "    ID_chr8_60523308_60526371     chr8   60523308-60526371      * |\n",
      "    ID_chr5_31576210_31577281     chr5   31576210-31577281      * |\n",
      "  ID_chr6_133855762_133856322     chr6 133855762-133856322      * |\n",
      "     ID_chr16_4040073_4042060    chr16     4040073-4042060      * |\n",
      "                          ...      ...                 ...    ... .\n",
      "    ID_chr6_66942981_66946082     chr6   66942981-66946082      * |\n",
      "    ID_chr5_51536508_51537848     chr5   51536508-51537848      * |\n",
      "   ID_chr19_43674561_43675939    chr19   43674561-43675939      * |\n",
      "   ID_chr18_40113389_40114032    chr18   40113389-40114032      * |\n",
      "   ID_chr12_30627869_30629145    chr12   30627869-30629145      * |\n",
      "                                      baseMean     log2FoldChange\n",
      "                                     <numeric>          <numeric>\n",
      "    ID_chr3_14348976_14349651 397.280414759614  -4.38618831316415\n",
      "    ID_chr8_60523308_60526371 339.285208279548  -3.82095765431614\n",
      "    ID_chr5_31576210_31577281 310.521628055907   3.31250947719971\n",
      "  ID_chr6_133855762_133856322  254.89418944103   -3.8630204890015\n",
      "     ID_chr16_4040073_4042060 512.607580225296  -2.42857497624893\n",
      "                          ...              ...                ...\n",
      "    ID_chr6_66942981_66946082 255.412212042464  0.504041671671895\n",
      "    ID_chr5_51536508_51537848 295.374712037694 -0.462304319923646\n",
      "   ID_chr19_43674561_43675939  1262.4360954325 -0.322423939037419\n",
      "   ID_chr18_40113389_40114032 32.5533556778816   -1.3258695122022\n",
      "   ID_chr12_30627869_30629145 75.2312507890571 -0.864022737024888\n",
      "                                          lfcSE              stat\n",
      "                                      <numeric>         <numeric>\n",
      "    ID_chr3_14348976_14349651 0.245260281294238 -17.8838101710487\n",
      "    ID_chr8_60523308_60526371 0.242334974627607 -15.7672562954965\n",
      "    ID_chr5_31576210_31577281 0.219004014720174  15.1253367726257\n",
      "  ID_chr6_133855762_133856322 0.256533002128814 -15.0585712440294\n",
      "     ID_chr16_4040073_4042060 0.162183641435127 -14.9742289343057\n",
      "                          ...               ...               ...\n",
      "    ID_chr6_66942981_66946082 0.201404656402152   2.5026316703694\n",
      "    ID_chr5_51536508_51537848  0.18472911583757 -2.50260668345398\n",
      "   ID_chr19_43674561_43675939 0.128835655203627 -2.50259866748706\n",
      "   ID_chr18_40113389_40114032 0.529816534234145 -2.50250686139638\n",
      "   ID_chr12_30627869_30629145  0.34527424291767 -2.50242453570715\n",
      "                                            pvalue                 padj\n",
      "                                         <numeric>            <numeric>\n",
      "    ID_chr3_14348976_14349651 1.57683347389278e-71 1.69446525104518e-66\n",
      "    ID_chr8_60523308_60526371 5.22717068682111e-56 2.80855881002898e-51\n",
      "    ID_chr5_31576210_31577281 1.10235252292572e-51 3.94862673711994e-47\n",
      "  ID_chr6_133855762_133856322 3.03270433953794e-51 8.14736020816866e-47\n",
      "     ID_chr16_4040073_4042060 1.08215612559915e-50 2.32576994513769e-46\n",
      "                          ...                  ...                  ...\n",
      "    ID_chr6_66942981_66946082   0.0123273761638655   0.0499660471699225\n",
      "    ID_chr5_51536508_51537848   0.0123282464002307   0.0499669367061794\n",
      "   ID_chr19_43674561_43675939   0.0123285255893136   0.0499669367061794\n",
      "   ID_chr18_40113389_40114032   0.0123317235141872   0.0499780127789761\n",
      "   ID_chr12_30627869_30629145   0.0123345918286526   0.0499877522215645\n",
      "  -------\n",
      "  seqinfo: 21 sequences from an unspecified genome; no seqlengths\n"
     ]
    }
   ],
   "source": [
    "%%R\n",
    "IRISHAM_FDR <- IRISHAM[(!is.na(IRISHAM$padj) & IRISHAM$padj < 0.05)]\n",
    "\n",
    "write.csv(as.data.frame(IRISHAM_FDR), \"./IRISHAM.DESeq2.padj.05.filter.bed\", row.names=FALSE)\n",
    "IRISHAM_FDR"
   ]
  },
  {
   "cell_type": "markdown",
   "metadata": {},
   "source": [
    "26,516 Differential peaks"
   ]
  },
  {
   "cell_type": "markdown",
   "metadata": {},
   "source": [
    "Padj < 0.05 AND Protmoter +/- 500 bp"
   ]
  },
  {
   "cell_type": "code",
   "execution_count": 40,
   "metadata": {
    "scrolled": true
   },
   "outputs": [
    {
     "name": "stdout",
     "output_type": "stream",
     "text": [
      "GRanges object with 142446 ranges and 2 metadata columns:\n",
      "                             seqnames          ranges strand |     tx_id\n",
      "                                <Rle>       <IRanges>  <Rle> | <integer>\n",
      "  ENSMUST00000193812.1           chr1 3072753-3073752      + |         1\n",
      "  ENSMUST00000082908.1           chr1 3101516-3102515      + |         2\n",
      "  ENSMUST00000192857.1           chr1 3252257-3253256      + |         3\n",
      "  ENSMUST00000161581.1           chr1 3466087-3467086      + |         4\n",
      "  ENSMUST00000192183.1           chr1 3531295-3532294      + |         5\n",
      "                   ...            ...             ...    ... .       ...\n",
      "  ENSMUST00000184505.1 chrUn_GL456381     16222-17221      - |    142442\n",
      "  ENSMUST00000178705.1 chrUn_GL456385     30743-31742      + |    142443\n",
      "  ENSMUST00000180206.1 chrUn_GL456385     32219-33218      + |    142444\n",
      "  ENSMUST00000179505.7 chrUn_JH584304     59168-60167      - |    142445\n",
      "  ENSMUST00000178343.1 chrUn_JH584304     59191-60190      - |    142446\n",
      "                                    tx_name\n",
      "                                <character>\n",
      "  ENSMUST00000193812.1 ENSMUST00000193812.1\n",
      "  ENSMUST00000082908.1 ENSMUST00000082908.1\n",
      "  ENSMUST00000192857.1 ENSMUST00000192857.1\n",
      "  ENSMUST00000161581.1 ENSMUST00000161581.1\n",
      "  ENSMUST00000192183.1 ENSMUST00000192183.1\n",
      "                   ...                  ...\n",
      "  ENSMUST00000184505.1 ENSMUST00000184505.1\n",
      "  ENSMUST00000178705.1 ENSMUST00000178705.1\n",
      "  ENSMUST00000180206.1 ENSMUST00000180206.1\n",
      "  ENSMUST00000179505.7 ENSMUST00000179505.7\n",
      "  ENSMUST00000178343.1 ENSMUST00000178343.1\n",
      "  -------\n",
      "  seqinfo: 66 sequences (1 circular) from mm10 genome\n"
     ]
    }
   ],
   "source": [
    "%%R\n",
    "toOverLap <- promoters(TxDb.Mmusculus.UCSC.mm10.knownGene, 500, 500)\n",
    "toOverLap"
   ]
  },
  {
   "cell_type": "code",
   "execution_count": 38,
   "metadata": {
    "scrolled": true
   },
   "outputs": [
    {
     "name": "stdout",
     "output_type": "stream",
     "text": [
      "GRanges object with 4363 ranges and 6 metadata columns:\n",
      "                              seqnames              ranges strand |\n",
      "                                 <Rle>           <IRanges>  <Rle> |\n",
      "    ID_chr3_90586768_90588430     chr3   90586768-90588430      * |\n",
      "  ID_chr4_138877003_138878354     chr4 138877003-138878354      * |\n",
      "  ID_chr3_135521858_135522953     chr3 135521858-135522953      * |\n",
      "  ID_chr6_133853114_133855088     chr6 133853114-133855088      * |\n",
      "   ID_chr13_35395157_35396143    chr13   35395157-35396143      * |\n",
      "                          ...      ...                 ...    ... .\n",
      "   ID_chr12_80183896_80184505    chr12   80183896-80184505      * |\n",
      "  ID_chr2_102549781_102552743     chr2 102549781-102552743      * |\n",
      "  ID_chr1_118627542_118628775     chr1 118627542-118628775      * |\n",
      "  ID_chr3_126923695_126924441     chr3 126923695-126924441      * |\n",
      "   ID_chr19_43674561_43675939    chr19   43674561-43675939      * |\n",
      "                                      baseMean     log2FoldChange\n",
      "                                     <numeric>          <numeric>\n",
      "    ID_chr3_90586768_90588430 251.344328833776   3.33071459671945\n",
      "  ID_chr4_138877003_138878354 233.324310017359    3.7739883069719\n",
      "  ID_chr3_135521858_135522953 365.385264630924   2.35383803802261\n",
      "  ID_chr6_133853114_133855088 449.455773287207  -2.51194796847234\n",
      "   ID_chr13_35395157_35396143 167.313783655126   3.32559076920747\n",
      "                          ...              ...                ...\n",
      "   ID_chr12_80183896_80184505 126.508003181175  0.687903729941674\n",
      "  ID_chr2_102549781_102552743 300.641013541612   0.45596282119774\n",
      "  ID_chr1_118627542_118628775 896.226738688082 -0.323115931281275\n",
      "  ID_chr3_126923695_126924441 34.9089199091602   1.26101494087166\n",
      "   ID_chr19_43674561_43675939  1262.4360954325 -0.322423939037419\n",
      "                                          lfcSE              stat\n",
      "                                      <numeric>         <numeric>\n",
      "    ID_chr3_90586768_90588430 0.239159720524097  13.9267372842738\n",
      "  ID_chr4_138877003_138878354 0.271397951308173  13.9057361663225\n",
      "  ID_chr3_135521858_135522953 0.183088505268606  12.8562851860598\n",
      "  ID_chr6_133853114_133855088  0.19986447880296 -12.5682561679646\n",
      "   ID_chr13_35395157_35396143 0.285637509668625  11.6426962728584\n",
      "                          ...               ...               ...\n",
      "   ID_chr12_80183896_80184505 0.274706897578951  2.50413708576054\n",
      "  ID_chr2_102549781_102552743 0.182131658710611  2.50347921072975\n",
      "  ID_chr1_118627542_118628775 0.129070618025499 -2.50340423114299\n",
      "  ID_chr3_126923695_126924441 0.503869592686112  2.50266132184963\n",
      "   ID_chr19_43674561_43675939 0.128835655203627 -2.50259866748706\n",
      "                                            pvalue                 padj\n",
      "                                         <numeric>            <numeric>\n",
      "    ID_chr3_90586768_90588430 4.35814049066434e-44  4.6832577712679e-40\n",
      "  ID_chr4_138877003_138878354 5.84622359979026e-44 5.71122898212238e-40\n",
      "  ID_chr3_135521858_135522953 7.92968791531127e-38 2.93835952889431e-34\n",
      "  ID_chr6_133853114_133855088 3.15608610138348e-36 8.92507927512286e-33\n",
      "   ID_chr13_35395157_35396143 2.49985656091332e-31 3.44403315430443e-28\n",
      "                          ...                  ...                  ...\n",
      "   ID_chr12_80183896_80184505   0.0122750463313919   0.0498009015279713\n",
      "  ID_chr2_102549781_102552743   0.0122978905052456   0.0498747523755024\n",
      "  ID_chr1_118627542_118628775    0.012300496499629   0.0498815560530635\n",
      "  ID_chr3_126923695_126924441   0.0123263435421195   0.0499650857200863\n",
      "   ID_chr19_43674561_43675939   0.0123285255893136   0.0499669367061794\n",
      "  -------\n",
      "  seqinfo: 21 sequences from an unspecified genome; no seqlengths\n"
     ]
    }
   ],
   "source": [
    "%%R\n",
    "IRISHAM.filtered <- IRISHAM[(!is.na(IRISHAM$padj) & \n",
    "    IRISHAM$padj < 0.05) & IRISHAM %over% toOverLap ]\n",
    "\n",
    "#makebedtable(IRISHAM.filtered, \"IRISHAM.filtered.promoter.500bp.padj.05.html\", \"./\")\n",
    "save(IRISHAM.filtered, file = \"IRISHAM.DESeq2.promoter500bp.padj.05.filter.GrangeObj.RData\")\n",
    "IRISHAM.filtered"
   ]
  },
  {
   "cell_type": "markdown",
   "metadata": {},
   "source": [
    "4,363 differnetial peaks"
   ]
  },
  {
   "cell_type": "code",
   "execution_count": 39,
   "metadata": {},
   "outputs": [
    {
     "name": "stdout",
     "output_type": "stream",
     "text": [
      "                            seqnames     start       end width strand baseMean\n",
      "ID_chr3_14348976_14349651       chr3  14348976  14349651   676      * 397.2804\n",
      "ID_chr8_60523308_60526371       chr8  60523308  60526371  3064      * 339.2852\n",
      "ID_chr5_31576210_31577281       chr5  31576210  31577281  1072      * 310.5216\n",
      "ID_chr6_133855762_133856322     chr6 133855762 133856322   561      * 254.8942\n",
      "ID_chr16_4040073_4042060       chr16   4040073   4042060  1988      * 512.6076\n",
      "ID_chr19_18890198_18891440     chr19  18890198  18891440  1243      * 315.7975\n",
      "                            log2FoldChange     lfcSE      stat       pvalue\n",
      "ID_chr3_14348976_14349651        -4.386188 0.2452603 -17.88381 1.576833e-71\n",
      "ID_chr8_60523308_60526371        -3.820958 0.2423350 -15.76726 5.227171e-56\n",
      "ID_chr5_31576210_31577281         3.312509 0.2190040  15.12534 1.102353e-51\n",
      "ID_chr6_133855762_133856322      -3.863020 0.2565330 -15.05857 3.032704e-51\n",
      "ID_chr16_4040073_4042060         -2.428575 0.1621836 -14.97423 1.082156e-50\n",
      "ID_chr19_18890198_18891440        3.460938 0.2327875  14.86737 5.368045e-50\n",
      "                                    padj\n",
      "ID_chr3_14348976_14349651   1.694465e-66\n",
      "ID_chr8_60523308_60526371   2.808559e-51\n",
      "ID_chr5_31576210_31577281   3.948627e-47\n",
      "ID_chr6_133855762_133856322 8.147360e-47\n",
      "ID_chr16_4040073_4042060    2.325770e-46\n",
      "ID_chr19_18890198_18891440  9.614169e-46\n"
     ]
    }
   ],
   "source": [
    "%%R\n",
    "IRISHAM_filtered_df <- as.data.frame(IRISHAM)\n",
    "write.csv(IRISHAM_filtered_df, \"./IRISHAM.DESeq2.promoter500bp.padj.05.filter.bed\", row.names=FALSE)\n",
    "head(IRISHAM_filtered_df)"
   ]
  },
  {
   "cell_type": "markdown",
   "metadata": {},
   "source": [
    "## Peak annotation"
   ]
  },
  {
   "cell_type": "code",
   "execution_count": 42,
   "metadata": {
    "scrolled": true
   },
   "outputs": [
    {
     "name": "stderr",
     "output_type": "stream",
     "text": [
      "R[write to console]: \n",
      "\n",
      "R[write to console]: Registered S3 method overwritten by 'enrichplot':\n",
      "  method               from\n",
      "  fortify.enrichResult DOSE\n",
      "\n",
      "R[write to console]: clusterProfiler v3.14.3  For help: https://guangchuangyu.github.io/software/clusterProfiler\n",
      "\n",
      "If you use clusterProfiler in published research, please cite:\n",
      "Guangchuang Yu, Li-Gen Wang, Yanyan Han, Qing-Yu He. clusterProfiler: an R package for comparing biological themes among gene clusters. OMICS: A Journal of Integrative Biology. 2012, 16(5):284-287.\n",
      "\n",
      "R[write to console]: \n",
      "Attaching package: ‘clusterProfiler’\n",
      "\n",
      "\n",
      "R[write to console]: The following object is masked from ‘package:DelayedArray’:\n",
      "\n",
      "    simplify\n",
      "\n",
      "\n",
      "R[write to console]: ChIPseeker v1.22.1  For help: https://guangchuangyu.github.io/software/ChIPseeker\n",
      "\n",
      "If you use ChIPseeker in published research, please cite:\n",
      "Guangchuang Yu, Li-Gen Wang, Qing-Yu He. ChIPseeker: an R/Bioconductor package for ChIP peak annotation, comparison and visualization. Bioinformatics 2015, 31(14):2382-2383\n",
      "\n"
     ]
    }
   ],
   "source": [
    "%%R\n",
    "library(clusterProfiler)\n",
    "library(ChIPseeker)"
   ]
  },
  {
   "cell_type": "code",
   "execution_count": 45,
   "metadata": {},
   "outputs": [
    {
     "name": "stdout",
     "output_type": "stream",
     "text": [
      ">> preparing features information...\t\t 2020-02-22 12:37:07 PM \n",
      ">> identifying nearest features...\t\t 2020-02-22 12:37:07 PM \n",
      ">> calculating distance from peak to TSS...\t 2020-02-22 12:37:13 PM \n",
      ">> assigning genomic annotation...\t\t 2020-02-22 12:37:13 PM \n",
      ">> assigning chromosome lengths\t\t\t 2020-02-22 12:37:20 PM \n",
      ">> done...\t\t\t\t\t 2020-02-22 12:37:20 PM \n",
      "Annotated peaks generated by ChIPseeker\n",
      "107460/107460  peaks were annotated\n",
      "Genomic Annotation Summary:\n",
      "              Feature  Frequency\n",
      "9    Promoter (<=1kb) 18.0504374\n",
      "10   Promoter (1-2kb)  3.7158012\n",
      "11   Promoter (2-3kb)  3.4142937\n",
      "4              5' UTR  0.3564117\n",
      "3              3' UTR  2.4176438\n",
      "1            1st Exon  1.9123395\n",
      "7          Other Exon  4.2434394\n",
      "2          1st Intron 12.0361065\n",
      "8        Other Intron 22.1505677\n",
      "6  Downstream (<=300)  1.0310813\n",
      "5   Distal Intergenic 30.6718779\n"
     ]
    }
   ],
   "source": [
    "%%R\n",
    "anno_IRISHAM <- annotatePeak(IRISHAM, TxDb = TxDb.Mmusculus.UCSC.mm10.knownGene)\n",
    "anno_IRISHAM"
   ]
  },
  {
   "cell_type": "code",
   "execution_count": 48,
   "metadata": {},
   "outputs": [
    {
     "name": "stdout",
     "output_type": "stream",
     "text": [
      ">> preparing features information...\t\t 2020-02-22 12:40:11 PM \n",
      ">> identifying nearest features...\t\t 2020-02-22 12:40:11 PM \n",
      ">> calculating distance from peak to TSS...\t 2020-02-22 12:40:12 PM \n",
      ">> assigning genomic annotation...\t\t 2020-02-22 12:40:12 PM \n",
      ">> assigning chromosome lengths\t\t\t 2020-02-22 12:40:19 PM \n",
      ">> done...\t\t\t\t\t 2020-02-22 12:40:19 PM \n",
      "Annotated peaks generated by ChIPseeker\n",
      "26516/26516  peaks were annotated\n",
      "Genomic Annotation Summary:\n",
      "              Feature  Frequency\n",
      "9    Promoter (<=1kb) 14.9381506\n",
      "10   Promoter (1-2kb)  3.6619400\n",
      "11   Promoter (2-3kb)  3.4281189\n",
      "4              5' UTR  0.3243325\n",
      "3              3' UTR  2.1232463\n",
      "1            1st Exon  1.9912506\n",
      "7          Other Exon  4.2540353\n",
      "2          1st Intron 12.2567506\n",
      "8        Other Intron 22.1715191\n",
      "6  Downstream (<=300)  1.0257957\n",
      "5   Distal Intergenic 33.8248605\n"
     ]
    }
   ],
   "source": [
    "%%R\n",
    "anno_IRISHAM_FDR <- annotatePeak(IRISHAM_FDR, TxDb = TxDb.Mmusculus.UCSC.mm10.knownGene)\n",
    "anno_IRISHAM_FDR"
   ]
  },
  {
   "cell_type": "code",
   "execution_count": 54,
   "metadata": {},
   "outputs": [
    {
     "data": {
      "image/png": "[encoded data removed]"
     },
     "metadata": {},
     "output_type": "display_data"
    }
   ],
   "source": [
    "%%R\n",
    "plotAnnoPie(anno_IRISHAM_FDR)"
   ]
  },
  {
   "cell_type": "code",
   "execution_count": 57,
   "metadata": {},
   "outputs": [
    {
     "data": {
      "image/png": "[encoded data removed]"
     },
     "metadata": {},
     "output_type": "display_data"
    }
   ],
   "source": [
    "%%R -h 300 -w 600 -u px\n",
    "plotDistToTSS(anno_IRISHAM_FDR)"
   ]
  },
  {
   "cell_type": "code",
   "execution_count": 46,
   "metadata": {},
   "outputs": [
    {
     "name": "stdout",
     "output_type": "stream",
     "text": [
      ">> preparing features information...\t\t 2020-02-22 12:37:21 PM \n",
      ">> identifying nearest features...\t\t 2020-02-22 12:37:21 PM \n",
      ">> calculating distance from peak to TSS...\t 2020-02-22 12:37:21 PM \n",
      ">> assigning genomic annotation...\t\t 2020-02-22 12:37:21 PM \n",
      ">> assigning chromosome lengths\t\t\t 2020-02-22 12:37:28 PM \n",
      ">> done...\t\t\t\t\t 2020-02-22 12:37:28 PM \n",
      "Annotated peaks generated by ChIPseeker\n",
      "4363/4363  peaks were annotated\n",
      "Genomic Annotation Summary:\n",
      "              Feature   Frequency\n",
      "9    Promoter (<=1kb) 83.74971350\n",
      "10   Promoter (1-2kb)  0.82512033\n",
      "11   Promoter (2-3kb)  0.64176026\n",
      "4              5' UTR  0.29796012\n",
      "3              3' UTR  0.50424020\n",
      "1            1st Exon 10.15356406\n",
      "7          Other Exon  0.98556039\n",
      "2          1st Intron  0.59592024\n",
      "8        Other Intron  0.71052028\n",
      "6  Downstream (<=300)  0.02292001\n",
      "5   Distal Intergenic  1.51272061\n"
     ]
    }
   ],
   "source": [
    "%%R\n",
    "anno_IRISHAM.filtered <- annotatePeak(IRISHAM.filtered, TxDb = TxDb.Mmusculus.UCSC.mm10.knownGene)\n",
    "anno_IRISHAM.filtered"
   ]
  },
  {
   "cell_type": "code",
   "execution_count": 52,
   "metadata": {},
   "outputs": [
    {
     "data": {
      "image/png": "[encoded data removed]"
     },
     "metadata": {},
     "output_type": "display_data"
    }
   ],
   "source": [
    "%%R\n",
    "plotAnnoPie(anno_IRISHAM.filtered)"
   ]
  },
  {
   "cell_type": "code",
   "execution_count": 58,
   "metadata": {},
   "outputs": [
    {
     "data": {
      "image/png": "[encoded data removed]"
     },
     "metadata": {},
     "output_type": "display_data"
    }
   ],
   "source": [
    "%%R -h 300 -w 500 -u px\n",
    "plotDistToTSS(anno_IRISHAM.filtered)"
   ]
  },
  {
   "cell_type": "code",
   "execution_count": 59,
   "metadata": {
    "scrolled": true
   },
   "outputs": [
    {
     "name": "stdout",
     "output_type": "stream",
     "text": [
      "  seqnames     start       end width strand baseMean log2FoldChange     lfcSE\n",
      "1     chr3  90586768  90588430  1663      * 251.3443       3.330715 0.2391597\n",
      "2     chr4 138877003 138878354  1352      * 233.3243       3.773988 0.2713980\n",
      "3     chr3 135521858 135522953  1096      * 365.3853       2.353838 0.1830885\n",
      "      stat       pvalue         padj       annotation geneChr geneStart\n",
      "1 13.92674 4.358140e-44 4.683258e-40 Promoter (<=1kb)       3  90586952\n",
      "2 13.90574 5.846224e-44 5.711229e-40 Promoter (<=1kb)       4 138877942\n",
      "3 12.85629 7.929688e-38 2.938360e-34 Promoter (<=1kb)       3 135522935\n",
      "    geneEnd geneLength geneStrand geneId          transcriptId distanceToTSS\n",
      "1  90602524      15573          1  20197  ENSMUST00000200290.4             0\n",
      "2 138882817       4876          1  26970 ENSMUST00000030531.13             0\n",
      "3 135524559       1625          1 110173  ENSMUST00000134095.1             0\n"
     ]
    }
   ],
   "source": [
    "%%R\n",
    "anno_IRISHAM.filtered_df <- as.data.frame(anno_IRISHAM.filtered)\n",
    "head(anno_IRISHAM.filtered_df, n=3)"
   ]
  },
  {
   "cell_type": "code",
   "execution_count": 114,
   "metadata": {},
   "outputs": [],
   "source": [
    "%%R\n",
    "write.csv(anno_IRISHAM.filtered_df, \"anno_IRISHAM.DESeq2.promoter500bp.padj.05.filter.csv\")"
   ]
  },
  {
   "cell_type": "code",
   "execution_count": 61,
   "metadata": {},
   "outputs": [
    {
     "name": "stderr",
     "output_type": "stream",
     "text": [
      "R[write to console]: Loading required package: ggplot2\n",
      "\n",
      "R[write to console]: Loading required package: magrittr\n",
      "\n"
     ]
    }
   ],
   "source": [
    "%%R\n",
    "library(ggpubr)"
   ]
  },
  {
   "cell_type": "code",
   "execution_count": 64,
   "metadata": {},
   "outputs": [
    {
     "data": {
      "image/png": "[encoded data removed]"
     },
     "metadata": {},
     "output_type": "display_data"
    }
   ],
   "source": [
    "%%R -h 300 -w 400 -u px\n",
    "gghistogram(anno_IRISHAM.filtered_df, x='log2FoldChange', bins=66)"
   ]
  },
  {
   "cell_type": "code",
   "execution_count": 92,
   "metadata": {},
   "outputs": [
    {
     "data": {
      "image/png": "[encoded data removed]"
     },
     "metadata": {},
     "output_type": "display_data"
    }
   ],
   "source": [
    "%%R\n",
    "anno_IRISHAM.filtered_df_alpha <- anno_IRISHAM.filtered_df[c(\"log2FoldChange\")]\n",
    "#head(anno_IRISHAM.filtered_df_alpha[c(\"log2FoldChange\")])\n",
    "neglogpadj <- (-1)*log(anno_IRISHAM.filtered_df['padj'],10)\n",
    "anno_IRISHAM.filtered_df_alpha <- cbind(neglogpadj, anno_IRISHAM.filtered_df_alpha)\n",
    "#head(anno_IRISHAM.filtered_df_alpha, n=3)\n",
    "write.csv(anno_IRISHAM.filtered_df_alpha, \"./anno_IRISHAM.padj.05.volcano.csv\")\n",
    "ggscatter(anno_IRISHAM.filtered_df_alpha, y='padj' ,x='log2FoldChange', alpha=0.3)"
   ]
  },
  {
   "cell_type": "markdown",
   "metadata": {},
   "source": [
    "## Gene Ontology analysis"
   ]
  },
  {
   "cell_type": "code",
   "execution_count": 104,
   "metadata": {
    "scrolled": true
   },
   "outputs": [],
   "source": [
    "%%R\n",
    "# GO1: UP-regulated\n",
    "UpRegulatedGenes <- unique(as.data.frame(as.GRanges(anno_IRISHAM.filtered)[as.GRanges(anno_IRISHAM.filtered)$log2FoldChange > 0])$geneId)\n",
    "go1 <- enrichGO(UpRegulatedGenes, OrgDb = \"org.Mm.eg.db\", ont = \"BP\", maxGSSize = 5000)\n",
    "\n",
    "# GO2: Down-regulated\n",
    "DownRegulatedGenes <- unique(as.data.frame(as.GRanges(anno_IRISHAM.filtered)[as.GRanges(anno_IRISHAM.filtered)$log2FoldChange < 0])$geneId)\n",
    "go2 <- enrichGO(DownRegulatedGenes, OrgDb = \"org.Mm.eg.db\", ont = \"BP\", maxGSSize = 5000)"
   ]
  },
  {
   "cell_type": "code",
   "execution_count": 112,
   "metadata": {},
   "outputs": [
    {
     "name": "stdout",
     "output_type": "stream",
     "text": [
      "[1] \"20197\"  \"26970\"  \"110173\" \"75543\"  \"432745\" \"66681\" \n"
     ]
    }
   ],
   "source": [
    "%%R\n",
    "head(UpRegulatedGenes)"
   ]
  },
  {
   "cell_type": "code",
   "execution_count": 111,
   "metadata": {},
   "outputs": [
    {
     "name": "stdout",
     "output_type": "stream",
     "text": [
      "                   ID                             Description GeneRatio\n",
      "GO:0048523 GO:0048523 negative regulation of cellular process  400/1253\n",
      "              BgRatio       pvalue     p.adjust       qvalue\n",
      "GO:0048523 4687/23210 5.145638e-24 3.109509e-20 2.120545e-20\n",
      "                                                                                                                                                                                                                                                                                                                                                                                                                                                                                                                                                                                                                                                                                                                                                                                                                                                                                                                                                                                                                                                                                                                                                                                                                                                                                                                                                                                                                                                                                                                                                                                                                                                                                                                                                                                                                                                                                                                                                                                                                                                                                                                                                                                                                                                                                                                                                                                                                                                                                                                                                                                                  geneID\n",
      "GO:0048523 20706/11800/12305/94212/13722/18510/13014/12013/16410/29816/12161/75387/83814/78634/75747/16151/20708/14063/230126/50706/67254/75788/547253/16432/216049/107765/73916/12332/16149/67153/110213/67701/170770/20352/94088/21960/13649/50875/69635/16597/17289/20682/381290/20779/235106/210274/69068/233977/50496/14270/56745/260315/216161/240888/67393/19259/12265/12593/19719/230738/68348/16854/54670/242122/17350/21938/83675/208727/12051/17686/14766/59083/17164/56312/24088/81004/69890/233552/71111/17168/11628/13016/23872/17125/67338/217463/75302/224826/68750/12306/56753/75698/18618/213988/57783/17173/216134/19055/12396/211323/74355/18508/228913/50501/60345/19267/13017/18049/57432/14536/20186/13614/67603/13627/434246/75745/98432/66494/12505/17130/58185/79201/69660/23859/24136/18222/76500/12575/15371/18676/18145/24100/20698/329731/216150/13685/230676/11746/11514/18300/69710/68585/18791/18712/12387/208146/12454/106042/54140/234366/213539/235431/70012/21929/574428/19876/108689/237400/22436/16497/12062/12955/26903/15473/18793/12018/75766/12759/74256/15277/12345/140570/24086/70008/12457/21857/58198/56215/75613/70779/14538/13836/69181/12394/15251/66369/11813/70809/215705/13435/21887/628900/19246/59009/22240/19094/11852/13709/71137/117600/54393/11567/19141/12390/18033/208628/110854/224432/67246/108903/214424/16196/12702/11820/52662/243362/22589/327959/109801/19225/232431/11352/16905/108058/12323/21936/22410/17240/56208/99571/11847/18125/18218/14873/52840/20723/360013/13043/116701/26362/93686/20719/231125/14200/26570/29871/12797/56490/13131/20354/269437/15945/21923/18986/21813/19165/56353/264064/68052/22350/12398/224650/18294/24069/55948/53378/20679/16364/434341/56440/12527/11601/17988/71839/17758/14245/21942/14283/20379/69085/13209/19152/66233/20750/12608/21873/22003/226830/50780/71458/109711/226791/223255/102635496/71007/245007/19416/100038417/16878/12501/16362/18514/80861/14964/20660/76089/320365/16971/58202/53624/20111/17172/56085/19281/105835/23871/18761/11548/30060/12846/12592/11549/13798/101809/208092/11501/53416/14972/11910/18096/76509/20187/15481/114713/68212/13135/71406/76499/319158/11629/52023/67013/17859/100340/23970/387153/18189/217265/17967/17132/12927/14463/17221/66270/18817/19013/107976/238871/20238/17075/12231/269023/235320/24111/231507/18612/21825/170731/74691/19224/14824/109676/228775/58991/27027/30928/16852/216963/14961/11541/18007/29806/109901/109731/12010/63913/226075/70556/54388/208449/18511/547431/56213/68861/108911/66824/16535/17869/18844/228355\n",
      "           Count\n",
      "GO:0048523   400\n"
     ]
    }
   ],
   "source": [
    "%%R\n",
    "head(go1, 1)"
   ]
  },
  {
   "cell_type": "code",
   "execution_count": 105,
   "metadata": {},
   "outputs": [
    {
     "name": "stdout",
     "output_type": "stream",
     "text": [
      "                   ID                                       Description\n",
      "GO:0048523 GO:0048523           negative regulation of cellular process\n",
      "GO:0048731 GO:0048731                                system development\n",
      "GO:0032879 GO:0032879                        regulation of localization\n",
      "GO:0051239 GO:0051239    regulation of multicellular organismal process\n",
      "GO:0009893 GO:0009893          positive regulation of metabolic process\n",
      "GO:0048513 GO:0048513                          animal organ development\n",
      "GO:0030154 GO:0030154                              cell differentiation\n",
      "GO:0051234 GO:0051234                     establishment of localization\n",
      "GO:0031325 GO:0031325 positive regulation of cellular metabolic process\n",
      "GO:0022610 GO:0022610                               biological adhesion\n",
      "                 pvalue     p.adjust\n",
      "GO:0048523 5.145638e-24 3.109509e-20\n",
      "GO:0048731 4.121344e-22 1.245264e-18\n",
      "GO:0032879 5.853472e-20 1.179084e-16\n",
      "GO:0051239 2.215922e-19 3.347704e-16\n",
      "GO:0009893 2.548708e-18 3.080368e-15\n",
      "GO:0048513 5.363188e-18 4.795575e-15\n",
      "GO:0030154 5.564115e-18 4.795575e-15\n",
      "GO:0051234 6.348601e-18 4.795575e-15\n",
      "GO:0031325 1.024994e-17 6.376106e-15\n",
      "GO:0022610 1.055123e-17 6.376106e-15\n"
     ]
    }
   ],
   "source": [
    "%%R\n",
    "head(go1, 10) %>% dplyr::select(ID, Description, pvalue, p.adjust)"
   ]
  },
  {
   "cell_type": "code",
   "execution_count": 107,
   "metadata": {},
   "outputs": [
    {
     "data": {
      "image/png": "[encoded data removed]"
     },
     "metadata": {},
     "output_type": "display_data"
    }
   ],
   "source": [
    "%%R -h 600 -w 800 -u px\n",
    "dotplot(go1, showCategory=20)"
   ]
  },
  {
   "cell_type": "code",
   "execution_count": 106,
   "metadata": {},
   "outputs": [
    {
     "name": "stdout",
     "output_type": "stream",
     "text": [
      "                   ID                                      Description\n",
      "GO:0044249 GO:0044249                    cellular biosynthetic process\n",
      "GO:0046483 GO:0046483                    heterocycle metabolic process\n",
      "GO:0006139 GO:0006139 nucleobase-containing compound metabolic process\n",
      "GO:0044271 GO:0044271  cellular nitrogen compound biosynthetic process\n",
      "GO:0034645 GO:0034645      cellular macromolecule biosynthetic process\n",
      "GO:1901362 GO:1901362     organic cyclic compound biosynthetic process\n",
      "GO:0044267 GO:0044267               cellular protein metabolic process\n",
      "GO:0090304 GO:0090304                   nucleic acid metabolic process\n",
      "GO:0009059 GO:0009059               macromolecule biosynthetic process\n",
      "GO:0043412 GO:0043412                       macromolecule modification\n",
      "                 pvalue     p.adjust\n",
      "GO:0044249 6.099358e-49 3.879192e-45\n",
      "GO:0046483 1.235564e-47 3.929092e-44\n",
      "GO:0006139 4.509188e-44 9.559478e-41\n",
      "GO:0044271 3.264401e-38 5.190397e-35\n",
      "GO:0034645 4.828028e-36 6.141252e-33\n",
      "GO:1901362 7.817370e-35 8.286413e-32\n",
      "GO:0044267 1.715123e-34 1.558312e-31\n",
      "GO:0090304 3.613747e-34 2.872929e-31\n",
      "GO:0009059 4.258575e-34 3.009393e-31\n",
      "GO:0043412 6.944627e-34 4.416783e-31\n"
     ]
    }
   ],
   "source": [
    "%%R\n",
    "head(go2, 10) %>% dplyr::select(ID, Description, pvalue, p.adjust)"
   ]
  },
  {
   "cell_type": "code",
   "execution_count": 119,
   "metadata": {},
   "outputs": [
    {
     "data": {
      "image/png": "[encoded data removed]"
     },
     "metadata": {},
     "output_type": "display_data"
    }
   ],
   "source": [
    "%%R -h 600 -w 800 -u px\n",
    "dotplot(go2, showCategory=20)"
   ]
  },
  {
   "cell_type": "markdown",
   "metadata": {},
   "source": [
    "## Pathway analysis"
   ]
  },
  {
   "cell_type": "code",
   "execution_count": 116,
   "metadata": {},
   "outputs": [
    {
     "data": {
      "image/png": "[encoded data removed]"
     },
     "metadata": {},
     "output_type": "display_data"
    }
   ],
   "source": [
    "%%R\n",
    "kegg1 <- enrichKEGG(gene = UpRegulatedGenes,\n",
    "                 organism = 'mmu',\n",
    "                 pvalueCutoff = 0.05)\n",
    "\n",
    "dotplot(kegg1)"
   ]
  },
  {
   "cell_type": "code",
   "execution_count": 117,
   "metadata": {},
   "outputs": [
    {
     "data": {
      "image/png": "[encoded data removed]"
     },
     "metadata": {},
     "output_type": "display_data"
    }
   ],
   "source": [
    "%%R\n",
    "kegg2 <- enrichKEGG(gene = DownRegulatedGenes,\n",
    "                 organism = 'mmu',\n",
    "                 pvalueCutoff = 0.05)\n",
    "\n",
    "dotplot(kegg2)"
   ]
  }
 ],
 "metadata": {
  "kernelspec": {
   "display_name": "Python 3",
   "language": "python",
   "name": "python3"
  },
  "language_info": {
   "codemirror_mode": {
    "name": "ipython",
    "version": 3
   },
   "file_extension": ".py",
   "mimetype": "text/x-python",
   "name": "python",
   "nbconvert_exporter": "python",
   "pygments_lexer": "ipython3",
   "version": "3.8.1"
  }
 },
 "nbformat": 4,
 "nbformat_minor": 4
}
