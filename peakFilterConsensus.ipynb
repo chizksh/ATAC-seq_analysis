{
 "cells": [
  {
   "cell_type": "markdown",
   "metadata": {},
   "source": [
    "# Analysis after Peak-calling with MACS2"
   ]
  },
  {
   "cell_type": "raw",
   "metadata": {},
   "source": [
    "==> Sham1A_peaks.broadPeak <==\n",
    "Chrom, start, end, name, int(-10*log10pvalue), . , fold-change, -log10pval, -log10qval\n",
    "\n",
    "chr1    3012497 3012785 Sham1A_peak_1   3       .       1.92979 1.88640 0.32755\n",
    "chr1    3027637 3028381 Sham1A_peak_2   0       .       1.66762 1.36403 0.00738\n",
    "...\n",
    "\n",
    "pandas data pre-processing\n",
    "p < 0.05, 250-bp threshold\n",
    "[https://github.com/hms-dbmi/UpSetR](https://github.com/hms-dbmi/UpSetR)"
   ]
  },
  {
   "cell_type": "code",
   "execution_count": 24,
   "metadata": {},
   "outputs": [],
   "source": [
    "%matplotlib inline\n",
    "import pandas as pd\n",
    "import numpy as np\n",
    "import matplotlib.pyplot as plt"
   ]
  },
  {
   "cell_type": "code",
   "execution_count": 86,
   "metadata": {},
   "outputs": [],
   "source": [
    "def readBroadPeak(file, qthreshold=0.01, lenthreshold=250):\n",
    "    data = pd.read_csv(file, sep='\\t', header=None, \n",
    "            names = ['Chrom', 'start', 'end', 'name', 'score', '.', 'fc', 'neglogp', 'neglogq'])\n",
    "    data['len'] = abs(data['start'] - data['end'])\n",
    "    export_data = data[(data.neglogq >= (-1)*np.log10(qthreshold)) & (data.len >= lenthreshold)]\n",
    "    export_data = export_data.drop(columns=['len'])\n",
    "    return export_data"
   ]
  },
  {
   "cell_type": "code",
   "execution_count": 88,
   "metadata": {},
   "outputs": [],
   "source": [
    "IRI1A = readBroadPeak('./IRI1A_peaks.broadPeak')\n",
    "IRI2A = readBroadPeak('./IRI2A_peaks.broadPeak')\n",
    "SHAM1A = readBroadPeak('./Sham1A_peaks.broadPeak')\n",
    "SHAM2A =  readBroadPeak('./Sham2A_peaks.broadPeak')"
   ]
  },
  {
   "cell_type": "code",
   "execution_count": 89,
   "metadata": {},
   "outputs": [],
   "source": [
    "IRI1A.to_csv(\"./IRI1A_peaks.q.01.len250.broadPeak\", header=False, sep='\\t', index=False)\n",
    "IRI2A.to_csv(\"./IRI2A_peaks.q.01.len250.broadPeak\", header=False, sep='\\t', index=False)\n",
    "SHAM1A.to_csv(\"./SHAM1A_peaks.q.01.len250.broadPeak\", header=False, sep='\\t', index=False)\n",
    "SHAM2A.to_csv(\"./SHAM2A_peaks.q.01.len250.broadPeak\", header=False, sep='\\t', index=False)"
   ]
  },
  {
   "cell_type": "code",
   "execution_count": 90,
   "metadata": {},
   "outputs": [
    {
     "data": {
      "text/html": [
       "<div>\n",
       "<style scoped>\n",
       "    .dataframe tbody tr th:only-of-type {\n",
       "        vertical-align: middle;\n",
       "    }\n",
       "\n",
       "    .dataframe tbody tr th {\n",
       "        vertical-align: top;\n",
       "    }\n",
       "\n",
       "    .dataframe thead th {\n",
       "        text-align: right;\n",
       "    }\n",
       "</style>\n",
       "<table border=\"1\" class=\"dataframe\">\n",
       "  <thead>\n",
       "    <tr style=\"text-align: right;\">\n",
       "      <th></th>\n",
       "      <th>start</th>\n",
       "      <th>end</th>\n",
       "      <th>score</th>\n",
       "      <th>fc</th>\n",
       "      <th>neglogp</th>\n",
       "      <th>neglogq</th>\n",
       "    </tr>\n",
       "  </thead>\n",
       "  <tbody>\n",
       "    <tr>\n",
       "      <td>count</td>\n",
       "      <td>8.290200e+04</td>\n",
       "      <td>8.290200e+04</td>\n",
       "      <td>82902.000000</td>\n",
       "      <td>82902.000000</td>\n",
       "      <td>82902.000000</td>\n",
       "      <td>82902.000000</td>\n",
       "    </tr>\n",
       "    <tr>\n",
       "      <td>mean</td>\n",
       "      <td>7.474784e+07</td>\n",
       "      <td>7.474873e+07</td>\n",
       "      <td>165.733300</td>\n",
       "      <td>4.345791</td>\n",
       "      <td>18.603464</td>\n",
       "      <td>16.623200</td>\n",
       "    </tr>\n",
       "    <tr>\n",
       "      <td>std</td>\n",
       "      <td>4.395640e+07</td>\n",
       "      <td>4.395640e+07</td>\n",
       "      <td>225.955258</td>\n",
       "      <td>1.736312</td>\n",
       "      <td>22.839966</td>\n",
       "      <td>22.595563</td>\n",
       "    </tr>\n",
       "    <tr>\n",
       "      <td>min</td>\n",
       "      <td>8.085650e+05</td>\n",
       "      <td>8.102000e+05</td>\n",
       "      <td>20.000000</td>\n",
       "      <td>1.586580</td>\n",
       "      <td>3.482290</td>\n",
       "      <td>2.000030</td>\n",
       "    </tr>\n",
       "    <tr>\n",
       "      <td>25%</td>\n",
       "      <td>3.688139e+07</td>\n",
       "      <td>3.688208e+07</td>\n",
       "      <td>39.000000</td>\n",
       "      <td>3.028540</td>\n",
       "      <td>5.757837</td>\n",
       "      <td>3.972822</td>\n",
       "    </tr>\n",
       "    <tr>\n",
       "      <td>50%</td>\n",
       "      <td>7.251729e+07</td>\n",
       "      <td>7.251784e+07</td>\n",
       "      <td>80.000000</td>\n",
       "      <td>3.824855</td>\n",
       "      <td>9.972725</td>\n",
       "      <td>8.065150</td>\n",
       "    </tr>\n",
       "    <tr>\n",
       "      <td>75%</td>\n",
       "      <td>1.075940e+08</td>\n",
       "      <td>1.075951e+08</td>\n",
       "      <td>191.000000</td>\n",
       "      <td>5.201398</td>\n",
       "      <td>21.297007</td>\n",
       "      <td>19.195873</td>\n",
       "    </tr>\n",
       "    <tr>\n",
       "      <td>max</td>\n",
       "      <td>1.952320e+08</td>\n",
       "      <td>1.952331e+08</td>\n",
       "      <td>2950.000000</td>\n",
       "      <td>17.592900</td>\n",
       "      <td>298.922850</td>\n",
       "      <td>295.039490</td>\n",
       "    </tr>\n",
       "  </tbody>\n",
       "</table>\n",
       "</div>"
      ],
      "text/plain": [
       "              start           end         score            fc       neglogp  \\\n",
       "count  8.290200e+04  8.290200e+04  82902.000000  82902.000000  82902.000000   \n",
       "mean   7.474784e+07  7.474873e+07    165.733300      4.345791     18.603464   \n",
       "std    4.395640e+07  4.395640e+07    225.955258      1.736312     22.839966   \n",
       "min    8.085650e+05  8.102000e+05     20.000000      1.586580      3.482290   \n",
       "25%    3.688139e+07  3.688208e+07     39.000000      3.028540      5.757837   \n",
       "50%    7.251729e+07  7.251784e+07     80.000000      3.824855      9.972725   \n",
       "75%    1.075940e+08  1.075951e+08    191.000000      5.201398     21.297007   \n",
       "max    1.952320e+08  1.952331e+08   2950.000000     17.592900    298.922850   \n",
       "\n",
       "            neglogq  \n",
       "count  82902.000000  \n",
       "mean      16.623200  \n",
       "std       22.595563  \n",
       "min        2.000030  \n",
       "25%        3.972822  \n",
       "50%        8.065150  \n",
       "75%       19.195873  \n",
       "max      295.039490  "
      ]
     },
     "execution_count": 90,
     "metadata": {},
     "output_type": "execute_result"
    }
   ],
   "source": [
    "IRI1A.describe()"
   ]
  },
  {
   "cell_type": "code",
   "execution_count": 91,
   "metadata": {},
   "outputs": [
    {
     "data": {
      "text/plain": [
       "<matplotlib.collections.PathCollection at 0x7f61f05877b8>"
      ]
     },
     "execution_count": 91,
     "metadata": {},
     "output_type": "execute_result"
    },
    {
     "data": {
      "image/png": "[encoded data removed]",
      "text/plain": [
       "<Figure size 432x288 with 1 Axes>"
      ]
     },
     "metadata": {
      "needs_background": "light"
     },
     "output_type": "display_data"
    }
   ],
   "source": [
    "plt.scatter(np.log2(IRI1A.fc), IRI1A.neglogq)"
   ]
  },
  {
   "cell_type": "code",
   "execution_count": 1,
   "metadata": {},
   "outputs": [
    {
     "name": "stderr",
     "output_type": "stream",
     "text": [
      "/auto/rcf-proj3/klj/kim130/miniconda3/envs/jupyter-R3.6/lib/python3.8/site-packages/rpy2/robjects/pandas2ri.py:14: FutureWarning: pandas.core.index is deprecated and will be removed in a future version.  The public classes are available in the top-level namespace.\n",
      "  from pandas.core.index import Index as PandasIndex\n"
     ]
    }
   ],
   "source": [
    "import rpy2.ipython\n",
    "%reload_ext rpy2.ipython\n",
    "\n",
    "# suppress excessive warnings such as RRuntimeWarning\n",
    "import warnings\n",
    "from rpy2.rinterface import RRuntimeWarning\n",
    "warnings.filterwarnings(\"ignore\", category=RRuntimeWarning)"
   ]
  },
  {
   "cell_type": "markdown",
   "metadata": {},
   "source": [
    "## Calling consensus peaks in Bioconductor\n",
    "\n",
    "- Ref : https://ro-che.info/articles/2018-07-11-chip-seq-consensus"
   ]
  },
  {
   "cell_type": "code",
   "execution_count": 6,
   "metadata": {},
   "outputs": [],
   "source": [
    "%%R\n",
    "#library(UpSetR)\n",
    "library(rtracklayer)\n",
    "library(GenomicRanges)"
   ]
  },
  {
   "cell_type": "markdown",
   "metadata": {},
   "source": [
    "## Getting total union peak set [No filter]"
   ]
  },
  {
   "cell_type": "code",
   "execution_count": 65,
   "metadata": {},
   "outputs": [
    {
     "data": {
      "text/plain": [
       "[1] \"IRI1A_peaks.broadPeak\"  \"IRI2A_peaks.broadPeak\"  \"Sham1A_peaks.broadPeak\"\n",
       "[4] \"Sham2A_peaks.broadPeak\"\n"
      ]
     },
     "metadata": {},
     "output_type": "display_data"
    }
   ],
   "source": [
    "%%R\n",
    "macs2_peak_files_unfiltered.files <- list.files(pattern =\".*\\\\peaks.broadPeak\")\n",
    "macs2_peak_files_unfiltered.files"
   ]
  },
  {
   "cell_type": "code",
   "execution_count": 66,
   "metadata": {},
   "outputs": [
    {
     "data": {
      "text/plain": [
       "[[1]]\n",
       "GRanges object with 240761 ranges and 5 metadata columns:\n",
       "           seqnames            ranges strand |              name     score\n",
       "              <Rle>         <IRanges>  <Rle> |       <character> <numeric>\n",
       "       [1]     chr1   3012435-3012743      * |      IRI1A_peak_1         0\n",
       "       [2]     chr1   3014527-3015640      * |      IRI1A_peak_2         0\n",
       "       [3]     chr1   3019513-3019738      * |      IRI1A_peak_3         0\n",
       "       [4]     chr1   3026870-3027493      * |      IRI1A_peak_4         0\n",
       "       [5]     chr1   3039077-3039284      * |      IRI1A_peak_5         3\n",
       "       ...      ...               ...    ... .               ...       ...\n",
       "  [240757]     chrY   9881596-9881797      * | IRI1A_peak_240757         0\n",
       "  [240758]     chrY 10043114-10043337      * | IRI1A_peak_240758         0\n",
       "  [240759]     chrY 10512796-10513008      * | IRI1A_peak_240759         1\n",
       "  [240760]     chrY 41123356-41123789      * | IRI1A_peak_240760         0\n",
       "  [240761]     chrY 41153398-41153576      * | IRI1A_peak_240761         0\n",
       "           signalValue    pValue    qValue\n",
       "             <numeric> <numeric> <numeric>\n",
       "       [1]     1.61457   1.29462   0.01233\n",
       "       [2]     1.61795   1.30046   0.01212\n",
       "       [3]     1.53534    1.1552         0\n",
       "       [4]     1.55678   1.19244         0\n",
       "       [5]     1.88889   1.82303    0.3052\n",
       "       ...         ...       ...       ...\n",
       "  [240757]     1.63741   1.33252         0\n",
       "  [240758]     1.53534    1.1552         0\n",
       "  [240759]     1.72893   1.50878   0.11976\n",
       "  [240760]     1.75399    1.5494   0.09846\n",
       "  [240761]     1.53534    1.1552         0\n",
       "  -------\n",
       "  seqinfo: 21 sequences from an unspecified genome; no seqlengths\n",
       "\n",
       "[[2]]\n",
       "GRanges object with 197128 ranges and 5 metadata columns:\n",
       "           seqnames            ranges strand |              name     score\n",
       "              <Rle>         <IRanges>  <Rle> |       <character> <numeric>\n",
       "       [1]     chr1   3012527-3012729      * |      IRI2A_peak_1         0\n",
       "       [2]     chr1   3042717-3043645      * |      IRI2A_peak_2         2\n",
       "       [3]     chr1   3098869-3099091      * |      IRI2A_peak_3         0\n",
       "       [4]     chr1   3110194-3110367      * |      IRI2A_peak_4         0\n",
       "       [5]     chr1   3116862-3117026      * |      IRI2A_peak_5         5\n",
       "       ...      ...               ...    ... .               ...       ...\n",
       "  [197124]     chrY   4386768-4387278      * | IRI2A_peak_197124         2\n",
       "  [197125]     chrY   6157836-6158054      * | IRI2A_peak_197125         2\n",
       "  [197126]     chrY   9479307-9479580      * | IRI2A_peak_197126         0\n",
       "  [197127]     chrY   9510984-9511229      * | IRI2A_peak_197127         0\n",
       "  [197128]     chrY 10195301-10195528      * | IRI2A_peak_197128         0\n",
       "           signalValue    pValue    qValue\n",
       "             <numeric> <numeric> <numeric>\n",
       "       [1]     1.75179   1.47369   0.09889\n",
       "       [2]     1.83027   1.62584   0.23513\n",
       "       [3]     1.59826   1.21341         0\n",
       "       [4]     1.77766    1.5083   0.04551\n",
       "       [5]     2.09479   2.20543   0.58784\n",
       "       ...         ...       ...       ...\n",
       "  [197124]     1.87754   1.72016   0.28296\n",
       "  [197125]     1.97168   1.84487   0.22835\n",
       "  [197126]     1.64949   1.29662   0.00541\n",
       "  [197127]     1.63616   1.27497   0.00401\n",
       "  [197128]     1.66961    1.3293   0.00754\n",
       "  -------\n",
       "  seqinfo: 21 sequences from an unspecified genome; no seqlengths\n",
       "\n",
       "[[3]]\n",
       "GRanges object with 217160 ranges and 5 metadata columns:\n",
       "           seqnames            ranges strand |               name     score\n",
       "              <Rle>         <IRanges>  <Rle> |        <character> <numeric>\n",
       "       [1]     chr1   3012498-3012785      * |      Sham1A_peak_1         3\n",
       "       [2]     chr1   3027638-3028381      * |      Sham1A_peak_2         0\n",
       "       [3]     chr1   3030243-3030668      * |      Sham1A_peak_3         0\n",
       "       [4]     chr1   3040235-3041054      * |      Sham1A_peak_4         6\n",
       "       [5]     chr1   3041768-3042279      * |      Sham1A_peak_5         1\n",
       "       ...      ...               ...    ... .                ...       ...\n",
       "  [217156]     chrY 10412810-10413013      * | Sham1A_peak_217156         6\n",
       "  [217157]     chrY 10454461-10454848      * | Sham1A_peak_217157         0\n",
       "  [217158]     chrY 10512787-10513033      * | Sham1A_peak_217158        10\n",
       "  [217159]     chrY 41089491-41089671      * | Sham1A_peak_217159         0\n",
       "  [217160]     chrY 41122766-41123933      * | Sham1A_peak_217160         1\n",
       "           signalValue    pValue    qValue\n",
       "             <numeric> <numeric> <numeric>\n",
       "       [1]     1.92979    1.8864   0.32755\n",
       "       [2]     1.66762   1.36403   0.00738\n",
       "       [3]     1.62373   1.28651         0\n",
       "       [4]     2.01768   2.12905   0.60705\n",
       "       [5]     1.79634   1.60229   0.11264\n",
       "       ...         ...       ...       ...\n",
       "  [217156]      2.1411   2.33881   0.66926\n",
       "  [217157]     1.62373   1.28651         0\n",
       "  [217158]      2.4032   2.86302   1.09058\n",
       "  [217159]     1.62373   1.28651         0\n",
       "  [217160]     1.82832   1.67079   0.16628\n",
       "  -------\n",
       "  seqinfo: 21 sequences from an unspecified genome; no seqlengths\n",
       "\n",
       "[[4]]\n",
       "GRanges object with 197030 ranges and 5 metadata columns:\n",
       "           seqnames            ranges strand |               name     score\n",
       "              <Rle>         <IRanges>  <Rle> |        <character> <numeric>\n",
       "       [1]     chr1   3003427-3003870      * |      Sham2A_peak_1         3\n",
       "       [2]     chr1   3039085-3039257      * |      Sham2A_peak_2         1\n",
       "       [3]     chr1   3040241-3040979      * |      Sham2A_peak_3         4\n",
       "       [4]     chr1   3041768-3043682      * |      Sham2A_peak_4        12\n",
       "       [5]     chr1   3046636-3047259      * |      Sham2A_peak_5         1\n",
       "       ...      ...               ...    ... .                ...       ...\n",
       "  [197026]     chrY 10214159-10214863      * | Sham2A_peak_197026         0\n",
       "  [197027]     chrY 10474041-10474468      * | Sham2A_peak_197027         0\n",
       "  [197028]     chrY 10561059-10561294      * | Sham2A_peak_197028         5\n",
       "  [197029]     chrY 41123190-41123933      * | Sham2A_peak_197029        14\n",
       "  [197030]     chrY 41153012-41153221      * | Sham2A_peak_197030         6\n",
       "           signalValue    pValue    qValue\n",
       "             <numeric> <numeric> <numeric>\n",
       "       [1]     1.95421   2.01721   0.36153\n",
       "       [2]     1.83844   1.75927   0.14273\n",
       "       [3]     1.99532   2.12464   0.49481\n",
       "       [4]     2.24747    2.8518   1.20504\n",
       "       [5]     1.76497   1.61962   0.12483\n",
       "       ...         ...       ...       ...\n",
       "  [197026]     1.62582   1.34257   0.00493\n",
       "  [197027]     1.60488   1.30295   0.00186\n",
       "  [197028]     1.97172   2.08275   0.51553\n",
       "  [197029]     2.36495   3.14996   1.42998\n",
       "  [197030]     2.09835   2.34705   0.64748\n",
       "  -------\n",
       "  seqinfo: 21 sequences from an unspecified genome; no seqlengths\n",
       "\n"
      ]
     },
     "metadata": {},
     "output_type": "display_data"
    }
   ],
   "source": [
    "%%R\n",
    "macs2_peak_files_unfiltered.granges <- lapply(macs2_peak_files_unfiltered.files, import)\n",
    "macs2_peak_files_unfiltered.granges"
   ]
  },
  {
   "cell_type": "code",
   "execution_count": 67,
   "metadata": {},
   "outputs": [
    {
     "data": {
      "text/plain": [
       "GRangesList object of length 4:\n",
       "[[1]] \n",
       "GRanges object with 240761 ranges and 5 metadata columns:\n",
       "           seqnames            ranges strand |              name     score\n",
       "              <Rle>         <IRanges>  <Rle> |       <character> <numeric>\n",
       "       [1]     chr1   3012435-3012743      * |      IRI1A_peak_1         0\n",
       "       [2]     chr1   3014527-3015640      * |      IRI1A_peak_2         0\n",
       "       [3]     chr1   3019513-3019738      * |      IRI1A_peak_3         0\n",
       "       [4]     chr1   3026870-3027493      * |      IRI1A_peak_4         0\n",
       "       [5]     chr1   3039077-3039284      * |      IRI1A_peak_5         3\n",
       "       ...      ...               ...    ... .               ...       ...\n",
       "  [240757]     chrY   9881596-9881797      * | IRI1A_peak_240757         0\n",
       "  [240758]     chrY 10043114-10043337      * | IRI1A_peak_240758         0\n",
       "  [240759]     chrY 10512796-10513008      * | IRI1A_peak_240759         1\n",
       "  [240760]     chrY 41123356-41123789      * | IRI1A_peak_240760         0\n",
       "  [240761]     chrY 41153398-41153576      * | IRI1A_peak_240761         0\n",
       "           signalValue    pValue    qValue\n",
       "             <numeric> <numeric> <numeric>\n",
       "       [1]     1.61457   1.29462   0.01233\n",
       "       [2]     1.61795   1.30046   0.01212\n",
       "       [3]     1.53534    1.1552         0\n",
       "       [4]     1.55678   1.19244         0\n",
       "       [5]     1.88889   1.82303    0.3052\n",
       "       ...         ...       ...       ...\n",
       "  [240757]     1.63741   1.33252         0\n",
       "  [240758]     1.53534    1.1552         0\n",
       "  [240759]     1.72893   1.50878   0.11976\n",
       "  [240760]     1.75399    1.5494   0.09846\n",
       "  [240761]     1.53534    1.1552         0\n",
       "\n",
       "...\n",
       "<3 more elements>\n",
       "-------\n",
       "seqinfo: 21 sequences from an unspecified genome; no seqlengths\n"
      ]
     },
     "metadata": {},
     "output_type": "display_data"
    }
   ],
   "source": [
    "%%R\n",
    "macs2_peak_files_unfiltered.grangeslist <- GRangesList(macs2_peak_files_unfiltered.granges)\n",
    "macs2_peak_files_unfiltered.grangeslist"
   ]
  },
  {
   "cell_type": "code",
   "execution_count": 68,
   "metadata": {},
   "outputs": [
    {
     "data": {
      "text/plain": [
       "RleList of length 21\n",
       "$chr1\n",
       "integer-Rle of length 195309171 with 149926 runs\n",
       "  Lengths: 3003426     444    8564      63 ...      20     187      83      10\n",
       "  Values :       0       1       0       1 ...       1       3       2       1\n",
       "\n",
       "$chr10\n",
       "integer-Rle of length 130542265 with 96465 runs\n",
       "  Lengths: 3170106     190    2598     164 ...     605       1      34       4\n",
       "  Values :       0       1       0       1 ...       4       3       2       1\n",
       "\n",
       "$chr11\n",
       "integer-Rle of length 121977616 with 82210 runs\n",
       "  Lengths: 3201954     115       7       1 ...    9015     290   11267     190\n",
       "  Values :       0       1       2       3 ...       0       1       0       1\n",
       "\n",
       "$chr12\n",
       "integer-Rle of length 120002754 with 84471 runs\n",
       "  Lengths: 3098110      26       3      15 ...     271     184    9280     193\n",
       "  Values :       0       1       2       3 ...       2       1       0       1\n",
       "\n",
       "$chr13\n",
       "integer-Rle of length 120313820 with 80142 runs\n",
       "  Lengths: 3045440     177     212      12 ...    1917     261    8782     743\n",
       "  Values :       0       1       2       1 ...       0       1       0       1\n",
       "\n",
       "...\n",
       "<16 more elements>\n"
      ]
     },
     "metadata": {},
     "output_type": "display_data"
    }
   ],
   "source": [
    "%%R\n",
    "macs2_peak_files_unfiltered.coverage <- coverage(macs2_peak_files_unfiltered.grangeslist)\n",
    "macs2_peak_files_unfiltered.coverage"
   ]
  },
  {
   "cell_type": "code",
   "execution_count": 77,
   "metadata": {},
   "outputs": [
    {
     "data": {
      "text/plain": [
       "GRanges object with 374668 ranges and 0 metadata columns:\n",
       "           seqnames            ranges strand\n",
       "              <Rle>         <IRanges>  <Rle>\n",
       "       [1]     chr1   3003427-3003870      *\n",
       "       [2]     chr1   3012435-3012785      *\n",
       "       [3]     chr1   3014527-3015640      *\n",
       "       [4]     chr1   3019513-3019738      *\n",
       "       [5]     chr1   3026870-3027493      *\n",
       "       ...      ...               ...    ...\n",
       "  [374664]     chrY 10561059-10561294      *\n",
       "  [374665]     chrY 41089491-41089671      *\n",
       "  [374666]     chrY 41122766-41123933      *\n",
       "  [374667]     chrY 41153012-41153221      *\n",
       "  [374668]     chrY 41153398-41153576      *\n",
       "  -------\n",
       "  seqinfo: 21 sequences from an unspecified genome; no seqlengths\n"
      ]
     },
     "metadata": {},
     "output_type": "display_data"
    }
   ],
   "source": [
    "%%R\n",
    "# slice function : https://support.bioconductor.org/p/83326/\n",
    "# https://www.rdocumentation.org/packages/IRanges/versions/2.6.1/topics/slice-methods\n",
    "# lower : the regions in the genome where coverage is at least 2\n",
    "macs2_peak_files_unfiltered.covered_ranges <- slice(macs2_peak_files_unfiltered.coverage, lower=1, rangesOnly=T)\n",
    "macs2_peak_files_unfiltered.covered_ranges <- GRanges(macs2_peak_files_unfiltered.covered_ranges)\n",
    "macs2_peak_files_unfiltered.covered_ranges"
   ]
  },
  {
   "cell_type": "markdown",
   "metadata": {},
   "source": [
    "#### Total Union peak : 374,668 peaks"
   ]
  },
  {
   "cell_type": "code",
   "execution_count": 79,
   "metadata": {},
   "outputs": [
    {
     "data": {
      "text/plain": [
       "GRanges object with 357013 ranges and 0 metadata columns:\n",
       "           seqnames            ranges strand\n",
       "              <Rle>         <IRanges>  <Rle>\n",
       "       [1]     chr1   3003427-3003870      *\n",
       "       [2]     chr1   3012435-3012785      *\n",
       "       [3]     chr1   3014527-3015640      *\n",
       "       [4]     chr1   3019513-3019738      *\n",
       "       [5]     chr1   3026870-3028381      *\n",
       "       ...      ...               ...    ...\n",
       "  [357009]     chrY 10512787-10513033      *\n",
       "  [357010]     chrY 10561059-10561294      *\n",
       "  [357011]     chrY 41089491-41089671      *\n",
       "  [357012]     chrY 41122766-41123933      *\n",
       "  [357013]     chrY 41153012-41153576      *\n",
       "  -------\n",
       "  seqinfo: 21 sequences from an unspecified genome; no seqlengths\n"
      ]
     },
     "metadata": {},
     "output_type": "display_data"
    }
   ],
   "source": [
    "%%R\n",
    "# reduce function: reduce returns an object of the same type as x containing reduced ranges for each distinct\n",
    "# (seqname, strand) pairing. The names (names(x)) and the metadata columns in x are dropped.\n",
    "# See ?reduce for more information about range reduction and for a description of the optional arguments.\n",
    "# More : https://www.rdocumentation.org/packages/GenomicRanges/versions/1.24.1/topics/inter-range-methods\n",
    "macs2_peak_files_unfiltered.merged_covered_ranges <- reduce(macs2_peak_files_unfiltered.covered_ranges, \n",
    "                                                            min.gapwidth=500)\n",
    "\n",
    "macs2_peak_files_unfiltered.merged_covered_ranges"
   ]
  },
  {
   "cell_type": "markdown",
   "metadata": {},
   "source": [
    "#### Merged Union peaks (nearby threshold 500bp) : 357,013"
   ]
  },
  {
   "cell_type": "code",
   "execution_count": 80,
   "metadata": {},
   "outputs": [],
   "source": [
    "%%R\n",
    "export(macs2_peak_files_unfiltered.merged_covered_ranges, \"post_macs2_peak-calling_consensus.noFilter.UNION.broadPeak.bed\")"
   ]
  },
  {
   "cell_type": "markdown",
   "metadata": {},
   "source": [
    "## Getting total union peak set [Filter FDR <= 0.01, len >= 250]"
   ]
  },
  {
   "cell_type": "code",
   "execution_count": 93,
   "metadata": {},
   "outputs": [
    {
     "data": {
      "text/plain": [
       "GRanges object with 107460 ranges and 0 metadata columns:\n",
       "           seqnames          ranges strand\n",
       "              <Rle>       <IRanges>  <Rle>\n",
       "       [1]     chr1 3116593-3117640      *\n",
       "       [2]     chr1 3119338-3121591      *\n",
       "       [3]     chr1 3126063-3126476      *\n",
       "       [4]     chr1 3154842-3157891      *\n",
       "       [5]     chr1 3176551-3176879      *\n",
       "       ...      ...             ...    ...\n",
       "  [107456]     chrY 1254838-1255276      *\n",
       "  [107457]     chrY 2308813-2309456      *\n",
       "  [107458]     chrY 5670911-5671236      *\n",
       "  [107459]     chrY 5920093-5920381      *\n",
       "  [107460]     chrY 9389661-9390192      *\n",
       "  -------\n",
       "  seqinfo: 21 sequences from an unspecified genome; no seqlengths\n"
      ]
     },
     "metadata": {},
     "output_type": "display_data"
    }
   ],
   "source": [
    "%%R\n",
    "macs2_peak_files_filtered.files <- list.files(pattern =\".*\\\\q.01.len250.broadPeak\")\n",
    "macs2_peak_files_filtered.granges <- lapply(macs2_peak_files_filtered.files, import)\n",
    "macs2_peak_files_filtered.grangeslist <- GRangesList(macs2_peak_files_filtered.granges)\n",
    "macs2_peak_files_filtered.coverage <- coverage(macs2_peak_files_filtered.grangeslist)\n",
    "macs2_peak_files_filtered.covered_ranges <- slice(macs2_peak_files_filtered.coverage, lower=1, rangesOnly=T)\n",
    "macs2_peak_files_filtered.covered_ranges <- GRanges(macs2_peak_files_filtered.covered_ranges)\n",
    "macs2_peak_files_filtered.covered_ranges"
   ]
  },
  {
   "cell_type": "code",
   "execution_count": 122,
   "metadata": {},
   "outputs": [
    {
     "data": {
      "text/plain": [
       "DataFrame with 107460 rows and 0 columns\n"
      ]
     },
     "metadata": {},
     "output_type": "display_data"
    }
   ],
   "source": [
    "%%R\n",
    "print(mcols(macs2_peak_files_filtered.covered_ranges))"
   ]
  },
  {
   "cell_type": "markdown",
   "metadata": {},
   "source": [
    "#### Total Union peak : 107,460 peaks"
   ]
  },
  {
   "cell_type": "code",
   "execution_count": 94,
   "metadata": {},
   "outputs": [
    {
     "data": {
      "text/plain": [
       "GRanges object with 107371 ranges and 0 metadata columns:\n",
       "           seqnames          ranges strand\n",
       "              <Rle>       <IRanges>  <Rle>\n",
       "       [1]     chr1 3116593-3117640      *\n",
       "       [2]     chr1 3119338-3121591      *\n",
       "       [3]     chr1 3126063-3126476      *\n",
       "       [4]     chr1 3154842-3157891      *\n",
       "       [5]     chr1 3176551-3176879      *\n",
       "       ...      ...             ...    ...\n",
       "  [107367]     chrY 1254838-1255276      *\n",
       "  [107368]     chrY 2308813-2309456      *\n",
       "  [107369]     chrY 5670911-5671236      *\n",
       "  [107370]     chrY 5920093-5920381      *\n",
       "  [107371]     chrY 9389661-9390192      *\n",
       "  -------\n",
       "  seqinfo: 21 sequences from an unspecified genome; no seqlengths\n"
      ]
     },
     "metadata": {},
     "output_type": "display_data"
    }
   ],
   "source": [
    "%%R\n",
    "macs2_peak_files_filtered.merged_covered_ranges <- reduce(macs2_peak_files_filtered.covered_ranges, \n",
    "                                                            min.gapwidth=500)\n",
    "macs2_peak_files_filtered.merged_covered_ranges"
   ]
  },
  {
   "cell_type": "code",
   "execution_count": 123,
   "metadata": {},
   "outputs": [
    {
     "data": {
      "text/plain": [
       "DataFrame with 107371 rows and 0 columns\n"
      ]
     },
     "metadata": {},
     "output_type": "display_data"
    }
   ],
   "source": [
    "%%R\n",
    "print(mcols(macs2_peak_files_filtered.merged_covered_ranges))"
   ]
  },
  {
   "cell_type": "markdown",
   "metadata": {},
   "source": [
    "#### Merged Union peaks (nearby threshold 500bp) : 107,371"
   ]
  },
  {
   "cell_type": "code",
   "execution_count": 95,
   "metadata": {},
   "outputs": [],
   "source": [
    "%%R\n",
    "export(macs2_peak_files_filtered.merged_covered_ranges,\n",
    "       \"post_macs2_peak-calling_consensus.q.01.len250.UNION.broadPeak.bed\")"
   ]
  },
  {
   "cell_type": "markdown",
   "metadata": {},
   "source": [
    "### Individual files"
   ]
  },
  {
   "cell_type": "code",
   "execution_count": 127,
   "metadata": {},
   "outputs": [],
   "source": [
    "%%R\n",
    "merge_covered_range <- function(pattern=\".*\\\\q.01.len250.broadPeak\") {   \n",
    "    macs2_peak_files_filtered.files <- list.files(pattern=pattern)\n",
    "    macs2_peak_files_filtered.granges <- lapply(macs2_peak_files_filtered.files, import)\n",
    "    macs2_peak_files_filtered.grangeslist <- GRangesList(macs2_peak_files_filtered.granges)\n",
    "    macs2_peak_files_filtered.coverage <- coverage(macs2_peak_files_filtered.grangeslist)\n",
    "    macs2_peak_files_filtered.covered_ranges <- slice(macs2_peak_files_filtered.coverage, lower=1, rangesOnly=T)\n",
    "    macs2_peak_files_filtered.covered_ranges <- GRanges(macs2_peak_files_filtered.covered_ranges)\n",
    "    macs2_peak_files_filtered.covered_ranges\n",
    "    print(mcols(macs2_peak_files_filtered.covered_ranges))\n",
    "    macs2_peak_files_filtered.merged_covered_ranges <- reduce(macs2_peak_files_filtered.covered_ranges, \n",
    "                                                            min.gapwidth=500)\n",
    "    print(mcols(macs2_peak_files_filtered.merged_covered_ranges))\n",
    "   return(macs2_peak_files_filtered.merged_covered_ranges)   \n",
    " }"
   ]
  },
  {
   "cell_type": "markdown",
   "metadata": {},
   "source": [
    "IRI1A"
   ]
  },
  {
   "cell_type": "code",
   "execution_count": 129,
   "metadata": {},
   "outputs": [
    {
     "data": {
      "text/plain": [
       "DataFrame with 82902 rows and 0 columns\n",
       "DataFrame with 82902 rows and 0 columns\n",
       "GRanges object with 82902 ranges and 0 metadata columns:\n",
       "          seqnames          ranges strand\n",
       "             <Rle>       <IRanges>  <Rle>\n",
       "      [1]     chr1 3119639-3120688      *\n",
       "      [2]     chr1 3248952-3249591      *\n",
       "      [3]     chr1 3346784-3350416      *\n",
       "      [4]     chr1 3372578-3373177      *\n",
       "      [5]     chr1 3399855-3401447      *\n",
       "      ...      ...             ...    ...\n",
       "  [82898]     chrY 1009981-1010813      *\n",
       "  [82899]     chrY 1178532-1178922      *\n",
       "  [82900]     chrY 1212311-1212621      *\n",
       "  [82901]     chrY 1244877-1246086      *\n",
       "  [82902]     chrY 5920093-5920381      *\n",
       "  -------\n",
       "  seqinfo: 21 sequences from an unspecified genome; no seqlengths\n"
      ]
     },
     "metadata": {},
     "output_type": "display_data"
    }
   ],
   "source": [
    "%%R\n",
    "merge_covered_range(pattern=\"IRI1A_peaks.q.01.len250.broadPeak\")"
   ]
  },
  {
   "cell_type": "markdown",
   "metadata": {},
   "source": [
    "IRI2A"
   ]
  },
  {
   "cell_type": "code",
   "execution_count": 130,
   "metadata": {},
   "outputs": [
    {
     "data": {
      "text/plain": [
       "DataFrame with 81982 rows and 0 columns\n",
       "DataFrame with 81982 rows and 0 columns\n",
       "GRanges object with 81982 ranges and 0 metadata columns:\n",
       "          seqnames          ranges strand\n",
       "             <Rle>       <IRanges>  <Rle>\n",
       "      [1]     chr1 3119611-3121591      *\n",
       "      [2]     chr1 3248840-3249563      *\n",
       "      [3]     chr1 3349863-3350345      *\n",
       "      [4]     chr1 3372589-3373160      *\n",
       "      [5]     chr1 3399825-3401532      *\n",
       "      ...      ...             ...    ...\n",
       "  [81978]     chrY 1009997-1010824      *\n",
       "  [81979]     chrY 1066936-1067213      *\n",
       "  [81980]     chrY 1178532-1178929      *\n",
       "  [81981]     chrY 1212334-1212585      *\n",
       "  [81982]     chrY 1244692-1246098      *\n",
       "  -------\n",
       "  seqinfo: 21 sequences from an unspecified genome; no seqlengths\n"
      ]
     },
     "metadata": {},
     "output_type": "display_data"
    }
   ],
   "source": [
    "%%R\n",
    "merge_covered_range(pattern=\"IRI2A_peaks.q.01.len250.broadPeak\")"
   ]
  },
  {
   "cell_type": "markdown",
   "metadata": {},
   "source": [
    "SHAM1A"
   ]
  },
  {
   "cell_type": "code",
   "execution_count": 131,
   "metadata": {},
   "outputs": [
    {
     "data": {
      "text/plain": [
       "DataFrame with 77309 rows and 0 columns\n",
       "DataFrame with 77309 rows and 0 columns\n",
       "GRanges object with 77309 ranges and 0 metadata columns:\n",
       "          seqnames          ranges strand\n",
       "             <Rle>       <IRanges>  <Rle>\n",
       "      [1]     chr1 3116796-3117640      *\n",
       "      [2]     chr1 3119338-3120744      *\n",
       "      [3]     chr1 3155407-3156015      *\n",
       "      [4]     chr1 3248813-3251126      *\n",
       "      [5]     chr1 3349863-3350442      *\n",
       "      ...      ...             ...    ...\n",
       "  [77305]     chrY 1244764-1246080      *\n",
       "  [77306]     chrY 1254838-1255276      *\n",
       "  [77307]     chrY 2308823-2309168      *\n",
       "  [77308]     chrY 5670911-5671236      *\n",
       "  [77309]     chrY 9389697-9390192      *\n",
       "  -------\n",
       "  seqinfo: 21 sequences from an unspecified genome; no seqlengths\n"
      ]
     },
     "metadata": {},
     "output_type": "display_data"
    }
   ],
   "source": [
    "%%R\n",
    "merge_covered_range(pattern=\"SHAM1A_peaks.q.01.len250.broadPeak\")"
   ]
  },
  {
   "cell_type": "markdown",
   "metadata": {},
   "source": [
    "SHAM2A"
   ]
  },
  {
   "cell_type": "code",
   "execution_count": 132,
   "metadata": {},
   "outputs": [
    {
     "data": {
      "text/plain": [
       "DataFrame with 81374 rows and 0 columns\n",
       "DataFrame with 81374 rows and 0 columns\n",
       "GRanges object with 81374 ranges and 0 metadata columns:\n",
       "          seqnames          ranges strand\n",
       "             <Rle>       <IRanges>  <Rle>\n",
       "      [1]     chr1 3116593-3117536      *\n",
       "      [2]     chr1 3119604-3120580      *\n",
       "      [3]     chr1 3126063-3126476      *\n",
       "      [4]     chr1 3154842-3157891      *\n",
       "      [5]     chr1 3176551-3176879      *\n",
       "      ...      ...             ...    ...\n",
       "  [81370]     chrY 1212157-1212604      *\n",
       "  [81371]     chrY 1244877-1246082      *\n",
       "  [81372]     chrY 1254841-1255169      *\n",
       "  [81373]     chrY 2308813-2309456      *\n",
       "  [81374]     chrY 9389661-9390019      *\n",
       "  -------\n",
       "  seqinfo: 21 sequences from an unspecified genome; no seqlengths\n"
      ]
     },
     "metadata": {},
     "output_type": "display_data"
    }
   ],
   "source": [
    "%%R\n",
    "merge_covered_range(pattern=\"SHAM2A_peaks.q.01.len250.broadPeak\")"
   ]
  },
  {
   "cell_type": "markdown",
   "metadata": {},
   "source": [
    "### Using R 3.6 Biocmanger for ChIPQC and soGGi"
   ]
  },
  {
   "cell_type": "markdown",
   "metadata": {},
   "source": [
    "https://rockefelleruniversity.github.io/RU_ATAC_Workshop.html#greenleaf-dataset---annotating-open-regions."
   ]
  },
  {
   "cell_type": "markdown",
   "metadata": {},
   "source": [
    "## Load consensus - intersection data -making bedGraph"
   ]
  },
  {
   "cell_type": "code",
   "execution_count": 2,
   "metadata": {
    "scrolled": true
   },
   "outputs": [
    {
     "name": "stderr",
     "output_type": "stream",
     "text": [
      "R[write to console]: Loading required package: BiocGenerics\n",
      "\n",
      "R[write to console]: Loading required package: parallel\n",
      "\n",
      "R[write to console]: \n",
      "Attaching package: ‘BiocGenerics’\n",
      "\n",
      "\n",
      "R[write to console]: The following objects are masked from ‘package:parallel’:\n",
      "\n",
      "    clusterApply, clusterApplyLB, clusterCall, clusterEvalQ,\n",
      "    clusterExport, clusterMap, parApply, parCapply, parLapply,\n",
      "    parLapplyLB, parRapply, parSapply, parSapplyLB\n",
      "\n",
      "\n",
      "R[write to console]: The following objects are masked from ‘package:stats’:\n",
      "\n",
      "    IQR, mad, sd, var, xtabs\n",
      "\n",
      "\n",
      "R[write to console]: The following objects are masked from ‘package:base’:\n",
      "\n",
      "    anyDuplicated, append, as.data.frame, basename, cbind, colnames,\n",
      "    dirname, do.call, duplicated, eval, evalq, Filter, Find, get, grep,\n",
      "    grepl, intersect, is.unsorted, lapply, Map, mapply, match, mget,\n",
      "    order, paste, pmax, pmax.int, pmin, pmin.int, Position, rank,\n",
      "    rbind, Reduce, rownames, sapply, setdiff, sort, table, tapply,\n",
      "    union, unique, unsplit, which, which.max, which.min\n",
      "\n",
      "\n",
      "R[write to console]: Loading required package: SummarizedExperiment\n",
      "\n",
      "R[write to console]: Loading required package: GenomicRanges\n",
      "\n",
      "R[write to console]: Loading required package: stats4\n",
      "\n",
      "R[write to console]: Loading required package: S4Vectors\n",
      "\n",
      "R[write to console]: \n",
      "Attaching package: ‘S4Vectors’\n",
      "\n",
      "\n",
      "R[write to console]: The following object is masked from ‘package:base’:\n",
      "\n",
      "    expand.grid\n",
      "\n",
      "\n",
      "R[write to console]: Loading required package: IRanges\n",
      "\n",
      "R[write to console]: Loading required package: GenomeInfoDb\n",
      "\n",
      "R[write to console]: Loading required package: Biobase\n",
      "\n",
      "R[write to console]: Welcome to Bioconductor\n",
      "\n",
      "    Vignettes contain introductory material; view with\n",
      "    'browseVignettes()'. To cite Bioconductor, see\n",
      "    'citation(\"Biobase\")', and for packages 'citation(\"pkgname\")'.\n",
      "\n",
      "\n",
      "R[write to console]: Loading required package: DelayedArray\n",
      "\n",
      "R[write to console]: Loading required package: matrixStats\n",
      "\n",
      "R[write to console]: \n",
      "Attaching package: ‘matrixStats’\n",
      "\n",
      "\n",
      "R[write to console]: The following objects are masked from ‘package:Biobase’:\n",
      "\n",
      "    anyMissing, rowMedians\n",
      "\n",
      "\n",
      "R[write to console]: Loading required package: BiocParallel\n",
      "\n",
      "R[write to console]: \n",
      "Attaching package: ‘DelayedArray’\n",
      "\n",
      "\n",
      "R[write to console]: The following objects are masked from ‘package:matrixStats’:\n",
      "\n",
      "    colMaxs, colMins, colRanges, rowMaxs, rowMins, rowRanges\n",
      "\n",
      "\n",
      "R[write to console]: The following objects are masked from ‘package:base’:\n",
      "\n",
      "    aperm, apply, rowsum\n",
      "\n",
      "\n"
     ]
    }
   ],
   "source": [
    "%%R\n",
    "library(soGGi)"
   ]
  },
  {
   "cell_type": "markdown",
   "metadata": {},
   "source": [
    "%%R\n",
    "library(doMC)\n",
    "registerDoMC(2)"
   ]
  },
  {
   "cell_type": "code",
   "execution_count": 15,
   "metadata": {
    "scrolled": true
   },
   "outputs": [
    {
     "name": "stderr",
     "output_type": "stream",
     "text": [
      "R[write to console]: Loading required package: ggplot2\n",
      "\n",
      "R[write to console]: Loading required package: DiffBind\n",
      "\n",
      "R[write to console]: \n",
      "\n"
     ]
    }
   ],
   "source": [
    "%%R\n",
    "library(ChIPQC)"
   ]
  },
  {
   "cell_type": "code",
   "execution_count": 65,
   "metadata": {},
   "outputs": [
    {
     "name": "stdout",
     "output_type": "stream",
     "text": [
      "[1] \"../IRI1A_peaks.q.01.len250.broadPeak\" \n",
      "[2] \"../IRI2A_peaks.q.01.len250.broadPeak\" \n",
      "[3] \"../SHAM1A_peaks.q.01.len250.broadPeak\"\n",
      "[4] \"../SHAM2A_peaks.q.01.len250.broadPeak\"\n"
     ]
    }
   ],
   "source": [
    "%%R\n",
    "#https://rockefelleruniversity.github.io/RU_ATAC_Workshop.html\n",
    "macs2_peak_files_filtered.files <- list.files(path=\"..\",pattern=\".*\\\\q.01.len250.broadPeak\", full.names=TRUE)\n",
    "macs2_peak_files_filtered.files"
   ]
  },
  {
   "cell_type": "code",
   "execution_count": 68,
   "metadata": {},
   "outputs": [
    {
     "name": "stdout",
     "output_type": "stream",
     "text": [
      "[[1]]\n",
      "GRanges object with 82902 ranges and 5 metadata columns:\n",
      "          seqnames          ranges strand |              name     score\n",
      "             <Rle>       <IRanges>  <Rle> |       <character> <numeric>\n",
      "      [1]     chr1 3119639-3120688      * |     IRI1A_peak_14        41\n",
      "      [2]     chr1 3248952-3249591      * |     IRI1A_peak_39        51\n",
      "      [3]     chr1 3346784-3350416      * |     IRI1A_peak_46        32\n",
      "      [4]     chr1 3372578-3373177      * |     IRI1A_peak_48       462\n",
      "      [5]     chr1 3399855-3401447      * |     IRI1A_peak_50        94\n",
      "      ...      ...             ...    ... .               ...       ...\n",
      "  [82898]     chrY 1009981-1010813      * | IRI1A_peak_240704       384\n",
      "  [82899]     chrY 1178532-1178922      * | IRI1A_peak_240719        67\n",
      "  [82900]     chrY 1212311-1212621      * | IRI1A_peak_240720        30\n",
      "  [82901]     chrY 1244877-1246086      * | IRI1A_peak_240722       222\n",
      "  [82902]     chrY 5920093-5920381      * | IRI1A_peak_240743        25\n",
      "          signalValue    pValue    qValue\n",
      "            <numeric> <numeric> <numeric>\n",
      "      [1]      3.3966   6.05404   4.19678\n",
      "      [2]      3.3989   6.87547   5.18208\n",
      "      [3]     2.91906   4.96386    3.2444\n",
      "      [4]      8.4507  48.66312  46.27046\n",
      "      [5]     4.05124  11.39614   9.48632\n",
      "      ...         ...       ...       ...\n",
      "  [82898]     9.31192  40.85874  38.48808\n",
      "  [82899]     4.07087   8.71045   6.78967\n",
      "  [82900]     3.08338   4.89799   3.06896\n",
      "  [82901]     5.45575  24.38153  22.26516\n",
      "  [82902]     2.92193   4.34598   2.53445\n",
      "  -------\n",
      "  seqinfo: 21 sequences from an unspecified genome; no seqlengths\n",
      "\n",
      "[[2]]\n",
      "GRanges object with 81982 ranges and 5 metadata columns:\n",
      "          seqnames          ranges strand |              name     score\n",
      "             <Rle>       <IRanges>  <Rle> |       <character> <numeric>\n",
      "      [1]     chr1 3119611-3121591      * |      IRI2A_peak_6        36\n",
      "      [2]     chr1 3248840-3249563      * |     IRI2A_peak_23        30\n",
      "      [3]     chr1 3349863-3350345      * |     IRI2A_peak_27        35\n",
      "      [4]     chr1 3372589-3373160      * |     IRI2A_peak_29       470\n",
      "      [5]     chr1 3399825-3401532      * |     IRI2A_peak_31        88\n",
      "      ...      ...             ...    ... .               ...       ...\n",
      "  [81978]     chrY 1009997-1010824      * | IRI2A_peak_197102       385\n",
      "  [81979]     chrY 1066936-1067213      * | IRI2A_peak_197105        42\n",
      "  [81980]     chrY 1178532-1178929      * | IRI2A_peak_197111       109\n",
      "  [81981]     chrY 1212334-1212585      * | IRI2A_peak_197115        30\n",
      "  [81982]     chrY 1244692-1246098      * | IRI2A_peak_197116       235\n",
      "          signalValue    pValue    qValue\n",
      "            <numeric> <numeric> <numeric>\n",
      "      [1]     3.25816   5.48284    3.6646\n",
      "      [2]     3.02231   4.73756   3.02682\n",
      "      [3]     3.45904   5.39919   3.52386\n",
      "      [4]     8.99308  49.42485  47.00904\n",
      "      [5]     4.40936  10.76737   8.86668\n",
      "      ...         ...       ...       ...\n",
      "  [81978]     9.43754   40.9949  38.58952\n",
      "  [81979]      3.7494   6.17813   4.29212\n",
      "  [81980]     5.71372  13.01586  10.95153\n",
      "  [81981]     3.23669   4.86447    3.0429\n",
      "  [81982]      5.6267  25.58899  23.53447\n",
      "  -------\n",
      "  seqinfo: 21 sequences from an unspecified genome; no seqlengths\n",
      "\n",
      "[[3]]\n",
      "GRanges object with 77309 ranges and 5 metadata columns:\n",
      "          seqnames          ranges strand |               name     score\n",
      "             <Rle>       <IRanges>  <Rle> |        <character> <numeric>\n",
      "      [1]     chr1 3116796-3117640      * |     Sham1A_peak_14        36\n",
      "      [2]     chr1 3119338-3120744      * |     Sham1A_peak_15        42\n",
      "      [3]     chr1 3155407-3156015      * |     Sham1A_peak_25        80\n",
      "      [4]     chr1 3248813-3251126      * |     Sham1A_peak_44        37\n",
      "      [5]     chr1 3349863-3350442      * |     Sham1A_peak_56        49\n",
      "      ...      ...             ...    ... .                ...       ...\n",
      "  [77305]     chrY 1244764-1246080      * | Sham1A_peak_217113       359\n",
      "  [77306]     chrY 1254838-1255276      * | Sham1A_peak_217114        68\n",
      "  [77307]     chrY 2308823-2309168      * | Sham1A_peak_217119        32\n",
      "  [77308]     chrY 5670911-5671236      * | Sham1A_peak_217129        27\n",
      "  [77309]     chrY 9389697-9390192      * | Sham1A_peak_217147        20\n",
      "          signalValue    pValue    qValue\n",
      "            <numeric> <numeric> <numeric>\n",
      "      [1]     2.72474   5.32746   3.62565\n",
      "      [2]     2.94375   6.07664    4.2537\n",
      "      [3]     4.72733  10.14308   8.09845\n",
      "      [4]     2.99532   5.44024   3.77601\n",
      "      [5]     3.50928   6.81153    4.9367\n",
      "      ...         ...       ...       ...\n",
      "  [77305]     6.17174  37.97544  35.93357\n",
      "  [77306]     4.25351   8.83259   6.84608\n",
      "  [77307]     3.10735   5.02754   3.22713\n",
      "  [77308]     3.00885   4.55422   2.73019\n",
      "  [77309]     2.73142    3.8165   2.03113\n",
      "  -------\n",
      "  seqinfo: 21 sequences from an unspecified genome; no seqlengths\n",
      "\n",
      "[[4]]\n",
      "GRanges object with 81374 ranges and 5 metadata columns:\n",
      "          seqnames          ranges strand |               name     score\n",
      "             <Rle>       <IRanges>  <Rle> |        <character> <numeric>\n",
      "      [1]     chr1 3116593-3117536      * |     Sham2A_peak_11        65\n",
      "      [2]     chr1 3119604-3120580      * |     Sham2A_peak_12        55\n",
      "      [3]     chr1 3126063-3126476      * |     Sham2A_peak_13        29\n",
      "      [4]     chr1 3154842-3157891      * |     Sham2A_peak_16       119\n",
      "      [5]     chr1 3176551-3176879      * |     Sham2A_peak_18        29\n",
      "      ...      ...             ...    ... .                ...       ...\n",
      "  [81370]     chrY 1212157-1212604      * | Sham2A_peak_196990        46\n",
      "  [81371]     chrY 1244877-1246082      * | Sham2A_peak_196992       417\n",
      "  [81372]     chrY 1254841-1255169      * | Sham2A_peak_196994        56\n",
      "  [81373]     chrY 2308813-2309456      * | Sham2A_peak_196995       175\n",
      "  [81374]     chrY 9389661-9390019      * | Sham2A_peak_197019        53\n",
      "          signalValue    pValue    qValue\n",
      "            <numeric> <numeric> <numeric>\n",
      "      [1]     3.05672   8.16583    6.5203\n",
      "      [2]     3.22826   7.40631   5.52654\n",
      "      [3]     2.94397   4.78846   2.97408\n",
      "      [4]     4.94315  13.80796  11.91909\n",
      "      [5]     2.94916   4.74782   2.91053\n",
      "      ...         ...       ...       ...\n",
      "  [81370]      3.2298   6.37463    4.6019\n",
      "  [81371]     6.21455  43.88048  41.72178\n",
      "  [81372]     3.72169   7.60349   5.68744\n",
      "  [81373]     6.28714  19.68687  17.59831\n",
      "  [81374]     3.72171    7.3126   5.37032\n",
      "  -------\n",
      "  seqinfo: 21 sequences from an unspecified genome; no seqlengths\n",
      "\n"
     ]
    }
   ],
   "source": [
    "%%R\n",
    "macs2_peak_files_filtered.granges <- lapply(macs2_peak_files_filtered.files, rtracklayer:::import)\n",
    "macs2_peak_files_filtered.granges"
   ]
  },
  {
   "cell_type": "code",
   "execution_count": 69,
   "metadata": {},
   "outputs": [
    {
     "name": "stdout",
     "output_type": "stream",
     "text": [
      "GRangesList object of length 4:\n",
      "$IRI1A\n",
      "GRanges object with 82902 ranges and 5 metadata columns:\n",
      "          seqnames          ranges strand |              name     score\n",
      "             <Rle>       <IRanges>  <Rle> |       <character> <numeric>\n",
      "      [1]     chr1 3119639-3120688      * |     IRI1A_peak_14        41\n",
      "      [2]     chr1 3248952-3249591      * |     IRI1A_peak_39        51\n",
      "      [3]     chr1 3346784-3350416      * |     IRI1A_peak_46        32\n",
      "      [4]     chr1 3372578-3373177      * |     IRI1A_peak_48       462\n",
      "      [5]     chr1 3399855-3401447      * |     IRI1A_peak_50        94\n",
      "      ...      ...             ...    ... .               ...       ...\n",
      "  [82898]     chrY 1009981-1010813      * | IRI1A_peak_240704       384\n",
      "  [82899]     chrY 1178532-1178922      * | IRI1A_peak_240719        67\n",
      "  [82900]     chrY 1212311-1212621      * | IRI1A_peak_240720        30\n",
      "  [82901]     chrY 1244877-1246086      * | IRI1A_peak_240722       222\n",
      "  [82902]     chrY 5920093-5920381      * | IRI1A_peak_240743        25\n",
      "          signalValue    pValue    qValue\n",
      "            <numeric> <numeric> <numeric>\n",
      "      [1]      3.3966   6.05404   4.19678\n",
      "      [2]      3.3989   6.87547   5.18208\n",
      "      [3]     2.91906   4.96386    3.2444\n",
      "      [4]      8.4507  48.66312  46.27046\n",
      "      [5]     4.05124  11.39614   9.48632\n",
      "      ...         ...       ...       ...\n",
      "  [82898]     9.31192  40.85874  38.48808\n",
      "  [82899]     4.07087   8.71045   6.78967\n",
      "  [82900]     3.08338   4.89799   3.06896\n",
      "  [82901]     5.45575  24.38153  22.26516\n",
      "  [82902]     2.92193   4.34598   2.53445\n",
      "  -------\n",
      "  seqinfo: 21 sequences from an unspecified genome; no seqlengths\n",
      "\n",
      "...\n",
      "<3 more elements>\n"
     ]
    }
   ],
   "source": [
    "%%R\n",
    "names(macs2_peak_files_filtered.granges) <- c(\"IRI1A\", \"IRI2A\", \"SHAM1A\", \"SHAM2A\")\n",
    "#Group annotation for DESeq2\n",
    "Group <- factor(c(\"IRI\", \"IRI\", \"SHAM\", \"SHAM\"))\n",
    "macs2_peak_files_filtered.grangeslist <- GRangesList(macs2_peak_files_filtered.granges)\n",
    "macs2_peak_files_filtered.grangeslist"
   ]
  },
  {
   "cell_type": "code",
   "execution_count": 41,
   "metadata": {},
   "outputs": [],
   "source": [
    "#https://rdrr.io/bioc/soGGi/man/findconsensusRegions.html\n",
    "\n",
    "#findconsensusRegions(testRanges, bamFiles = NULL, method = \"majority\",\n",
    "#  summit = \"mean\", resizepeak = \"asw\", overlap = \"any\",\n",
    "#  fragmentLength = NULL, NonPrimaryPeaks = list(withinsample = \"drop\",\n",
    "#  betweensample = \"mean\"))"
   ]
  },
  {
   "cell_type": "raw",
   "metadata": {},
   "source": [
    "%%R\n",
    "runConsensusRegions <- function(testRanges,method=\"majority\",overlap=\"any\"){\n",
    "    if(class(testRanges) == \"GRangesList\" & length(testRanges) > 1){\n",
    "      \n",
    "      reduced <- reduce(unlist(testRanges))\n",
    "      consensusIDs <- paste0(\"consensus_\",seq(1,length(reduced)))\n",
    "      mcols(reduced) <- \n",
    "      do.call(cbind,lapply(testRanges,function(x)(reduced %over% x)+0))\n",
    "      if(method==\"majority\"){\n",
    "        reducedConsensus <- reduced[rowSums(as.data.frame(mcols(reduced))) > length(testRanges)/2,]\n",
    "      }\n",
    "      if(method==\"none\"){\n",
    "        reducedConsensus <- reduced\n",
    "      }\n",
    "      if(is.numeric(method)){\n",
    "        reducedConsensus <- reduced[rowSums(as.data.frame(mcols(reduced))) > method,]\n",
    "      }\n",
    "    consensusIDs <- paste0(\"consensus_\",seq(1,length(reducedConsensus)))\n",
    "    mcols(reducedConsensus) <- cbind(as.data.frame(mcols(reducedConsensus)),consensusIDs)\n",
    "    return(reducedConsensus)\n",
    "    \n",
    "  }\n",
    "}"
   ]
  },
  {
   "cell_type": "code",
   "execution_count": 70,
   "metadata": {},
   "outputs": [
    {
     "name": "stdout",
     "output_type": "stream",
     "text": [
      "GRanges object with 107460 ranges and 0 metadata columns:\n",
      "           seqnames          ranges strand\n",
      "              <Rle>       <IRanges>  <Rle>\n",
      "       [1]     chr1 3116593-3117640      *\n",
      "       [2]     chr1 3119338-3121591      *\n",
      "       [3]     chr1 3126063-3126476      *\n",
      "       [4]     chr1 3154842-3157891      *\n",
      "       [5]     chr1 3176551-3176879      *\n",
      "       ...      ...             ...    ...\n",
      "  [107456]     chrY 1254838-1255276      *\n",
      "  [107457]     chrY 2308813-2309456      *\n",
      "  [107458]     chrY 5670911-5671236      *\n",
      "  [107459]     chrY 5920093-5920381      *\n",
      "  [107460]     chrY 9389661-9390192      *\n",
      "  -------\n",
      "  seqinfo: 21 sequences from an unspecified genome; no seqlengths\n"
     ]
    }
   ],
   "source": [
    "%%R\n",
    "reduced <- reduce(unlist(macs2_peak_files_filtered.grangeslist))\n",
    "reduced"
   ]
  },
  {
   "cell_type": "code",
   "execution_count": 71,
   "metadata": {},
   "outputs": [
    {
     "name": "stdout",
     "output_type": "stream",
     "text": [
      "GRanges object with 107460 ranges and 4 metadata columns:\n",
      "           seqnames          ranges strand |     IRI1A     IRI2A    SHAM1A\n",
      "              <Rle>       <IRanges>  <Rle> | <numeric> <numeric> <numeric>\n",
      "       [1]     chr1 3116593-3117640      * |         0         0         1\n",
      "       [2]     chr1 3119338-3121591      * |         1         1         1\n",
      "       [3]     chr1 3126063-3126476      * |         0         0         0\n",
      "       [4]     chr1 3154842-3157891      * |         0         0         1\n",
      "       [5]     chr1 3176551-3176879      * |         0         0         0\n",
      "       ...      ...             ...    ... .       ...       ...       ...\n",
      "  [107456]     chrY 1254838-1255276      * |         0         0         1\n",
      "  [107457]     chrY 2308813-2309456      * |         0         0         1\n",
      "  [107458]     chrY 5670911-5671236      * |         0         0         1\n",
      "  [107459]     chrY 5920093-5920381      * |         1         0         0\n",
      "  [107460]     chrY 9389661-9390192      * |         0         0         1\n",
      "              SHAM2A\n",
      "           <numeric>\n",
      "       [1]         1\n",
      "       [2]         1\n",
      "       [3]         1\n",
      "       [4]         1\n",
      "       [5]         1\n",
      "       ...       ...\n",
      "  [107456]         1\n",
      "  [107457]         1\n",
      "  [107458]         0\n",
      "  [107459]         0\n",
      "  [107460]         1\n",
      "  -------\n",
      "  seqinfo: 21 sequences from an unspecified genome; no seqlengths\n"
     ]
    }
   ],
   "source": [
    "%%R      \n",
    "consensusIDs <- paste0(\"consensus_\",seq(1,length(reduced)))\n",
    "mcols(reduced) <- do.call(cbind,lapply(macs2_peak_files_filtered.grangeslist,function(x)(reduced %over% x)+0))\n",
    "reducedConsensus <- reduced\n",
    "reducedConsensus"
   ]
  },
  {
   "cell_type": "code",
   "execution_count": 72,
   "metadata": {},
   "outputs": [],
   "source": [
    "%%R\n",
    "consensusIDs <- paste0(\"consensus_\",seq(1,length(reducedConsensus)))\n",
    "mcols(reducedConsensus) <- cbind(as.data.frame(mcols(reducedConsensus)),consensusIDs)"
   ]
  },
  {
   "cell_type": "code",
   "execution_count": 73,
   "metadata": {},
   "outputs": [
    {
     "name": "stdout",
     "output_type": "stream",
     "text": [
      "GRanges object with 107460 ranges and 5 metadata columns:\n",
      "           seqnames          ranges strand |     IRI1A     IRI2A    SHAM1A\n",
      "              <Rle>       <IRanges>  <Rle> | <numeric> <numeric> <numeric>\n",
      "       [1]     chr1 3116593-3117640      * |         0         0         1\n",
      "       [2]     chr1 3119338-3121591      * |         1         1         1\n",
      "       [3]     chr1 3126063-3126476      * |         0         0         0\n",
      "       [4]     chr1 3154842-3157891      * |         0         0         1\n",
      "       [5]     chr1 3176551-3176879      * |         0         0         0\n",
      "       ...      ...             ...    ... .       ...       ...       ...\n",
      "  [107456]     chrY 1254838-1255276      * |         0         0         1\n",
      "  [107457]     chrY 2308813-2309456      * |         0         0         1\n",
      "  [107458]     chrY 5670911-5671236      * |         0         0         1\n",
      "  [107459]     chrY 5920093-5920381      * |         1         0         0\n",
      "  [107460]     chrY 9389661-9390192      * |         0         0         1\n",
      "              SHAM2A     consensusIDs\n",
      "           <numeric>         <factor>\n",
      "       [1]         1      consensus_1\n",
      "       [2]         1      consensus_2\n",
      "       [3]         1      consensus_3\n",
      "       [4]         1      consensus_4\n",
      "       [5]         1      consensus_5\n",
      "       ...       ...              ...\n",
      "  [107456]         1 consensus_107456\n",
      "  [107457]         1 consensus_107457\n",
      "  [107458]         0 consensus_107458\n",
      "  [107459]         0 consensus_107459\n",
      "  [107460]         1 consensus_107460\n",
      "  -------\n",
      "  seqinfo: 21 sequences from an unspecified genome; no seqlengths\n"
     ]
    }
   ],
   "source": [
    "%%R\n",
    "reducedConsensus"
   ]
  },
  {
   "cell_type": "code",
   "execution_count": 75,
   "metadata": {},
   "outputs": [
    {
     "name": "stdout",
     "output_type": "stream",
     "text": [
      "  seqnames   start     end width strand IRI1A IRI2A SHAM1A SHAM2A consensusIDs\n",
      "1     chr1 3116593 3117640  1048      *     0     0      1      1  consensus_1\n",
      "2     chr1 3119338 3121591  2254      *     1     1      1      1  consensus_2\n",
      "3     chr1 3126063 3126476   414      *     0     0      0      1  consensus_3\n",
      "4     chr1 3154842 3157891  3050      *     0     0      1      1  consensus_4\n",
      "5     chr1 3176551 3176879   329      *     0     0      0      1  consensus_5\n",
      "6     chr1 3247295 3247547   253      *     0     0      0      1  consensus_6\n"
     ]
    }
   ],
   "source": [
    "%%R\n",
    "reducedConsensus_df <- as.data.frame(reducedConsensus)\n",
    "head(reducedConsensus_df)"
   ]
  },
  {
   "cell_type": "code",
   "execution_count": 77,
   "metadata": {},
   "outputs": [],
   "source": [
    "%%R\n",
    "write.csv(reducedConsensus_df, \"./post_macs2_peak-calling_consensus.q.01.len250.consensus.intersections.bed\", row.names=FALSE)"
   ]
  },
  {
   "cell_type": "code",
   "execution_count": 79,
   "metadata": {},
   "outputs": [],
   "source": [
    "import pandas as pd"
   ]
  },
  {
   "cell_type": "code",
   "execution_count": 84,
   "metadata": {},
   "outputs": [
    {
     "data": {
      "text/html": [
       "<div>\n",
       "<style scoped>\n",
       "    .dataframe tbody tr th:only-of-type {\n",
       "        vertical-align: middle;\n",
       "    }\n",
       "\n",
       "    .dataframe tbody tr th {\n",
       "        vertical-align: top;\n",
       "    }\n",
       "\n",
       "    .dataframe thead th {\n",
       "        text-align: right;\n",
       "    }\n",
       "</style>\n",
       "<table border=\"1\" class=\"dataframe\">\n",
       "  <thead>\n",
       "    <tr style=\"text-align: right;\">\n",
       "      <th></th>\n",
       "      <th>seqnames</th>\n",
       "      <th>start</th>\n",
       "      <th>end</th>\n",
       "      <th>width</th>\n",
       "      <th>strand</th>\n",
       "      <th>IRI1A</th>\n",
       "      <th>IRI2A</th>\n",
       "      <th>SHAM1A</th>\n",
       "      <th>SHAM2A</th>\n",
       "      <th>consensusIDs</th>\n",
       "    </tr>\n",
       "  </thead>\n",
       "  <tbody>\n",
       "    <tr>\n",
       "      <th>0</th>\n",
       "      <td>chr1</td>\n",
       "      <td>3116593</td>\n",
       "      <td>3117640</td>\n",
       "      <td>1048</td>\n",
       "      <td>*</td>\n",
       "      <td>0</td>\n",
       "      <td>0</td>\n",
       "      <td>1</td>\n",
       "      <td>1</td>\n",
       "      <td>consensus_1</td>\n",
       "    </tr>\n",
       "    <tr>\n",
       "      <th>1</th>\n",
       "      <td>chr1</td>\n",
       "      <td>3119338</td>\n",
       "      <td>3121591</td>\n",
       "      <td>2254</td>\n",
       "      <td>*</td>\n",
       "      <td>1</td>\n",
       "      <td>1</td>\n",
       "      <td>1</td>\n",
       "      <td>1</td>\n",
       "      <td>consensus_2</td>\n",
       "    </tr>\n",
       "    <tr>\n",
       "      <th>2</th>\n",
       "      <td>chr1</td>\n",
       "      <td>3126063</td>\n",
       "      <td>3126476</td>\n",
       "      <td>414</td>\n",
       "      <td>*</td>\n",
       "      <td>0</td>\n",
       "      <td>0</td>\n",
       "      <td>0</td>\n",
       "      <td>1</td>\n",
       "      <td>consensus_3</td>\n",
       "    </tr>\n",
       "    <tr>\n",
       "      <th>3</th>\n",
       "      <td>chr1</td>\n",
       "      <td>3154842</td>\n",
       "      <td>3157891</td>\n",
       "      <td>3050</td>\n",
       "      <td>*</td>\n",
       "      <td>0</td>\n",
       "      <td>0</td>\n",
       "      <td>1</td>\n",
       "      <td>1</td>\n",
       "      <td>consensus_4</td>\n",
       "    </tr>\n",
       "    <tr>\n",
       "      <th>4</th>\n",
       "      <td>chr1</td>\n",
       "      <td>3176551</td>\n",
       "      <td>3176879</td>\n",
       "      <td>329</td>\n",
       "      <td>*</td>\n",
       "      <td>0</td>\n",
       "      <td>0</td>\n",
       "      <td>0</td>\n",
       "      <td>1</td>\n",
       "      <td>consensus_5</td>\n",
       "    </tr>\n",
       "  </tbody>\n",
       "</table>\n",
       "</div>"
      ],
      "text/plain": [
       "  seqnames    start      end  width strand  IRI1A  IRI2A  SHAM1A  SHAM2A  \\\n",
       "0     chr1  3116593  3117640   1048      *      0      0       1       1   \n",
       "1     chr1  3119338  3121591   2254      *      1      1       1       1   \n",
       "2     chr1  3126063  3126476    414      *      0      0       0       1   \n",
       "3     chr1  3154842  3157891   3050      *      0      0       1       1   \n",
       "4     chr1  3176551  3176879    329      *      0      0       0       1   \n",
       "\n",
       "  consensusIDs  \n",
       "0  consensus_1  \n",
       "1  consensus_2  \n",
       "2  consensus_3  \n",
       "3  consensus_4  \n",
       "4  consensus_5  "
      ]
     },
     "execution_count": 84,
     "metadata": {},
     "output_type": "execute_result"
    }
   ],
   "source": [
    "consensus_intersection_data = pd.read_csv(\"./post_macs2_peak-calling_consensus.q.01.len250.consensus.intersections.bed\", sep=',', header=0)\n",
    "consensus_intersection_data.head()"
   ]
  },
  {
   "cell_type": "code",
   "execution_count": 85,
   "metadata": {},
   "outputs": [
    {
     "data": {
      "text/plain": [
       "{'chr1',\n",
       " 'chr10',\n",
       " 'chr11',\n",
       " 'chr12',\n",
       " 'chr13',\n",
       " 'chr14',\n",
       " 'chr15',\n",
       " 'chr16',\n",
       " 'chr17',\n",
       " 'chr18',\n",
       " 'chr19',\n",
       " 'chr2',\n",
       " 'chr3',\n",
       " 'chr4',\n",
       " 'chr5',\n",
       " 'chr6',\n",
       " 'chr7',\n",
       " 'chr8',\n",
       " 'chr9',\n",
       " 'chrX',\n",
       " 'chrY'}"
      ]
     },
     "execution_count": 85,
     "metadata": {},
     "output_type": "execute_result"
    }
   ],
   "source": [
    "set(consensus_intersection_data['seqnames'].to_list())"
   ]
  },
  {
   "cell_type": "markdown",
   "metadata": {},
   "source": [
    "Preprocessing for UpSetR"
   ]
  },
  {
   "cell_type": "code",
   "execution_count": 86,
   "metadata": {},
   "outputs": [
    {
     "data": {
      "text/html": [
       "<div>\n",
       "<style scoped>\n",
       "    .dataframe tbody tr th:only-of-type {\n",
       "        vertical-align: middle;\n",
       "    }\n",
       "\n",
       "    .dataframe tbody tr th {\n",
       "        vertical-align: top;\n",
       "    }\n",
       "\n",
       "    .dataframe thead th {\n",
       "        text-align: right;\n",
       "    }\n",
       "</style>\n",
       "<table border=\"1\" class=\"dataframe\">\n",
       "  <thead>\n",
       "    <tr style=\"text-align: right;\">\n",
       "      <th></th>\n",
       "      <th>Identifier</th>\n",
       "      <th>IRI1A</th>\n",
       "      <th>IRI2A</th>\n",
       "      <th>SHAM1A</th>\n",
       "      <th>SHAM2A</th>\n",
       "    </tr>\n",
       "  </thead>\n",
       "  <tbody>\n",
       "    <tr>\n",
       "      <th>0</th>\n",
       "      <td>chr1:3116593-3117640</td>\n",
       "      <td>0</td>\n",
       "      <td>0</td>\n",
       "      <td>1</td>\n",
       "      <td>1</td>\n",
       "    </tr>\n",
       "    <tr>\n",
       "      <th>1</th>\n",
       "      <td>chr1:3119338-3121591</td>\n",
       "      <td>1</td>\n",
       "      <td>1</td>\n",
       "      <td>1</td>\n",
       "      <td>1</td>\n",
       "    </tr>\n",
       "    <tr>\n",
       "      <th>2</th>\n",
       "      <td>chr1:3126063-3126476</td>\n",
       "      <td>0</td>\n",
       "      <td>0</td>\n",
       "      <td>0</td>\n",
       "      <td>1</td>\n",
       "    </tr>\n",
       "    <tr>\n",
       "      <th>3</th>\n",
       "      <td>chr1:3154842-3157891</td>\n",
       "      <td>0</td>\n",
       "      <td>0</td>\n",
       "      <td>1</td>\n",
       "      <td>1</td>\n",
       "    </tr>\n",
       "    <tr>\n",
       "      <th>4</th>\n",
       "      <td>chr1:3176551-3176879</td>\n",
       "      <td>0</td>\n",
       "      <td>0</td>\n",
       "      <td>0</td>\n",
       "      <td>1</td>\n",
       "    </tr>\n",
       "  </tbody>\n",
       "</table>\n",
       "</div>"
      ],
      "text/plain": [
       "             Identifier  IRI1A  IRI2A  SHAM1A  SHAM2A\n",
       "0  chr1:3116593-3117640      0      0       1       1\n",
       "1  chr1:3119338-3121591      1      1       1       1\n",
       "2  chr1:3126063-3126476      0      0       0       1\n",
       "3  chr1:3154842-3157891      0      0       1       1\n",
       "4  chr1:3176551-3176879      0      0       0       1"
      ]
     },
     "execution_count": 86,
     "metadata": {},
     "output_type": "execute_result"
    }
   ],
   "source": [
    "consensus_intersection_data[\"Identifier\"] = consensus_intersection_data.seqnames + ':' + \\\n",
    "                                            consensus_intersection_data.start.astype(str) + '-' + \\\n",
    "                                            consensus_intersection_data.end.astype(str)\n",
    "consensus_intersection_data = consensus_intersection_data.drop(columns=['seqnames', 'start', 'end', 'width', 'strand', 'consensusIDs'])\n",
    "#df = df[['mean', '0', '1', '2', '3']]\n",
    "consensus_intersection_data = consensus_intersection_data[['Identifier', 'IRI1A', 'IRI2A', 'SHAM1A', 'SHAM2A']]\n",
    "consensus_intersection_data.head()"
   ]
  },
  {
   "cell_type": "markdown",
   "metadata": {},
   "source": [
    "Export csv file for UpSetR"
   ]
  },
  {
   "cell_type": "code",
   "execution_count": 87,
   "metadata": {},
   "outputs": [],
   "source": [
    "consensus_intersection_data.to_csv(\"post_macs2_peak-calling_consensus.q.01.len250.consensus.intersections.UpSetR.csv\",sep=',', index=False)"
   ]
  },
  {
   "cell_type": "markdown",
   "metadata": {},
   "source": [
    "### Upset examples"
   ]
  },
  {
   "cell_type": "code",
   "execution_count": 91,
   "metadata": {},
   "outputs": [],
   "source": [
    "%%R\n",
    "library(UpSetR)"
   ]
  },
  {
   "cell_type": "code",
   "execution_count": 44,
   "metadata": {},
   "outputs": [],
   "source": [
    "%%R\n",
    "mutations <- read.csv( system.file(\"extdata\", \"mutations.csv\", package = \"UpSetR\"), header=T, sep = \",\")"
   ]
  },
  {
   "cell_type": "code",
   "execution_count": 51,
   "metadata": {},
   "outputs": [
    {
     "data": {
      "text/plain": [
       "  Identifier TTN PTEN TP53 EGFR MUC16 FLG RYR2 PCLO PIK3R1 PIK3CA NF1 MUC17\n",
       "1    02-0003   0    0    1    1     0   0    0    0      1      0   0     1\n",
       "2    02-0033   0    0    1    0     0   0    0    0      0      1   1     0\n",
       "3    02-0047   0    0    0    0     0   0    1    0      0      1   0     0\n",
       "  HMCN1 SPTA1 USH2A RB1 PKHD1 OBSCN AHNAK2 RYR3 RELN FRAS1 GPR98 DNAH5 ATRX\n",
       "1     0     0     0   0     0     0      0    0    0     0     0     1    0\n",
       "2     0     0     0   1     0     0      0    0    0     0     0     0    0\n",
       "3     0     0     0   0     0     0      0    1    0     0     0     0    0\n",
       "  APOB TCHH SYNE1 LRP2 KEL HRNR DNAH3 COL6A3 MUC5B LAMA1 DSP DNAH8 CNTNAP2 SDK1\n",
       "1    0    0     0    0   0    0     0      0     0     0   0     0       0    0\n",
       "2    0    0     0    0   0    0     0      0     0     0   0     0       0    0\n",
       "3    0    0     0    0   0    0     0      0     0     0   0     0       0    0\n",
       "  NBPF10 DNAH2 NLRP5 MLL3 IDH1 HCN1 FCGBP DOCK5 RIMS2 PCDHA1 MXRA5 HEATR7B2\n",
       "1      0     0     1    0    0    0     0     0     0      0     0        0\n",
       "2      0     0     0    0    0    0     0     0     0      1     0        0\n",
       "3      1     0     0    0    0    0     0     0     0      0     0        0\n",
       "  GRIN2A FGD5 TMEM132D STAG2 SEMA3C SCN9A PRDM9 POM121L12 PIK3CG PDGFRA GABRA6\n",
       "1      0    0        0     0      0     0     0         0      0      0      0\n",
       "2      0    0        0     0      1     0     0         0      0      0      0\n",
       "3      0    0        0     0      0     0     0         0      0      1      0\n",
       "  FLG2 FBN3 FBN2 FAT2 DNAH11 DMD COL1A2 ABCC9 XIRP2 TSHZ2 TEX15 SLIT3 RBM47\n",
       "1    0    0    0    0      0   0      0     0     0     1     0     0     0\n",
       "2    0    0    0    0      0   0      0     0     0     0     0     0     0\n",
       "3    0    0    0    0      0   0      0     0     0     0     0     0     0\n",
       "  PIK3C2G PCDH11X MYH2 MACF1 KSR2 DNAH9 DCHS2 CSMD3 CDH18 BCOR AHNAK ZAN TRRAP\n",
       "1       0       0    0     0    0     0     0     0     0    0     0   0     0\n",
       "2       0       0    0     0    0     0     0     0     0    0     0   0     0\n",
       "3       0       0    0     0    0     0     0     0     0    0     0   0     0\n",
       "  THSD7B TAF1L SPAG17 SLCO5A1 SCN10A RYR1 RIMBP2 PLEKHG4B PCDHB7 NPTX2 NOS1\n",
       "1      0     0      0       0      0    0      0        0      0     0    0\n",
       "2      0     0      0       0      0    0      0        0      0     0    0\n",
       "3      0     0      0       0      0    0      0        0      0     0    0\n",
       "  LZTR1\n",
       "1     0\n",
       "2     0\n",
       "3     0\n"
      ]
     },
     "metadata": {},
     "output_type": "display_data"
    }
   ],
   "source": [
    "%%R\n",
    "head(mutations, n=3)"
   ]
  },
  {
   "cell_type": "code",
   "execution_count": 49,
   "metadata": {},
   "outputs": [
    {
     "data": {
      "image/png": "[encoded data removed]"
     },
     "metadata": {},
     "output_type": "display_data"
    }
   ],
   "source": [
    "%%R -h 300 -w 500 -u px\n",
    "upset(mutations, sets = c(\"PTEN\", \"TP53\", \"EGFR\", \"PIK3R1\", \"RB1\"), sets.bar.color = \"#56B4E9\",\n",
    "order.by = \"freq\", empty.intersections = \"on\")"
   ]
  },
  {
   "cell_type": "markdown",
   "metadata": {},
   "source": [
    "Upset peak intersections"
   ]
  },
  {
   "cell_type": "code",
   "execution_count": 92,
   "metadata": {},
   "outputs": [
    {
     "name": "stdout",
     "output_type": "stream",
     "text": [
      "            Identifier IRI1A IRI2A SHAM1A SHAM2A\n",
      "1 chr1:3116593-3117640     0     0      1      1\n",
      "2 chr1:3119338-3121591     1     1      1      1\n",
      "3 chr1:3126063-3126476     0     0      0      1\n"
     ]
    }
   ],
   "source": [
    "%%R\n",
    "peak_intersections <- read.csv( \"post_macs2_peak-calling_consensus.q.01.len250.consensus.intersections.UpSetR.csv\", header=T, sep = \",\")\n",
    "head(peak_intersections, n=3)"
   ]
  },
  {
   "cell_type": "code",
   "execution_count": 95,
   "metadata": {},
   "outputs": [
    {
     "data": {
      "image/png": "[encoded data removed]"
     },
     "metadata": {},
     "output_type": "display_data"
    }
   ],
   "source": [
    "%%R  -h 500 -w 800 -u px\n",
    "upset(peak_intersections, sets = c(\"IRI1A\", \"IRI2A\", \"SHAM1A\", \"SHAM2A\"), sets.bar.color = \"#56B4E9\",\n",
    "order.by = \"freq\", empty.intersections = \"on\")"
   ]
  }
 ],
 "metadata": {
  "kernelspec": {
   "display_name": "Python 3",
   "language": "python",
   "name": "python3"
  },
  "language_info": {
   "codemirror_mode": {
    "name": "ipython",
    "version": 3
   },
   "file_extension": ".py",
   "mimetype": "text/x-python",
   "name": "python",
   "nbconvert_exporter": "python",
   "pygments_lexer": "ipython3",
   "version": "3.8.1"
  }
 },
 "nbformat": 4,
 "nbformat_minor": 4
}
