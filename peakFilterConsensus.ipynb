{
 "cells": [
  {
   "cell_type": "markdown",
   "metadata": {},
   "source": [
    "# Analysis after Peak-calling with MACS2"
   ]
  },
  {
   "cell_type": "raw",
   "metadata": {},
   "source": [
    "==> Sham1A_peaks.broadPeak <==\n",
    "Chrom, start, end, name, int(-10*log10pvalue), . , fold-change, -log10pval, -log10qval\n",
    "\n",
    "chr1    3012497 3012785 Sham1A_peak_1   3       .       1.92979 1.88640 0.32755\n",
    "chr1    3027637 3028381 Sham1A_peak_2   0       .       1.66762 1.36403 0.00738\n",
    "...\n",
    "\n",
    "pandas data pre-processing\n",
    "p < 0.05, 250-bp threshold\n",
    "[https://github.com/hms-dbmi/UpSetR](https://github.com/hms-dbmi/UpSetR)"
   ]
  },
  {
   "cell_type": "code",
   "execution_count": 24,
   "metadata": {},
   "outputs": [],
   "source": [
    "%matplotlib inline\n",
    "import pandas as pd\n",
    "import numpy as np\n",
    "import matplotlib.pyplot as plt"
   ]
  },
  {
   "cell_type": "code",
   "execution_count": 52,
   "metadata": {},
   "outputs": [],
   "source": [
    "def readBroadPeak(file, qthreshold=0.01, lenthreshold=250):\n",
    "    data = pd.read_csv(file, sep='\\t', header=None, \n",
    "            names = ['Chrom', 'start', 'end', 'name', 'score', '.', 'fc', 'neglogp', 'neglogq'])\n",
    "    data['len'] = abs(data['start'] - data['end'])\n",
    "    \n",
    "    return data[(data.neglogq >= (-1)*np.log10(qthreshold)) & (data.len >= lenthreshold)]"
   ]
  },
  {
   "cell_type": "code",
   "execution_count": 53,
   "metadata": {},
   "outputs": [],
   "source": [
    "IRI1A = readBroadPeak('../IRI1A_peaks.broadPeak')\n",
    "IRI2A = readBroadPeak('../IRI2A_peaks.broadPeak')\n",
    "SHAM1A = readBroadPeak('../Sham1A_peaks.broadPeak')\n",
    "SHAM2A =  readBroadPeak('../Sham2A_peaks.broadPeak')"
   ]
  },
  {
   "cell_type": "code",
   "execution_count": 58,
   "metadata": {},
   "outputs": [],
   "source": [
    "IRI1A.to_csv(\"../IRI1A_peaks.q.01.len250.broadPeak\", header=False, sep='\\t', index=False)\n",
    "IRI2A.to_csv(\"../IRI2A_peaks.q.01.len250.broadPeak\", header=False, sep='\\t', index=False)\n",
    "SHAM1A.to_csv(\"../SHAM1A_peaks.q.01.len250.broadPeak\", header=False, sep='\\t', index=False)\n",
    "SHAM2A.to_csv(\"../SHAM2A_peaks.q.01.len250.broadPeak\", header=False, sep='\\t', index=False)"
   ]
  },
  {
   "cell_type": "code",
   "execution_count": 54,
   "metadata": {},
   "outputs": [
    {
     "data": {
      "text/html": [
       "<div>\n",
       "<style scoped>\n",
       "    .dataframe tbody tr th:only-of-type {\n",
       "        vertical-align: middle;\n",
       "    }\n",
       "\n",
       "    .dataframe tbody tr th {\n",
       "        vertical-align: top;\n",
       "    }\n",
       "\n",
       "    .dataframe thead th {\n",
       "        text-align: right;\n",
       "    }\n",
       "</style>\n",
       "<table border=\"1\" class=\"dataframe\">\n",
       "  <thead>\n",
       "    <tr style=\"text-align: right;\">\n",
       "      <th></th>\n",
       "      <th>start</th>\n",
       "      <th>end</th>\n",
       "      <th>score</th>\n",
       "      <th>fc</th>\n",
       "      <th>neglogp</th>\n",
       "      <th>neglogq</th>\n",
       "      <th>len</th>\n",
       "    </tr>\n",
       "  </thead>\n",
       "  <tbody>\n",
       "    <tr>\n",
       "      <td>count</td>\n",
       "      <td>8.290200e+04</td>\n",
       "      <td>8.290200e+04</td>\n",
       "      <td>82902.000000</td>\n",
       "      <td>82902.000000</td>\n",
       "      <td>82902.000000</td>\n",
       "      <td>82902.000000</td>\n",
       "      <td>82902.000000</td>\n",
       "    </tr>\n",
       "    <tr>\n",
       "      <td>mean</td>\n",
       "      <td>7.474784e+07</td>\n",
       "      <td>7.474873e+07</td>\n",
       "      <td>165.733300</td>\n",
       "      <td>4.345791</td>\n",
       "      <td>18.603464</td>\n",
       "      <td>16.623200</td>\n",
       "      <td>888.622542</td>\n",
       "    </tr>\n",
       "    <tr>\n",
       "      <td>std</td>\n",
       "      <td>4.395640e+07</td>\n",
       "      <td>4.395640e+07</td>\n",
       "      <td>225.955258</td>\n",
       "      <td>1.736312</td>\n",
       "      <td>22.839966</td>\n",
       "      <td>22.595563</td>\n",
       "      <td>564.041695</td>\n",
       "    </tr>\n",
       "    <tr>\n",
       "      <td>min</td>\n",
       "      <td>8.085650e+05</td>\n",
       "      <td>8.102000e+05</td>\n",
       "      <td>20.000000</td>\n",
       "      <td>1.586580</td>\n",
       "      <td>3.482290</td>\n",
       "      <td>2.000030</td>\n",
       "      <td>250.000000</td>\n",
       "    </tr>\n",
       "    <tr>\n",
       "      <td>25%</td>\n",
       "      <td>3.688139e+07</td>\n",
       "      <td>3.688208e+07</td>\n",
       "      <td>39.000000</td>\n",
       "      <td>3.028540</td>\n",
       "      <td>5.757837</td>\n",
       "      <td>3.972822</td>\n",
       "      <td>469.000000</td>\n",
       "    </tr>\n",
       "    <tr>\n",
       "      <td>50%</td>\n",
       "      <td>7.251729e+07</td>\n",
       "      <td>7.251784e+07</td>\n",
       "      <td>80.000000</td>\n",
       "      <td>3.824855</td>\n",
       "      <td>9.972725</td>\n",
       "      <td>8.065150</td>\n",
       "      <td>722.000000</td>\n",
       "    </tr>\n",
       "    <tr>\n",
       "      <td>75%</td>\n",
       "      <td>1.075940e+08</td>\n",
       "      <td>1.075951e+08</td>\n",
       "      <td>191.000000</td>\n",
       "      <td>5.201398</td>\n",
       "      <td>21.297007</td>\n",
       "      <td>19.195873</td>\n",
       "      <td>1160.000000</td>\n",
       "    </tr>\n",
       "    <tr>\n",
       "      <td>max</td>\n",
       "      <td>1.952320e+08</td>\n",
       "      <td>1.952331e+08</td>\n",
       "      <td>2950.000000</td>\n",
       "      <td>17.592900</td>\n",
       "      <td>298.922850</td>\n",
       "      <td>295.039490</td>\n",
       "      <td>5406.000000</td>\n",
       "    </tr>\n",
       "  </tbody>\n",
       "</table>\n",
       "</div>"
      ],
      "text/plain": [
       "              start           end         score            fc       neglogp  \\\n",
       "count  8.290200e+04  8.290200e+04  82902.000000  82902.000000  82902.000000   \n",
       "mean   7.474784e+07  7.474873e+07    165.733300      4.345791     18.603464   \n",
       "std    4.395640e+07  4.395640e+07    225.955258      1.736312     22.839966   \n",
       "min    8.085650e+05  8.102000e+05     20.000000      1.586580      3.482290   \n",
       "25%    3.688139e+07  3.688208e+07     39.000000      3.028540      5.757837   \n",
       "50%    7.251729e+07  7.251784e+07     80.000000      3.824855      9.972725   \n",
       "75%    1.075940e+08  1.075951e+08    191.000000      5.201398     21.297007   \n",
       "max    1.952320e+08  1.952331e+08   2950.000000     17.592900    298.922850   \n",
       "\n",
       "            neglogq           len  \n",
       "count  82902.000000  82902.000000  \n",
       "mean      16.623200    888.622542  \n",
       "std       22.595563    564.041695  \n",
       "min        2.000030    250.000000  \n",
       "25%        3.972822    469.000000  \n",
       "50%        8.065150    722.000000  \n",
       "75%       19.195873   1160.000000  \n",
       "max      295.039490   5406.000000  "
      ]
     },
     "execution_count": 54,
     "metadata": {},
     "output_type": "execute_result"
    }
   ],
   "source": [
    "IRI1A.describe()"
   ]
  },
  {
   "cell_type": "code",
   "execution_count": 55,
   "metadata": {},
   "outputs": [
    {
     "data": {
      "text/plain": [
       "<matplotlib.collections.PathCollection at 0x7f61ecee38d0>"
      ]
     },
     "execution_count": 55,
     "metadata": {},
     "output_type": "execute_result"
    },
    {
     "data": {
      "image/png": "[encoded data removed]",
      "text/plain": [
       "<Figure size 432x288 with 1 Axes>"
      ]
     },
     "metadata": {
      "needs_background": "light"
     },
     "output_type": "display_data"
    }
   ],
   "source": [
    "plt.scatter(np.log2(IRI1A.fc), IRI1A.neglogq)"
   ]
  },
  {
   "cell_type": "code",
   "execution_count": 40,
   "metadata": {},
   "outputs": [],
   "source": [
    "import rpy2.ipython\n",
    "%reload_ext rpy2.ipython\n",
    "\n",
    "# suppress excessive warnings such as RRuntimeWarning\n",
    "import warnings\n",
    "from rpy2.rinterface import RRuntimeWarning\n",
    "warnings.filterwarnings(\"ignore\", category=RRuntimeWarning)"
   ]
  },
  {
   "cell_type": "code",
   "execution_count": 41,
   "metadata": {},
   "outputs": [],
   "source": [
    "%%R\n",
    "library(UpSetR)"
   ]
  },
  {
   "cell_type": "code",
   "execution_count": 44,
   "metadata": {},
   "outputs": [],
   "source": [
    "%%R\n",
    "mutations <- read.csv( system.file(\"extdata\", \"mutations.csv\", package = \"UpSetR\"), header=T, sep = \",\")"
   ]
  },
  {
   "cell_type": "code",
   "execution_count": 51,
   "metadata": {},
   "outputs": [
    {
     "data": {
      "text/plain": [
       "  Identifier TTN PTEN TP53 EGFR MUC16 FLG RYR2 PCLO PIK3R1 PIK3CA NF1 MUC17\n",
       "1    02-0003   0    0    1    1     0   0    0    0      1      0   0     1\n",
       "2    02-0033   0    0    1    0     0   0    0    0      0      1   1     0\n",
       "3    02-0047   0    0    0    0     0   0    1    0      0      1   0     0\n",
       "  HMCN1 SPTA1 USH2A RB1 PKHD1 OBSCN AHNAK2 RYR3 RELN FRAS1 GPR98 DNAH5 ATRX\n",
       "1     0     0     0   0     0     0      0    0    0     0     0     1    0\n",
       "2     0     0     0   1     0     0      0    0    0     0     0     0    0\n",
       "3     0     0     0   0     0     0      0    1    0     0     0     0    0\n",
       "  APOB TCHH SYNE1 LRP2 KEL HRNR DNAH3 COL6A3 MUC5B LAMA1 DSP DNAH8 CNTNAP2 SDK1\n",
       "1    0    0     0    0   0    0     0      0     0     0   0     0       0    0\n",
       "2    0    0     0    0   0    0     0      0     0     0   0     0       0    0\n",
       "3    0    0     0    0   0    0     0      0     0     0   0     0       0    0\n",
       "  NBPF10 DNAH2 NLRP5 MLL3 IDH1 HCN1 FCGBP DOCK5 RIMS2 PCDHA1 MXRA5 HEATR7B2\n",
       "1      0     0     1    0    0    0     0     0     0      0     0        0\n",
       "2      0     0     0    0    0    0     0     0     0      1     0        0\n",
       "3      1     0     0    0    0    0     0     0     0      0     0        0\n",
       "  GRIN2A FGD5 TMEM132D STAG2 SEMA3C SCN9A PRDM9 POM121L12 PIK3CG PDGFRA GABRA6\n",
       "1      0    0        0     0      0     0     0         0      0      0      0\n",
       "2      0    0        0     0      1     0     0         0      0      0      0\n",
       "3      0    0        0     0      0     0     0         0      0      1      0\n",
       "  FLG2 FBN3 FBN2 FAT2 DNAH11 DMD COL1A2 ABCC9 XIRP2 TSHZ2 TEX15 SLIT3 RBM47\n",
       "1    0    0    0    0      0   0      0     0     0     1     0     0     0\n",
       "2    0    0    0    0      0   0      0     0     0     0     0     0     0\n",
       "3    0    0    0    0      0   0      0     0     0     0     0     0     0\n",
       "  PIK3C2G PCDH11X MYH2 MACF1 KSR2 DNAH9 DCHS2 CSMD3 CDH18 BCOR AHNAK ZAN TRRAP\n",
       "1       0       0    0     0    0     0     0     0     0    0     0   0     0\n",
       "2       0       0    0     0    0     0     0     0     0    0     0   0     0\n",
       "3       0       0    0     0    0     0     0     0     0    0     0   0     0\n",
       "  THSD7B TAF1L SPAG17 SLCO5A1 SCN10A RYR1 RIMBP2 PLEKHG4B PCDHB7 NPTX2 NOS1\n",
       "1      0     0      0       0      0    0      0        0      0     0    0\n",
       "2      0     0      0       0      0    0      0        0      0     0    0\n",
       "3      0     0      0       0      0    0      0        0      0     0    0\n",
       "  LZTR1\n",
       "1     0\n",
       "2     0\n",
       "3     0\n"
      ]
     },
     "metadata": {},
     "output_type": "display_data"
    }
   ],
   "source": [
    "%%R\n",
    "head(mutations, n=3)"
   ]
  },
  {
   "cell_type": "code",
   "execution_count": 49,
   "metadata": {},
   "outputs": [
    {
     "data": {
      "image/png": "[encoded data removed]"
     },
     "metadata": {},
     "output_type": "display_data"
    }
   ],
   "source": [
    "%%R -h 300 -w 500 -u px\n",
    "upset(mutations, sets = c(\"PTEN\", \"TP53\", \"EGFR\", \"PIK3R1\", \"RB1\"), sets.bar.color = \"#56B4E9\",\n",
    "order.by = \"freq\", empty.intersections = \"on\")"
   ]
  }
 ],
 "metadata": {
  "kernelspec": {
   "display_name": "Python 3",
   "language": "python",
   "name": "python3"
  },
  "language_info": {
   "codemirror_mode": {
    "name": "ipython",
    "version": 3
   },
   "file_extension": ".py",
   "mimetype": "text/x-python",
   "name": "python",
   "nbconvert_exporter": "python",
   "pygments_lexer": "ipython3",
   "version": "3.6.7"
  }
 },
 "nbformat": 4,
 "nbformat_minor": 2
}
